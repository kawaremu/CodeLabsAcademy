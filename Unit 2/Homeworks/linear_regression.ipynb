{
 "cells": [
  {
   "cell_type": "markdown",
   "metadata": {},
   "source": [
    "Create a linear regression model in which the weight is the dependent model and the rest of the variables are independent (minus the species).\n",
    "\n",
    "\n",
    "\n",
    "Measure the quality of your model using the R² score."
   ]
  },
  {
   "cell_type": "markdown",
   "metadata": {},
   "source": []
  }
 ],
 "metadata": {
  "language_info": {
   "name": "python"
  },
  "orig_nbformat": 4
 },
 "nbformat": 4,
 "nbformat_minor": 2
}
