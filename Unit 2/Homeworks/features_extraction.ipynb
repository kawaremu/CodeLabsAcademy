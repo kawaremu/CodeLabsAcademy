{
 "cells": [
  {
   "cell_type": "markdown",
   "metadata": {},
   "source": [
    "What is the type of the input and output variables?\n",
    "\n",
    "What is the most suited method for feature selection for these types of variables?\n",
    "\n",
    "Create a notebook and perform feature selection on the dataset"
   ]
  },
  {
   "cell_type": "markdown",
   "metadata": {},
   "source": []
  }
 ],
 "metadata": {
  "language_info": {
   "name": "python"
  },
  "orig_nbformat": 4
 },
 "nbformat": 4,
 "nbformat_minor": 2
}
