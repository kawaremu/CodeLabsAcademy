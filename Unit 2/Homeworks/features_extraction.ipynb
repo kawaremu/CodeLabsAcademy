{
 "cells": [
  {
   "cell_type": "markdown",
   "metadata": {},
   "source": [
    "# What is feature extraction?\n",
    "Feature selection is the process of reducing the number of input variables when developing a predictive model.\n",
    "\n",
    "\n",
    "Feature selection methods are intended to reduce the number of input variables to those that are believed to be most useful to a model in order to predict the target variable.\n",
    "\n",
    "It is desirable to reduce the number of input variables to both reduce the computational cost of modeling and, in some cases, to improve the performance of the model.\n",
    "\n",
    "*Some predictive modeling problems have a large number of variables that can slow the development and training of models and require a large amount of system memory. Additionally, the performance of some models can degrade when including input variables that are not relevant to the target variable.*\n",
    "\n",
    "There are two main types of feature selection techniques: supervised and unsupervised, and supervised methods may be divided into wrapper, filter and intrinsic.\n",
    "\n",
    "There are two types of features :\n",
    "\n",
    "- **Useful features**: they provide more information and helps make our model more accurate.\n",
    "\n",
    "\n",
    "- **Useless features** : they don’t provide any useful information and might even deteriorate our model (They can be non helpful, false or duplicates).\n",
    "\n",
    "Selecting the right features is a crucial step to obtain an accurate model.\n",
    "\n",
    "There are three main feature selection families :\n",
    "\n",
    "- **Filter methods** : based on statistical tests. Filter-based feature selection methods use statistical measures to score the correlation or dependence between input variables that can be filtered to choose the most relevant features.\n",
    "\n",
    "- **Wrapper methods** : generate all the possible combinations and create a model for each one and keep the best.\n",
    "\n",
    "\n",
    "- **Embedded methods** : integrate the feature selection in the training process.\n",
    "\n",
    "<center><img scr=\"https://machinelearningmastery.com/wp-content/uploads/2019/11/How-to-Choose-Feature-Selection-Methods-For-Machine-Learning.png\" width=\"400\">\n",
    "</center>\n"
   ]
  },
  {
   "cell_type": "markdown",
   "metadata": {},
   "source": [
    "## 1. Filter method\n",
    "\n",
    "### Numerical Input, Numerical Output\n",
    "\n",
    "This is a regression predictive modeling problem with numerical input variables.\n",
    "\n",
    "The most common techniques are to use a correlation coefficient, such as Pearson’s for a linear correlation, or rank-based methods for a nonlinear correlation.\n",
    "\n",
    "- Pearson’s correlation coefficient (linear)\n",
    "\n",
    "- Spearman’s rank coefficient (nonlinear)"
   ]
  },
  {
   "cell_type": "code",
   "execution_count": 1,
   "metadata": {},
   "outputs": [],
   "source": [
    "import pandas as pd\n",
    "import matplotlib.pyplot as plt\n",
    "import seaborn as sns\n",
    "import numpy as np"
   ]
  },
  {
   "cell_type": "markdown",
   "metadata": {},
   "source": [
    "We're gonna use the housing dataset of California."
   ]
  },
  {
   "cell_type": "code",
   "execution_count": 2,
   "metadata": {},
   "outputs": [],
   "source": [
    "df_housing = pd.read_csv('data/housing.csv')"
   ]
  },
  {
   "cell_type": "code",
   "execution_count": 3,
   "metadata": {},
   "outputs": [
    {
     "data": {
      "text/html": [
       "<div>\n",
       "<style scoped>\n",
       "    .dataframe tbody tr th:only-of-type {\n",
       "        vertical-align: middle;\n",
       "    }\n",
       "\n",
       "    .dataframe tbody tr th {\n",
       "        vertical-align: top;\n",
       "    }\n",
       "\n",
       "    .dataframe thead th {\n",
       "        text-align: right;\n",
       "    }\n",
       "</style>\n",
       "<table border=\"1\" class=\"dataframe\">\n",
       "  <thead>\n",
       "    <tr style=\"text-align: right;\">\n",
       "      <th></th>\n",
       "      <th>longitude</th>\n",
       "      <th>latitude</th>\n",
       "      <th>housing_median_age</th>\n",
       "      <th>total_rooms</th>\n",
       "      <th>total_bedrooms</th>\n",
       "      <th>population</th>\n",
       "      <th>households</th>\n",
       "      <th>median_income</th>\n",
       "      <th>median_house_value</th>\n",
       "      <th>ocean_proximity</th>\n",
       "    </tr>\n",
       "  </thead>\n",
       "  <tbody>\n",
       "    <tr>\n",
       "      <th>0</th>\n",
       "      <td>-122.23</td>\n",
       "      <td>37.88</td>\n",
       "      <td>41.0</td>\n",
       "      <td>880.0</td>\n",
       "      <td>129.0</td>\n",
       "      <td>322.0</td>\n",
       "      <td>126.0</td>\n",
       "      <td>8.3252</td>\n",
       "      <td>452600.0</td>\n",
       "      <td>NEAR BAY</td>\n",
       "    </tr>\n",
       "    <tr>\n",
       "      <th>1</th>\n",
       "      <td>-122.22</td>\n",
       "      <td>37.86</td>\n",
       "      <td>21.0</td>\n",
       "      <td>7099.0</td>\n",
       "      <td>1106.0</td>\n",
       "      <td>2401.0</td>\n",
       "      <td>1138.0</td>\n",
       "      <td>8.3014</td>\n",
       "      <td>358500.0</td>\n",
       "      <td>NEAR BAY</td>\n",
       "    </tr>\n",
       "    <tr>\n",
       "      <th>2</th>\n",
       "      <td>-122.24</td>\n",
       "      <td>37.85</td>\n",
       "      <td>52.0</td>\n",
       "      <td>1467.0</td>\n",
       "      <td>190.0</td>\n",
       "      <td>496.0</td>\n",
       "      <td>177.0</td>\n",
       "      <td>7.2574</td>\n",
       "      <td>352100.0</td>\n",
       "      <td>NEAR BAY</td>\n",
       "    </tr>\n",
       "    <tr>\n",
       "      <th>3</th>\n",
       "      <td>-122.25</td>\n",
       "      <td>37.85</td>\n",
       "      <td>52.0</td>\n",
       "      <td>1274.0</td>\n",
       "      <td>235.0</td>\n",
       "      <td>558.0</td>\n",
       "      <td>219.0</td>\n",
       "      <td>5.6431</td>\n",
       "      <td>341300.0</td>\n",
       "      <td>NEAR BAY</td>\n",
       "    </tr>\n",
       "    <tr>\n",
       "      <th>4</th>\n",
       "      <td>-122.25</td>\n",
       "      <td>37.85</td>\n",
       "      <td>52.0</td>\n",
       "      <td>1627.0</td>\n",
       "      <td>280.0</td>\n",
       "      <td>565.0</td>\n",
       "      <td>259.0</td>\n",
       "      <td>3.8462</td>\n",
       "      <td>342200.0</td>\n",
       "      <td>NEAR BAY</td>\n",
       "    </tr>\n",
       "  </tbody>\n",
       "</table>\n",
       "</div>"
      ],
      "text/plain": [
       "   longitude  latitude  housing_median_age  total_rooms  total_bedrooms  \\\n",
       "0    -122.23     37.88                41.0        880.0           129.0   \n",
       "1    -122.22     37.86                21.0       7099.0          1106.0   \n",
       "2    -122.24     37.85                52.0       1467.0           190.0   \n",
       "3    -122.25     37.85                52.0       1274.0           235.0   \n",
       "4    -122.25     37.85                52.0       1627.0           280.0   \n",
       "\n",
       "   population  households  median_income  median_house_value ocean_proximity  \n",
       "0       322.0       126.0         8.3252            452600.0        NEAR BAY  \n",
       "1      2401.0      1138.0         8.3014            358500.0        NEAR BAY  \n",
       "2       496.0       177.0         7.2574            352100.0        NEAR BAY  \n",
       "3       558.0       219.0         5.6431            341300.0        NEAR BAY  \n",
       "4       565.0       259.0         3.8462            342200.0        NEAR BAY  "
      ]
     },
     "execution_count": 3,
     "metadata": {},
     "output_type": "execute_result"
    }
   ],
   "source": [
    "df_housing.head()"
   ]
  },
  {
   "cell_type": "code",
   "execution_count": 4,
   "metadata": {},
   "outputs": [
    {
     "name": "stdout",
     "output_type": "stream",
     "text": [
      "<class 'pandas.core.frame.DataFrame'>\n",
      "RangeIndex: 20640 entries, 0 to 20639\n",
      "Data columns (total 10 columns):\n",
      " #   Column              Non-Null Count  Dtype  \n",
      "---  ------              --------------  -----  \n",
      " 0   longitude           20640 non-null  float64\n",
      " 1   latitude            20640 non-null  float64\n",
      " 2   housing_median_age  20640 non-null  float64\n",
      " 3   total_rooms         20640 non-null  float64\n",
      " 4   total_bedrooms      20433 non-null  float64\n",
      " 5   population          20640 non-null  float64\n",
      " 6   households          20640 non-null  float64\n",
      " 7   median_income       20640 non-null  float64\n",
      " 8   median_house_value  20640 non-null  float64\n",
      " 9   ocean_proximity     20640 non-null  object \n",
      "dtypes: float64(9), object(1)\n",
      "memory usage: 1.6+ MB\n"
     ]
    }
   ],
   "source": [
    "df_housing.info()"
   ]
  },
  {
   "cell_type": "code",
   "execution_count": 5,
   "metadata": {},
   "outputs": [
    {
     "data": {
      "text/plain": [
       "array(['NEAR BAY', '<1H OCEAN', 'INLAND', 'NEAR OCEAN', 'ISLAND'],\n",
       "      dtype=object)"
      ]
     },
     "execution_count": 5,
     "metadata": {},
     "output_type": "execute_result"
    }
   ],
   "source": [
    "df_housing.ocean_proximity.unique()"
   ]
  },
  {
   "cell_type": "code",
   "execution_count": 6,
   "metadata": {},
   "outputs": [],
   "source": [
    "cols = list(df_housing.columns)\n",
    "cols.remove('ocean_proximity')"
   ]
  },
  {
   "cell_type": "markdown",
   "metadata": {},
   "source": [
    "We have to remove categorical values. We could have changed that to a category with associations but let's just remove it."
   ]
  },
  {
   "cell_type": "code",
   "execution_count": 7,
   "metadata": {},
   "outputs": [],
   "source": [
    "df_numerical = df_housing[cols]"
   ]
  },
  {
   "cell_type": "code",
   "execution_count": 8,
   "metadata": {},
   "outputs": [
    {
     "data": {
      "text/html": [
       "<div>\n",
       "<style scoped>\n",
       "    .dataframe tbody tr th:only-of-type {\n",
       "        vertical-align: middle;\n",
       "    }\n",
       "\n",
       "    .dataframe tbody tr th {\n",
       "        vertical-align: top;\n",
       "    }\n",
       "\n",
       "    .dataframe thead th {\n",
       "        text-align: right;\n",
       "    }\n",
       "</style>\n",
       "<table border=\"1\" class=\"dataframe\">\n",
       "  <thead>\n",
       "    <tr style=\"text-align: right;\">\n",
       "      <th></th>\n",
       "      <th>longitude</th>\n",
       "      <th>latitude</th>\n",
       "      <th>housing_median_age</th>\n",
       "      <th>total_rooms</th>\n",
       "      <th>total_bedrooms</th>\n",
       "      <th>population</th>\n",
       "      <th>households</th>\n",
       "      <th>median_income</th>\n",
       "      <th>median_house_value</th>\n",
       "    </tr>\n",
       "  </thead>\n",
       "  <tbody>\n",
       "    <tr>\n",
       "      <th>0</th>\n",
       "      <td>-122.23</td>\n",
       "      <td>37.88</td>\n",
       "      <td>41.0</td>\n",
       "      <td>880.0</td>\n",
       "      <td>129.0</td>\n",
       "      <td>322.0</td>\n",
       "      <td>126.0</td>\n",
       "      <td>8.3252</td>\n",
       "      <td>452600.0</td>\n",
       "    </tr>\n",
       "    <tr>\n",
       "      <th>1</th>\n",
       "      <td>-122.22</td>\n",
       "      <td>37.86</td>\n",
       "      <td>21.0</td>\n",
       "      <td>7099.0</td>\n",
       "      <td>1106.0</td>\n",
       "      <td>2401.0</td>\n",
       "      <td>1138.0</td>\n",
       "      <td>8.3014</td>\n",
       "      <td>358500.0</td>\n",
       "    </tr>\n",
       "    <tr>\n",
       "      <th>2</th>\n",
       "      <td>-122.24</td>\n",
       "      <td>37.85</td>\n",
       "      <td>52.0</td>\n",
       "      <td>1467.0</td>\n",
       "      <td>190.0</td>\n",
       "      <td>496.0</td>\n",
       "      <td>177.0</td>\n",
       "      <td>7.2574</td>\n",
       "      <td>352100.0</td>\n",
       "    </tr>\n",
       "    <tr>\n",
       "      <th>3</th>\n",
       "      <td>-122.25</td>\n",
       "      <td>37.85</td>\n",
       "      <td>52.0</td>\n",
       "      <td>1274.0</td>\n",
       "      <td>235.0</td>\n",
       "      <td>558.0</td>\n",
       "      <td>219.0</td>\n",
       "      <td>5.6431</td>\n",
       "      <td>341300.0</td>\n",
       "    </tr>\n",
       "    <tr>\n",
       "      <th>4</th>\n",
       "      <td>-122.25</td>\n",
       "      <td>37.85</td>\n",
       "      <td>52.0</td>\n",
       "      <td>1627.0</td>\n",
       "      <td>280.0</td>\n",
       "      <td>565.0</td>\n",
       "      <td>259.0</td>\n",
       "      <td>3.8462</td>\n",
       "      <td>342200.0</td>\n",
       "    </tr>\n",
       "  </tbody>\n",
       "</table>\n",
       "</div>"
      ],
      "text/plain": [
       "   longitude  latitude  housing_median_age  total_rooms  total_bedrooms  \\\n",
       "0    -122.23     37.88                41.0        880.0           129.0   \n",
       "1    -122.22     37.86                21.0       7099.0          1106.0   \n",
       "2    -122.24     37.85                52.0       1467.0           190.0   \n",
       "3    -122.25     37.85                52.0       1274.0           235.0   \n",
       "4    -122.25     37.85                52.0       1627.0           280.0   \n",
       "\n",
       "   population  households  median_income  median_house_value  \n",
       "0       322.0       126.0         8.3252            452600.0  \n",
       "1      2401.0      1138.0         8.3014            358500.0  \n",
       "2       496.0       177.0         7.2574            352100.0  \n",
       "3       558.0       219.0         5.6431            341300.0  \n",
       "4       565.0       259.0         3.8462            342200.0  "
      ]
     },
     "execution_count": 8,
     "metadata": {},
     "output_type": "execute_result"
    }
   ],
   "source": [
    "df_numerical.head()"
   ]
  },
  {
   "cell_type": "markdown",
   "metadata": {},
   "source": [
    "Correlation is a statistical term which in common usage refers to how close two variables are to having a linear relationship with each other.\n",
    "\n",
    "\n",
    "For example, two variables which are linearly dependent (say, $x$ and $y$ which depend on each other as $x = 2y$) will have a higher correlation than two variables which are non-linearly dependent (say, $u$ and $v$ which depend on each other as $u = v2$)"
   ]
  },
  {
   "cell_type": "code",
   "execution_count": 9,
   "metadata": {},
   "outputs": [],
   "source": [
    "corr = df_numerical.corr()"
   ]
  },
  {
   "cell_type": "code",
   "execution_count": 10,
   "metadata": {},
   "outputs": [
    {
     "data": {
      "text/plain": [
       "<AxesSubplot:>"
      ]
     },
     "execution_count": 10,
     "metadata": {},
     "output_type": "execute_result"
    },
    {
     "data": {
      "image/png": "[encoded data removed]",
      "image/svg+xml": "<?xml version=\"1.0\" encoding=\"utf-8\" standalone=\"no\"?>\r\n<!DOCTYPE svg PUBLIC \"-//W3C//DTD SVG 1.1//EN\"\r\n  \"http://www.w3.org/Graphics/SVG/1.1/DTD/svg11.dtd\">\r\n<!-- Created with matplotlib (https://matplotlib.org/) -->\r\n<svg height=\"565.662031pt\" version=\"1.1\" viewBox=\"0 0 649.152125 565.662031\" width=\"649.152125pt\" xmlns=\"http://www.w3.org/2000/svg\" xmlns:xlink=\"http://www.w3.org/1999/xlink\">\r\n <metadata>\r\n  <rdf:RDF xmlns:cc=\"http://creativecommons.org/ns#\" xmlns:dc=\"http://purl.org/dc/elements/1.1/\" xmlns:rdf=\"http://www.w3.org/1999/02/22-rdf-syntax-ns#\">\r\n   <cc:Work>\r\n    <dc:type rdf:resource=\"http://purl.org/dc/dcmitype/StillImage\"/>\r\n    <dc:date>2022-03-12T19:06:25.636184</dc:date>\r\n    <dc:format>image/svg+xml</dc:format>\r\n    <dc:creator>\r\n     <cc:Agent>\r\n      <dc:title>Matplotlib v3.3.4, https://matplotlib.org/</dc:title>\r\n     </cc:Agent>\r\n    </dc:creator>\r\n   </cc:Work>\r\n  </rdf:RDF>\r\n </metadata>\r\n <defs>\r\n  <style type=\"text/css\">*{stroke-linecap:butt;stroke-linejoin:round;}</style>\r\n </defs>\r\n <g id=\"figure_1\">\r\n  <g id=\"patch_1\">\r\n   <path d=\"M 0 565.662031 \r\nL 649.152125 565.662031 \r\nL 649.152125 0 \r\nL 0 0 \r\nz\r\n\" style=\"fill:none;\"/>\r\n  </g>\r\n  <g id=\"axes_1\">\r\n   <g id=\"patch_2\">\r\n    <path d=\"M 119.782813 445.879219 \r\nL 554.662813 445.879219 \r\nL 554.662813 10.999219 \r\nL 119.782813 10.999219 \r\nz\r\n\" style=\"fill:#ffffff;\"/>\r\n   </g>\r\n   <g id=\"QuadMesh_1\">\r\n    <path clip-path=\"url(#pa955bbeaf3)\" d=\"M 119.782813 10.999219 \r\nL 168.102813 10.999219 \r\nL 168.102813 59.319219 \r\nL 119.782813 59.319219 \r\nL 119.782813 10.999219 \r\n\" style=\"fill:#da3b46;\"/>\r\n    <path clip-path=\"url(#pa955bbeaf3)\" d=\"M 168.102813 10.999219 \r\nL 216.422813 10.999219 \r\nL 216.422813 59.319219 \r\nL 168.102813 59.319219 \r\nL 168.102813 10.999219 \r\n\" style=\"fill:#3f7f93;\"/>\r\n    <path clip-path=\"url(#pa955bbeaf3)\" d=\"M 216.422813 10.999219 \r\nL 264.742813 10.999219 \r\nL 264.742813 59.319219 \r\nL 216.422813 59.319219 \r\nL 216.422813 10.999219 \r\n\" style=\"fill:#d5e0e4;\"/>\r\n    <path clip-path=\"url(#pa955bbeaf3)\" d=\"M 264.742813 10.999219 \r\nL 313.062813 10.999219 \r\nL 313.062813 59.319219 \r\nL 264.742813 59.319219 \r\nL 264.742813 10.999219 \r\n\" style=\"fill:#f2f1f1;\"/>\r\n    <path clip-path=\"url(#pa955bbeaf3)\" d=\"M 313.062813 10.999219 \r\nL 361.382812 10.999219 \r\nL 361.382812 59.319219 \r\nL 313.062813 59.319219 \r\nL 313.062813 10.999219 \r\n\" style=\"fill:#f2ebeb;\"/>\r\n    <path clip-path=\"url(#pa955bbeaf3)\" d=\"M 361.382812 10.999219 \r\nL 409.702813 10.999219 \r\nL 409.702813 59.319219 \r\nL 361.382812 59.319219 \r\nL 361.382812 10.999219 \r\n\" style=\"fill:#f1e5e6;\"/>\r\n    <path clip-path=\"url(#pa955bbeaf3)\" d=\"M 409.702813 10.999219 \r\nL 458.022813 10.999219 \r\nL 458.022813 59.319219 \r\nL 409.702813 59.319219 \r\nL 409.702813 10.999219 \r\n\" style=\"fill:#f2eeee;\"/>\r\n    <path clip-path=\"url(#pa955bbeaf3)\" d=\"M 458.022813 10.999219 \r\nL 506.342813 10.999219 \r\nL 506.342813 59.319219 \r\nL 458.022813 59.319219 \r\nL 458.022813 10.999219 \r\n\" style=\"fill:#e6ebed;\"/>\r\n    <path clip-path=\"url(#pa955bbeaf3)\" d=\"M 506.342813 10.999219 \r\nL 554.662813 10.999219 \r\nL 554.662813 59.319219 \r\nL 506.342813 59.319219 \r\nL 506.342813 10.999219 \r\n\" style=\"fill:#e0e8ea;\"/>\r\n    <path clip-path=\"url(#pa955bbeaf3)\" d=\"M 119.782813 59.319219 \r\nL 168.102813 59.319219 \r\nL 168.102813 107.639219 \r\nL 119.782813 107.639219 \r\nL 119.782813 59.319219 \r\n\" style=\"fill:#3f7f93;\"/>\r\n    <path clip-path=\"url(#pa955bbeaf3)\" d=\"M 168.102813 59.319219 \r\nL 216.422813 59.319219 \r\nL 216.422813 107.639219 \r\nL 168.102813 107.639219 \r\nL 168.102813 59.319219 \r\n\" style=\"fill:#da3b46;\"/>\r\n    <path clip-path=\"url(#pa955bbeaf3)\" d=\"M 216.422813 59.319219 \r\nL 264.742813 59.319219 \r\nL 264.742813 107.639219 \r\nL 216.422813 107.639219 \r\nL 216.422813 59.319219 \r\n\" style=\"fill:#ebeff0;\"/>\r\n    <path clip-path=\"url(#pa955bbeaf3)\" d=\"M 264.742813 59.319219 \r\nL 313.062813 59.319219 \r\nL 313.062813 107.639219 \r\nL 264.742813 107.639219 \r\nL 264.742813 59.319219 \r\n\" style=\"fill:#e3e9ec;\"/>\r\n    <path clip-path=\"url(#pa955bbeaf3)\" d=\"M 313.062813 59.319219 \r\nL 361.382812 59.319219 \r\nL 361.382812 107.639219 \r\nL 313.062813 107.639219 \r\nL 313.062813 59.319219 \r\n\" style=\"fill:#dde6e9;\"/>\r\n    <path clip-path=\"url(#pa955bbeaf3)\" d=\"M 361.382812 59.319219 \r\nL 409.702813 59.319219 \r\nL 409.702813 107.639219 \r\nL 361.382812 107.639219 \r\nL 361.382812 59.319219 \r\n\" style=\"fill:#d5e0e4;\"/>\r\n    <path clip-path=\"url(#pa955bbeaf3)\" d=\"M 409.702813 59.319219 \r\nL 458.022813 59.319219 \r\nL 458.022813 107.639219 \r\nL 409.702813 107.639219 \r\nL 409.702813 59.319219 \r\n\" style=\"fill:#dce5e8;\"/>\r\n    <path clip-path=\"url(#pa955bbeaf3)\" d=\"M 458.022813 59.319219 \r\nL 506.342813 59.319219 \r\nL 506.342813 107.639219 \r\nL 458.022813 107.639219 \r\nL 458.022813 59.319219 \r\n\" style=\"fill:#dae4e7;\"/>\r\n    <path clip-path=\"url(#pa955bbeaf3)\" d=\"M 506.342813 59.319219 \r\nL 554.662813 59.319219 \r\nL 554.662813 107.639219 \r\nL 506.342813 107.639219 \r\nL 506.342813 59.319219 \r\n\" style=\"fill:#cedce1;\"/>\r\n    <path clip-path=\"url(#pa955bbeaf3)\" d=\"M 119.782813 107.639219 \r\nL 168.102813 107.639219 \r\nL 168.102813 155.959219 \r\nL 119.782813 155.959219 \r\nL 119.782813 107.639219 \r\n\" style=\"fill:#d5e0e4;\"/>\r\n    <path clip-path=\"url(#pa955bbeaf3)\" d=\"M 168.102813 107.639219 \r\nL 216.422813 107.639219 \r\nL 216.422813 155.959219 \r\nL 168.102813 155.959219 \r\nL 168.102813 107.639219 \r\n\" style=\"fill:#ebeff0;\"/>\r\n    <path clip-path=\"url(#pa955bbeaf3)\" d=\"M 216.422813 107.639219 \r\nL 264.742813 107.639219 \r\nL 264.742813 155.959219 \r\nL 216.422813 155.959219 \r\nL 216.422813 107.639219 \r\n\" style=\"fill:#da3b46;\"/>\r\n    <path clip-path=\"url(#pa955bbeaf3)\" d=\"M 264.742813 107.639219 \r\nL 313.062813 107.639219 \r\nL 313.062813 155.959219 \r\nL 264.742813 155.959219 \r\nL 264.742813 107.639219 \r\n\" style=\"fill:#a6c2cb;\"/>\r\n    <path clip-path=\"url(#pa955bbeaf3)\" d=\"M 313.062813 107.639219 \r\nL 361.382812 107.639219 \r\nL 361.382812 155.959219 \r\nL 313.062813 155.959219 \r\nL 313.062813 107.639219 \r\n\" style=\"fill:#aec7cf;\"/>\r\n    <path clip-path=\"url(#pa955bbeaf3)\" d=\"M 361.382812 107.639219 \r\nL 409.702813 107.639219 \r\nL 409.702813 155.959219 \r\nL 361.382812 155.959219 \r\nL 361.382812 107.639219 \r\n\" style=\"fill:#b2cad2;\"/>\r\n    <path clip-path=\"url(#pa955bbeaf3)\" d=\"M 409.702813 107.639219 \r\nL 458.022813 107.639219 \r\nL 458.022813 155.959219 \r\nL 409.702813 155.959219 \r\nL 409.702813 107.639219 \r\n\" style=\"fill:#b1c9d1;\"/>\r\n    <path clip-path=\"url(#pa955bbeaf3)\" d=\"M 458.022813 107.639219 \r\nL 506.342813 107.639219 \r\nL 506.342813 155.959219 \r\nL 458.022813 155.959219 \r\nL 458.022813 107.639219 \r\n\" style=\"fill:#d4e0e4;\"/>\r\n    <path clip-path=\"url(#pa955bbeaf3)\" d=\"M 506.342813 107.639219 \r\nL 554.662813 107.639219 \r\nL 554.662813 155.959219 \r\nL 506.342813 155.959219 \r\nL 506.342813 107.639219 \r\n\" style=\"fill:#f1e4e5;\"/>\r\n    <path clip-path=\"url(#pa955bbeaf3)\" d=\"M 119.782813 155.959219 \r\nL 168.102813 155.959219 \r\nL 168.102813 204.279219 \r\nL 119.782813 204.279219 \r\nL 119.782813 155.959219 \r\n\" style=\"fill:#f2f1f1;\"/>\r\n    <path clip-path=\"url(#pa955bbeaf3)\" d=\"M 168.102813 155.959219 \r\nL 216.422813 155.959219 \r\nL 216.422813 204.279219 \r\nL 168.102813 204.279219 \r\nL 168.102813 155.959219 \r\n\" style=\"fill:#e3e9ec;\"/>\r\n    <path clip-path=\"url(#pa955bbeaf3)\" d=\"M 216.422813 155.959219 \r\nL 264.742813 155.959219 \r\nL 264.742813 204.279219 \r\nL 216.422813 204.279219 \r\nL 216.422813 155.959219 \r\n\" style=\"fill:#a6c2cb;\"/>\r\n    <path clip-path=\"url(#pa955bbeaf3)\" d=\"M 264.742813 155.959219 \r\nL 313.062813 155.959219 \r\nL 313.062813 204.279219 \r\nL 264.742813 204.279219 \r\nL 264.742813 155.959219 \r\n\" style=\"fill:#da3b46;\"/>\r\n    <path clip-path=\"url(#pa955bbeaf3)\" d=\"M 313.062813 155.959219 \r\nL 361.382812 155.959219 \r\nL 361.382812 204.279219 \r\nL 313.062813 204.279219 \r\nL 313.062813 155.959219 \r\n\" style=\"fill:#dc4752;\"/>\r\n    <path clip-path=\"url(#pa955bbeaf3)\" d=\"M 361.382812 155.959219 \r\nL 409.702813 155.959219 \r\nL 409.702813 204.279219 \r\nL 361.382812 204.279219 \r\nL 361.382812 155.959219 \r\n\" style=\"fill:#de5660;\"/>\r\n    <path clip-path=\"url(#pa955bbeaf3)\" d=\"M 409.702813 155.959219 \r\nL 458.022813 155.959219 \r\nL 458.022813 204.279219 \r\nL 409.702813 204.279219 \r\nL 409.702813 155.959219 \r\n\" style=\"fill:#dc4954;\"/>\r\n    <path clip-path=\"url(#pa955bbeaf3)\" d=\"M 458.022813 155.959219 \r\nL 506.342813 155.959219 \r\nL 506.342813 204.279219 \r\nL 458.022813 204.279219 \r\nL 458.022813 155.959219 \r\n\" style=\"fill:#eed3d5;\"/>\r\n    <path clip-path=\"url(#pa955bbeaf3)\" d=\"M 506.342813 155.959219 \r\nL 554.662813 155.959219 \r\nL 554.662813 204.279219 \r\nL 506.342813 204.279219 \r\nL 506.342813 155.959219 \r\n\" style=\"fill:#f0e0e1;\"/>\r\n    <path clip-path=\"url(#pa955bbeaf3)\" d=\"M 119.782813 204.279219 \r\nL 168.102813 204.279219 \r\nL 168.102813 252.599219 \r\nL 119.782813 252.599219 \r\nL 119.782813 204.279219 \r\n\" style=\"fill:#f2ebeb;\"/>\r\n    <path clip-path=\"url(#pa955bbeaf3)\" d=\"M 168.102813 204.279219 \r\nL 216.422813 204.279219 \r\nL 216.422813 252.599219 \r\nL 168.102813 252.599219 \r\nL 168.102813 204.279219 \r\n\" style=\"fill:#dde6e9;\"/>\r\n    <path clip-path=\"url(#pa955bbeaf3)\" d=\"M 216.422813 204.279219 \r\nL 264.742813 204.279219 \r\nL 264.742813 252.599219 \r\nL 216.422813 252.599219 \r\nL 216.422813 204.279219 \r\n\" style=\"fill:#aec7cf;\"/>\r\n    <path clip-path=\"url(#pa955bbeaf3)\" d=\"M 264.742813 204.279219 \r\nL 313.062813 204.279219 \r\nL 313.062813 252.599219 \r\nL 264.742813 252.599219 \r\nL 264.742813 204.279219 \r\n\" style=\"fill:#dc4752;\"/>\r\n    <path clip-path=\"url(#pa955bbeaf3)\" d=\"M 313.062813 204.279219 \r\nL 361.382812 204.279219 \r\nL 361.382812 252.599219 \r\nL 313.062813 252.599219 \r\nL 313.062813 204.279219 \r\n\" style=\"fill:#da3b46;\"/>\r\n    <path clip-path=\"url(#pa955bbeaf3)\" d=\"M 361.382812 204.279219 \r\nL 409.702813 204.279219 \r\nL 409.702813 252.599219 \r\nL 361.382812 252.599219 \r\nL 361.382812 204.279219 \r\n\" style=\"fill:#dd515c;\"/>\r\n    <path clip-path=\"url(#pa955bbeaf3)\" d=\"M 409.702813 204.279219 \r\nL 458.022813 204.279219 \r\nL 458.022813 252.599219 \r\nL 409.702813 252.599219 \r\nL 409.702813 204.279219 \r\n\" style=\"fill:#da3d49;\"/>\r\n    <path clip-path=\"url(#pa955bbeaf3)\" d=\"M 458.022813 204.279219 \r\nL 506.342813 204.279219 \r\nL 506.342813 252.599219 \r\nL 458.022813 252.599219 \r\nL 458.022813 204.279219 \r\n\" style=\"fill:#e7ecee;\"/>\r\n    <path clip-path=\"url(#pa955bbeaf3)\" d=\"M 506.342813 204.279219 \r\nL 554.662813 204.279219 \r\nL 554.662813 252.599219 \r\nL 506.342813 252.599219 \r\nL 506.342813 204.279219 \r\n\" style=\"fill:#f2efef;\"/>\r\n    <path clip-path=\"url(#pa955bbeaf3)\" d=\"M 119.782813 252.599219 \r\nL 168.102813 252.599219 \r\nL 168.102813 300.919219 \r\nL 119.782813 300.919219 \r\nL 119.782813 252.599219 \r\n\" style=\"fill:#f1e5e6;\"/>\r\n    <path clip-path=\"url(#pa955bbeaf3)\" d=\"M 168.102813 252.599219 \r\nL 216.422813 252.599219 \r\nL 216.422813 300.919219 \r\nL 168.102813 300.919219 \r\nL 168.102813 252.599219 \r\n\" style=\"fill:#d5e0e4;\"/>\r\n    <path clip-path=\"url(#pa955bbeaf3)\" d=\"M 216.422813 252.599219 \r\nL 264.742813 252.599219 \r\nL 264.742813 300.919219 \r\nL 216.422813 300.919219 \r\nL 216.422813 252.599219 \r\n\" style=\"fill:#b2cad2;\"/>\r\n    <path clip-path=\"url(#pa955bbeaf3)\" d=\"M 264.742813 252.599219 \r\nL 313.062813 252.599219 \r\nL 313.062813 300.919219 \r\nL 264.742813 300.919219 \r\nL 264.742813 252.599219 \r\n\" style=\"fill:#de5660;\"/>\r\n    <path clip-path=\"url(#pa955bbeaf3)\" d=\"M 313.062813 252.599219 \r\nL 361.382812 252.599219 \r\nL 361.382812 300.919219 \r\nL 313.062813 300.919219 \r\nL 313.062813 252.599219 \r\n\" style=\"fill:#dd515c;\"/>\r\n    <path clip-path=\"url(#pa955bbeaf3)\" d=\"M 361.382812 252.599219 \r\nL 409.702813 252.599219 \r\nL 409.702813 300.919219 \r\nL 361.382812 300.919219 \r\nL 361.382812 252.599219 \r\n\" style=\"fill:#da3b46;\"/>\r\n    <path clip-path=\"url(#pa955bbeaf3)\" d=\"M 409.702813 252.599219 \r\nL 458.022813 252.599219 \r\nL 458.022813 300.919219 \r\nL 409.702813 300.919219 \r\nL 409.702813 252.599219 \r\n\" style=\"fill:#dc4c56;\"/>\r\n    <path clip-path=\"url(#pa955bbeaf3)\" d=\"M 458.022813 252.599219 \r\nL 506.342813 252.599219 \r\nL 506.342813 300.919219 \r\nL 458.022813 300.919219 \r\nL 458.022813 252.599219 \r\n\" style=\"fill:#eaeef0;\"/>\r\n    <path clip-path=\"url(#pa955bbeaf3)\" d=\"M 506.342813 252.599219 \r\nL 554.662813 252.599219 \r\nL 554.662813 300.919219 \r\nL 506.342813 300.919219 \r\nL 506.342813 252.599219 \r\n\" style=\"fill:#e4eaed;\"/>\r\n    <path clip-path=\"url(#pa955bbeaf3)\" d=\"M 119.782813 300.919219 \r\nL 168.102813 300.919219 \r\nL 168.102813 349.239219 \r\nL 119.782813 349.239219 \r\nL 119.782813 300.919219 \r\n\" style=\"fill:#f2eeee;\"/>\r\n    <path clip-path=\"url(#pa955bbeaf3)\" d=\"M 168.102813 300.919219 \r\nL 216.422813 300.919219 \r\nL 216.422813 349.239219 \r\nL 168.102813 349.239219 \r\nL 168.102813 300.919219 \r\n\" style=\"fill:#dce5e8;\"/>\r\n    <path clip-path=\"url(#pa955bbeaf3)\" d=\"M 216.422813 300.919219 \r\nL 264.742813 300.919219 \r\nL 264.742813 349.239219 \r\nL 216.422813 349.239219 \r\nL 216.422813 300.919219 \r\n\" style=\"fill:#b1c9d1;\"/>\r\n    <path clip-path=\"url(#pa955bbeaf3)\" d=\"M 264.742813 300.919219 \r\nL 313.062813 300.919219 \r\nL 313.062813 349.239219 \r\nL 264.742813 349.239219 \r\nL 264.742813 300.919219 \r\n\" style=\"fill:#dc4954;\"/>\r\n    <path clip-path=\"url(#pa955bbeaf3)\" d=\"M 313.062813 300.919219 \r\nL 361.382812 300.919219 \r\nL 361.382812 349.239219 \r\nL 313.062813 349.239219 \r\nL 313.062813 300.919219 \r\n\" style=\"fill:#da3d49;\"/>\r\n    <path clip-path=\"url(#pa955bbeaf3)\" d=\"M 361.382812 300.919219 \r\nL 409.702813 300.919219 \r\nL 409.702813 349.239219 \r\nL 361.382812 349.239219 \r\nL 361.382812 300.919219 \r\n\" style=\"fill:#dc4c56;\"/>\r\n    <path clip-path=\"url(#pa955bbeaf3)\" d=\"M 409.702813 300.919219 \r\nL 458.022813 300.919219 \r\nL 458.022813 349.239219 \r\nL 409.702813 349.239219 \r\nL 409.702813 300.919219 \r\n\" style=\"fill:#da3b46;\"/>\r\n    <path clip-path=\"url(#pa955bbeaf3)\" d=\"M 458.022813 300.919219 \r\nL 506.342813 300.919219 \r\nL 506.342813 349.239219 \r\nL 458.022813 349.239219 \r\nL 458.022813 300.919219 \r\n\" style=\"fill:#ebeff0;\"/>\r\n    <path clip-path=\"url(#pa955bbeaf3)\" d=\"M 506.342813 300.919219 \r\nL 554.662813 300.919219 \r\nL 554.662813 349.239219 \r\nL 506.342813 349.239219 \r\nL 506.342813 300.919219 \r\n\" style=\"fill:#f2eded;\"/>\r\n    <path clip-path=\"url(#pa955bbeaf3)\" d=\"M 119.782813 349.239219 \r\nL 168.102813 349.239219 \r\nL 168.102813 397.559219 \r\nL 119.782813 397.559219 \r\nL 119.782813 349.239219 \r\n\" style=\"fill:#e6ebed;\"/>\r\n    <path clip-path=\"url(#pa955bbeaf3)\" d=\"M 168.102813 349.239219 \r\nL 216.422813 349.239219 \r\nL 216.422813 397.559219 \r\nL 168.102813 397.559219 \r\nL 168.102813 349.239219 \r\n\" style=\"fill:#dae4e7;\"/>\r\n    <path clip-path=\"url(#pa955bbeaf3)\" d=\"M 216.422813 349.239219 \r\nL 264.742813 349.239219 \r\nL 264.742813 397.559219 \r\nL 216.422813 397.559219 \r\nL 216.422813 349.239219 \r\n\" style=\"fill:#d4e0e4;\"/>\r\n    <path clip-path=\"url(#pa955bbeaf3)\" d=\"M 264.742813 349.239219 \r\nL 313.062813 349.239219 \r\nL 313.062813 397.559219 \r\nL 264.742813 397.559219 \r\nL 264.742813 349.239219 \r\n\" style=\"fill:#eed3d5;\"/>\r\n    <path clip-path=\"url(#pa955bbeaf3)\" d=\"M 313.062813 349.239219 \r\nL 361.382812 349.239219 \r\nL 361.382812 397.559219 \r\nL 313.062813 397.559219 \r\nL 313.062813 349.239219 \r\n\" style=\"fill:#e7ecee;\"/>\r\n    <path clip-path=\"url(#pa955bbeaf3)\" d=\"M 361.382812 349.239219 \r\nL 409.702813 349.239219 \r\nL 409.702813 397.559219 \r\nL 361.382812 397.559219 \r\nL 361.382812 349.239219 \r\n\" style=\"fill:#eaeef0;\"/>\r\n    <path clip-path=\"url(#pa955bbeaf3)\" d=\"M 409.702813 349.239219 \r\nL 458.022813 349.239219 \r\nL 458.022813 397.559219 \r\nL 409.702813 397.559219 \r\nL 409.702813 349.239219 \r\n\" style=\"fill:#ebeff0;\"/>\r\n    <path clip-path=\"url(#pa955bbeaf3)\" d=\"M 458.022813 349.239219 \r\nL 506.342813 349.239219 \r\nL 506.342813 397.559219 \r\nL 458.022813 397.559219 \r\nL 458.022813 349.239219 \r\n\" style=\"fill:#da3b46;\"/>\r\n    <path clip-path=\"url(#pa955bbeaf3)\" d=\"M 506.342813 349.239219 \r\nL 554.662813 349.239219 \r\nL 554.662813 397.559219 \r\nL 506.342813 397.559219 \r\nL 506.342813 349.239219 \r\n\" style=\"fill:#e2757d;\"/>\r\n    <path clip-path=\"url(#pa955bbeaf3)\" d=\"M 119.782813 397.559219 \r\nL 168.102813 397.559219 \r\nL 168.102813 445.879219 \r\nL 119.782813 445.879219 \r\nL 119.782813 397.559219 \r\n\" style=\"fill:#e0e8ea;\"/>\r\n    <path clip-path=\"url(#pa955bbeaf3)\" d=\"M 168.102813 397.559219 \r\nL 216.422813 397.559219 \r\nL 216.422813 445.879219 \r\nL 168.102813 445.879219 \r\nL 168.102813 397.559219 \r\n\" style=\"fill:#cedce1;\"/>\r\n    <path clip-path=\"url(#pa955bbeaf3)\" d=\"M 216.422813 397.559219 \r\nL 264.742813 397.559219 \r\nL 264.742813 445.879219 \r\nL 216.422813 445.879219 \r\nL 216.422813 397.559219 \r\n\" style=\"fill:#f1e4e5;\"/>\r\n    <path clip-path=\"url(#pa955bbeaf3)\" d=\"M 264.742813 397.559219 \r\nL 313.062813 397.559219 \r\nL 313.062813 445.879219 \r\nL 264.742813 445.879219 \r\nL 264.742813 397.559219 \r\n\" style=\"fill:#f0e0e1;\"/>\r\n    <path clip-path=\"url(#pa955bbeaf3)\" d=\"M 313.062813 397.559219 \r\nL 361.382812 397.559219 \r\nL 361.382812 445.879219 \r\nL 313.062813 445.879219 \r\nL 313.062813 397.559219 \r\n\" style=\"fill:#f2efef;\"/>\r\n    <path clip-path=\"url(#pa955bbeaf3)\" d=\"M 361.382812 397.559219 \r\nL 409.702813 397.559219 \r\nL 409.702813 445.879219 \r\nL 361.382812 445.879219 \r\nL 361.382812 397.559219 \r\n\" style=\"fill:#e4eaed;\"/>\r\n    <path clip-path=\"url(#pa955bbeaf3)\" d=\"M 409.702813 397.559219 \r\nL 458.022813 397.559219 \r\nL 458.022813 445.879219 \r\nL 409.702813 445.879219 \r\nL 409.702813 397.559219 \r\n\" style=\"fill:#f2eded;\"/>\r\n    <path clip-path=\"url(#pa955bbeaf3)\" d=\"M 458.022813 397.559219 \r\nL 506.342813 397.559219 \r\nL 506.342813 445.879219 \r\nL 458.022813 445.879219 \r\nL 458.022813 397.559219 \r\n\" style=\"fill:#e2757d;\"/>\r\n    <path clip-path=\"url(#pa955bbeaf3)\" d=\"M 506.342813 397.559219 \r\nL 554.662813 397.559219 \r\nL 554.662813 445.879219 \r\nL 506.342813 445.879219 \r\nL 506.342813 397.559219 \r\n\" style=\"fill:#da3b46;\"/>\r\n   </g>\r\n   <g id=\"matplotlib.axis_1\">\r\n    <g id=\"xtick_1\">\r\n     <g id=\"line2d_1\">\r\n      <defs>\r\n       <path d=\"M 0 0 \r\nL 0 3.5 \r\n\" id=\"m047033e161\" style=\"stroke:#000000;stroke-width:0.8;\"/>\r\n      </defs>\r\n      <g>\r\n       <use style=\"stroke:#000000;stroke-width:0.8;\" x=\"143.942813\" xlink:href=\"#m047033e161\" y=\"445.879219\"/>\r\n      </g>\r\n     </g>\r\n     <g id=\"text_1\">\r\n      <!-- longitude -->\r\n      <g transform=\"translate(146.702188 499.999531)rotate(-90)scale(0.1 -0.1)\">\r\n       <defs>\r\n        <path d=\"M 9.421875 75.984375 \r\nL 18.40625 75.984375 \r\nL 18.40625 0 \r\nL 9.421875 0 \r\nz\r\n\" id=\"DejaVuSans-108\"/>\r\n        <path d=\"M 30.609375 48.390625 \r\nQ 23.390625 48.390625 19.1875 42.75 \r\nQ 14.984375 37.109375 14.984375 27.296875 \r\nQ 14.984375 17.484375 19.15625 11.84375 \r\nQ 23.34375 6.203125 30.609375 6.203125 \r\nQ 37.796875 6.203125 41.984375 11.859375 \r\nQ 46.1875 17.53125 46.1875 27.296875 \r\nQ 46.1875 37.015625 41.984375 42.703125 \r\nQ 37.796875 48.390625 30.609375 48.390625 \r\nz\r\nM 30.609375 56 \r\nQ 42.328125 56 49.015625 48.375 \r\nQ 55.71875 40.765625 55.71875 27.296875 \r\nQ 55.71875 13.875 49.015625 6.21875 \r\nQ 42.328125 -1.421875 30.609375 -1.421875 \r\nQ 18.84375 -1.421875 12.171875 6.21875 \r\nQ 5.515625 13.875 5.515625 27.296875 \r\nQ 5.515625 40.765625 12.171875 48.375 \r\nQ 18.84375 56 30.609375 56 \r\nz\r\n\" id=\"DejaVuSans-111\"/>\r\n        <path d=\"M 54.890625 33.015625 \r\nL 54.890625 0 \r\nL 45.90625 0 \r\nL 45.90625 32.71875 \r\nQ 45.90625 40.484375 42.875 44.328125 \r\nQ 39.84375 48.1875 33.796875 48.1875 \r\nQ 26.515625 48.1875 22.3125 43.546875 \r\nQ 18.109375 38.921875 18.109375 30.90625 \r\nL 18.109375 0 \r\nL 9.078125 0 \r\nL 9.078125 54.6875 \r\nL 18.109375 54.6875 \r\nL 18.109375 46.1875 \r\nQ 21.34375 51.125 25.703125 53.5625 \r\nQ 30.078125 56 35.796875 56 \r\nQ 45.21875 56 50.046875 50.171875 \r\nQ 54.890625 44.34375 54.890625 33.015625 \r\nz\r\n\" id=\"DejaVuSans-110\"/>\r\n        <path d=\"M 45.40625 27.984375 \r\nQ 45.40625 37.75 41.375 43.109375 \r\nQ 37.359375 48.484375 30.078125 48.484375 \r\nQ 22.859375 48.484375 18.828125 43.109375 \r\nQ 14.796875 37.75 14.796875 27.984375 \r\nQ 14.796875 18.265625 18.828125 12.890625 \r\nQ 22.859375 7.515625 30.078125 7.515625 \r\nQ 37.359375 7.515625 41.375 12.890625 \r\nQ 45.40625 18.265625 45.40625 27.984375 \r\nz\r\nM 54.390625 6.78125 \r\nQ 54.390625 -7.171875 48.1875 -13.984375 \r\nQ 42 -20.796875 29.203125 -20.796875 \r\nQ 24.46875 -20.796875 20.265625 -20.09375 \r\nQ 16.0625 -19.390625 12.109375 -17.921875 \r\nL 12.109375 -9.1875 \r\nQ 16.0625 -11.328125 19.921875 -12.34375 \r\nQ 23.78125 -13.375 27.78125 -13.375 \r\nQ 36.625 -13.375 41.015625 -8.765625 \r\nQ 45.40625 -4.15625 45.40625 5.171875 \r\nL 45.40625 9.625 \r\nQ 42.625 4.78125 38.28125 2.390625 \r\nQ 33.9375 0 27.875 0 \r\nQ 17.828125 0 11.671875 7.65625 \r\nQ 5.515625 15.328125 5.515625 27.984375 \r\nQ 5.515625 40.671875 11.671875 48.328125 \r\nQ 17.828125 56 27.875 56 \r\nQ 33.9375 56 38.28125 53.609375 \r\nQ 42.625 51.21875 45.40625 46.390625 \r\nL 45.40625 54.6875 \r\nL 54.390625 54.6875 \r\nz\r\n\" id=\"DejaVuSans-103\"/>\r\n        <path d=\"M 9.421875 54.6875 \r\nL 18.40625 54.6875 \r\nL 18.40625 0 \r\nL 9.421875 0 \r\nz\r\nM 9.421875 75.984375 \r\nL 18.40625 75.984375 \r\nL 18.40625 64.59375 \r\nL 9.421875 64.59375 \r\nz\r\n\" id=\"DejaVuSans-105\"/>\r\n        <path d=\"M 18.3125 70.21875 \r\nL 18.3125 54.6875 \r\nL 36.8125 54.6875 \r\nL 36.8125 47.703125 \r\nL 18.3125 47.703125 \r\nL 18.3125 18.015625 \r\nQ 18.3125 11.328125 20.140625 9.421875 \r\nQ 21.96875 7.515625 27.59375 7.515625 \r\nL 36.8125 7.515625 \r\nL 36.8125 0 \r\nL 27.59375 0 \r\nQ 17.1875 0 13.234375 3.875 \r\nQ 9.28125 7.765625 9.28125 18.015625 \r\nL 9.28125 47.703125 \r\nL 2.6875 47.703125 \r\nL 2.6875 54.6875 \r\nL 9.28125 54.6875 \r\nL 9.28125 70.21875 \r\nz\r\n\" id=\"DejaVuSans-116\"/>\r\n        <path d=\"M 8.5 21.578125 \r\nL 8.5 54.6875 \r\nL 17.484375 54.6875 \r\nL 17.484375 21.921875 \r\nQ 17.484375 14.15625 20.5 10.265625 \r\nQ 23.53125 6.390625 29.59375 6.390625 \r\nQ 36.859375 6.390625 41.078125 11.03125 \r\nQ 45.3125 15.671875 45.3125 23.6875 \r\nL 45.3125 54.6875 \r\nL 54.296875 54.6875 \r\nL 54.296875 0 \r\nL 45.3125 0 \r\nL 45.3125 8.40625 \r\nQ 42.046875 3.421875 37.71875 1 \r\nQ 33.40625 -1.421875 27.6875 -1.421875 \r\nQ 18.265625 -1.421875 13.375 4.4375 \r\nQ 8.5 10.296875 8.5 21.578125 \r\nz\r\nM 31.109375 56 \r\nz\r\n\" id=\"DejaVuSans-117\"/>\r\n        <path d=\"M 45.40625 46.390625 \r\nL 45.40625 75.984375 \r\nL 54.390625 75.984375 \r\nL 54.390625 0 \r\nL 45.40625 0 \r\nL 45.40625 8.203125 \r\nQ 42.578125 3.328125 38.25 0.953125 \r\nQ 33.9375 -1.421875 27.875 -1.421875 \r\nQ 17.96875 -1.421875 11.734375 6.484375 \r\nQ 5.515625 14.40625 5.515625 27.296875 \r\nQ 5.515625 40.1875 11.734375 48.09375 \r\nQ 17.96875 56 27.875 56 \r\nQ 33.9375 56 38.25 53.625 \r\nQ 42.578125 51.265625 45.40625 46.390625 \r\nz\r\nM 14.796875 27.296875 \r\nQ 14.796875 17.390625 18.875 11.75 \r\nQ 22.953125 6.109375 30.078125 6.109375 \r\nQ 37.203125 6.109375 41.296875 11.75 \r\nQ 45.40625 17.390625 45.40625 27.296875 \r\nQ 45.40625 37.203125 41.296875 42.84375 \r\nQ 37.203125 48.484375 30.078125 48.484375 \r\nQ 22.953125 48.484375 18.875 42.84375 \r\nQ 14.796875 37.203125 14.796875 27.296875 \r\nz\r\n\" id=\"DejaVuSans-100\"/>\r\n        <path d=\"M 56.203125 29.59375 \r\nL 56.203125 25.203125 \r\nL 14.890625 25.203125 \r\nQ 15.484375 15.921875 20.484375 11.0625 \r\nQ 25.484375 6.203125 34.421875 6.203125 \r\nQ 39.59375 6.203125 44.453125 7.46875 \r\nQ 49.3125 8.734375 54.109375 11.28125 \r\nL 54.109375 2.78125 \r\nQ 49.265625 0.734375 44.1875 -0.34375 \r\nQ 39.109375 -1.421875 33.890625 -1.421875 \r\nQ 20.796875 -1.421875 13.15625 6.1875 \r\nQ 5.515625 13.8125 5.515625 26.8125 \r\nQ 5.515625 40.234375 12.765625 48.109375 \r\nQ 20.015625 56 32.328125 56 \r\nQ 43.359375 56 49.78125 48.890625 \r\nQ 56.203125 41.796875 56.203125 29.59375 \r\nz\r\nM 47.21875 32.234375 \r\nQ 47.125 39.59375 43.09375 43.984375 \r\nQ 39.0625 48.390625 32.421875 48.390625 \r\nQ 24.90625 48.390625 20.390625 44.140625 \r\nQ 15.875 39.890625 15.1875 32.171875 \r\nz\r\n\" id=\"DejaVuSans-101\"/>\r\n       </defs>\r\n       <use xlink:href=\"#DejaVuSans-108\"/>\r\n       <use x=\"27.783203\" xlink:href=\"#DejaVuSans-111\"/>\r\n       <use x=\"88.964844\" xlink:href=\"#DejaVuSans-110\"/>\r\n       <use x=\"152.34375\" xlink:href=\"#DejaVuSans-103\"/>\r\n       <use x=\"215.820312\" xlink:href=\"#DejaVuSans-105\"/>\r\n       <use x=\"243.603516\" xlink:href=\"#DejaVuSans-116\"/>\r\n       <use x=\"282.8125\" xlink:href=\"#DejaVuSans-117\"/>\r\n       <use x=\"346.191406\" xlink:href=\"#DejaVuSans-100\"/>\r\n       <use x=\"409.667969\" xlink:href=\"#DejaVuSans-101\"/>\r\n      </g>\r\n     </g>\r\n    </g>\r\n    <g id=\"xtick_2\">\r\n     <g id=\"line2d_2\">\r\n      <g>\r\n       <use style=\"stroke:#000000;stroke-width:0.8;\" x=\"192.262813\" xlink:href=\"#m047033e161\" y=\"445.879219\"/>\r\n      </g>\r\n     </g>\r\n     <g id=\"text_2\">\r\n      <!-- latitude -->\r\n      <g transform=\"translate(195.022188 491.243281)rotate(-90)scale(0.1 -0.1)\">\r\n       <defs>\r\n        <path d=\"M 34.28125 27.484375 \r\nQ 23.390625 27.484375 19.1875 25 \r\nQ 14.984375 22.515625 14.984375 16.5 \r\nQ 14.984375 11.71875 18.140625 8.90625 \r\nQ 21.296875 6.109375 26.703125 6.109375 \r\nQ 34.1875 6.109375 38.703125 11.40625 \r\nQ 43.21875 16.703125 43.21875 25.484375 \r\nL 43.21875 27.484375 \r\nz\r\nM 52.203125 31.203125 \r\nL 52.203125 0 \r\nL 43.21875 0 \r\nL 43.21875 8.296875 \r\nQ 40.140625 3.328125 35.546875 0.953125 \r\nQ 30.953125 -1.421875 24.3125 -1.421875 \r\nQ 15.921875 -1.421875 10.953125 3.296875 \r\nQ 6 8.015625 6 15.921875 \r\nQ 6 25.140625 12.171875 29.828125 \r\nQ 18.359375 34.515625 30.609375 34.515625 \r\nL 43.21875 34.515625 \r\nL 43.21875 35.40625 \r\nQ 43.21875 41.609375 39.140625 45 \r\nQ 35.0625 48.390625 27.6875 48.390625 \r\nQ 23 48.390625 18.546875 47.265625 \r\nQ 14.109375 46.140625 10.015625 43.890625 \r\nL 10.015625 52.203125 \r\nQ 14.9375 54.109375 19.578125 55.046875 \r\nQ 24.21875 56 28.609375 56 \r\nQ 40.484375 56 46.34375 49.84375 \r\nQ 52.203125 43.703125 52.203125 31.203125 \r\nz\r\n\" id=\"DejaVuSans-97\"/>\r\n       </defs>\r\n       <use xlink:href=\"#DejaVuSans-108\"/>\r\n       <use x=\"27.783203\" xlink:href=\"#DejaVuSans-97\"/>\r\n       <use x=\"89.0625\" xlink:href=\"#DejaVuSans-116\"/>\r\n       <use x=\"128.271484\" xlink:href=\"#DejaVuSans-105\"/>\r\n       <use x=\"156.054688\" xlink:href=\"#DejaVuSans-116\"/>\r\n       <use x=\"195.263672\" xlink:href=\"#DejaVuSans-117\"/>\r\n       <use x=\"258.642578\" xlink:href=\"#DejaVuSans-100\"/>\r\n       <use x=\"322.119141\" xlink:href=\"#DejaVuSans-101\"/>\r\n      </g>\r\n     </g>\r\n    </g>\r\n    <g id=\"xtick_3\">\r\n     <g id=\"line2d_3\">\r\n      <g>\r\n       <use style=\"stroke:#000000;stroke-width:0.8;\" x=\"240.582813\" xlink:href=\"#m047033e161\" y=\"445.879219\"/>\r\n      </g>\r\n     </g>\r\n     <g id=\"text_3\">\r\n      <!-- housing_median_age -->\r\n      <g transform=\"translate(243.203125 558.462031)rotate(-90)scale(0.1 -0.1)\">\r\n       <defs>\r\n        <path d=\"M 54.890625 33.015625 \r\nL 54.890625 0 \r\nL 45.90625 0 \r\nL 45.90625 32.71875 \r\nQ 45.90625 40.484375 42.875 44.328125 \r\nQ 39.84375 48.1875 33.796875 48.1875 \r\nQ 26.515625 48.1875 22.3125 43.546875 \r\nQ 18.109375 38.921875 18.109375 30.90625 \r\nL 18.109375 0 \r\nL 9.078125 0 \r\nL 9.078125 75.984375 \r\nL 18.109375 75.984375 \r\nL 18.109375 46.1875 \r\nQ 21.34375 51.125 25.703125 53.5625 \r\nQ 30.078125 56 35.796875 56 \r\nQ 45.21875 56 50.046875 50.171875 \r\nQ 54.890625 44.34375 54.890625 33.015625 \r\nz\r\n\" id=\"DejaVuSans-104\"/>\r\n        <path d=\"M 44.28125 53.078125 \r\nL 44.28125 44.578125 \r\nQ 40.484375 46.53125 36.375 47.5 \r\nQ 32.28125 48.484375 27.875 48.484375 \r\nQ 21.1875 48.484375 17.84375 46.4375 \r\nQ 14.5 44.390625 14.5 40.28125 \r\nQ 14.5 37.15625 16.890625 35.375 \r\nQ 19.28125 33.59375 26.515625 31.984375 \r\nL 29.59375 31.296875 \r\nQ 39.15625 29.25 43.1875 25.515625 \r\nQ 47.21875 21.78125 47.21875 15.09375 \r\nQ 47.21875 7.46875 41.1875 3.015625 \r\nQ 35.15625 -1.421875 24.609375 -1.421875 \r\nQ 20.21875 -1.421875 15.453125 -0.5625 \r\nQ 10.6875 0.296875 5.421875 2 \r\nL 5.421875 11.28125 \r\nQ 10.40625 8.6875 15.234375 7.390625 \r\nQ 20.0625 6.109375 24.8125 6.109375 \r\nQ 31.15625 6.109375 34.5625 8.28125 \r\nQ 37.984375 10.453125 37.984375 14.40625 \r\nQ 37.984375 18.0625 35.515625 20.015625 \r\nQ 33.0625 21.96875 24.703125 23.78125 \r\nL 21.578125 24.515625 \r\nQ 13.234375 26.265625 9.515625 29.90625 \r\nQ 5.8125 33.546875 5.8125 39.890625 \r\nQ 5.8125 47.609375 11.28125 51.796875 \r\nQ 16.75 56 26.8125 56 \r\nQ 31.78125 56 36.171875 55.265625 \r\nQ 40.578125 54.546875 44.28125 53.078125 \r\nz\r\n\" id=\"DejaVuSans-115\"/>\r\n        <path d=\"M 50.984375 -16.609375 \r\nL 50.984375 -23.578125 \r\nL -0.984375 -23.578125 \r\nL -0.984375 -16.609375 \r\nz\r\n\" id=\"DejaVuSans-95\"/>\r\n        <path d=\"M 52 44.1875 \r\nQ 55.375 50.25 60.0625 53.125 \r\nQ 64.75 56 71.09375 56 \r\nQ 79.640625 56 84.28125 50.015625 \r\nQ 88.921875 44.046875 88.921875 33.015625 \r\nL 88.921875 0 \r\nL 79.890625 0 \r\nL 79.890625 32.71875 \r\nQ 79.890625 40.578125 77.09375 44.375 \r\nQ 74.3125 48.1875 68.609375 48.1875 \r\nQ 61.625 48.1875 57.5625 43.546875 \r\nQ 53.515625 38.921875 53.515625 30.90625 \r\nL 53.515625 0 \r\nL 44.484375 0 \r\nL 44.484375 32.71875 \r\nQ 44.484375 40.625 41.703125 44.40625 \r\nQ 38.921875 48.1875 33.109375 48.1875 \r\nQ 26.21875 48.1875 22.15625 43.53125 \r\nQ 18.109375 38.875 18.109375 30.90625 \r\nL 18.109375 0 \r\nL 9.078125 0 \r\nL 9.078125 54.6875 \r\nL 18.109375 54.6875 \r\nL 18.109375 46.1875 \r\nQ 21.1875 51.21875 25.484375 53.609375 \r\nQ 29.78125 56 35.6875 56 \r\nQ 41.65625 56 45.828125 52.96875 \r\nQ 50 49.953125 52 44.1875 \r\nz\r\n\" id=\"DejaVuSans-109\"/>\r\n       </defs>\r\n       <use xlink:href=\"#DejaVuSans-104\"/>\r\n       <use x=\"63.378906\" xlink:href=\"#DejaVuSans-111\"/>\r\n       <use x=\"124.560547\" xlink:href=\"#DejaVuSans-117\"/>\r\n       <use x=\"187.939453\" xlink:href=\"#DejaVuSans-115\"/>\r\n       <use x=\"240.039062\" xlink:href=\"#DejaVuSans-105\"/>\r\n       <use x=\"267.822266\" xlink:href=\"#DejaVuSans-110\"/>\r\n       <use x=\"331.201172\" xlink:href=\"#DejaVuSans-103\"/>\r\n       <use x=\"394.677734\" xlink:href=\"#DejaVuSans-95\"/>\r\n       <use x=\"444.677734\" xlink:href=\"#DejaVuSans-109\"/>\r\n       <use x=\"542.089844\" xlink:href=\"#DejaVuSans-101\"/>\r\n       <use x=\"603.613281\" xlink:href=\"#DejaVuSans-100\"/>\r\n       <use x=\"667.089844\" xlink:href=\"#DejaVuSans-105\"/>\r\n       <use x=\"694.873047\" xlink:href=\"#DejaVuSans-97\"/>\r\n       <use x=\"756.152344\" xlink:href=\"#DejaVuSans-110\"/>\r\n       <use x=\"819.53125\" xlink:href=\"#DejaVuSans-95\"/>\r\n       <use x=\"869.53125\" xlink:href=\"#DejaVuSans-97\"/>\r\n       <use x=\"930.810547\" xlink:href=\"#DejaVuSans-103\"/>\r\n       <use x=\"994.287109\" xlink:href=\"#DejaVuSans-101\"/>\r\n      </g>\r\n     </g>\r\n    </g>\r\n    <g id=\"xtick_4\">\r\n     <g id=\"line2d_4\">\r\n      <g>\r\n       <use style=\"stroke:#000000;stroke-width:0.8;\" x=\"288.902813\" xlink:href=\"#m047033e161\" y=\"445.879219\"/>\r\n      </g>\r\n     </g>\r\n     <g id=\"text_4\">\r\n      <!-- total_rooms -->\r\n      <g transform=\"translate(291.523125 511.818281)rotate(-90)scale(0.1 -0.1)\">\r\n       <defs>\r\n        <path d=\"M 41.109375 46.296875 \r\nQ 39.59375 47.171875 37.8125 47.578125 \r\nQ 36.03125 48 33.890625 48 \r\nQ 26.265625 48 22.1875 43.046875 \r\nQ 18.109375 38.09375 18.109375 28.8125 \r\nL 18.109375 0 \r\nL 9.078125 0 \r\nL 9.078125 54.6875 \r\nL 18.109375 54.6875 \r\nL 18.109375 46.1875 \r\nQ 20.953125 51.171875 25.484375 53.578125 \r\nQ 30.03125 56 36.53125 56 \r\nQ 37.453125 56 38.578125 55.875 \r\nQ 39.703125 55.765625 41.0625 55.515625 \r\nz\r\n\" id=\"DejaVuSans-114\"/>\r\n       </defs>\r\n       <use xlink:href=\"#DejaVuSans-116\"/>\r\n       <use x=\"39.208984\" xlink:href=\"#DejaVuSans-111\"/>\r\n       <use x=\"100.390625\" xlink:href=\"#DejaVuSans-116\"/>\r\n       <use x=\"139.599609\" xlink:href=\"#DejaVuSans-97\"/>\r\n       <use x=\"200.878906\" xlink:href=\"#DejaVuSans-108\"/>\r\n       <use x=\"228.662109\" xlink:href=\"#DejaVuSans-95\"/>\r\n       <use x=\"278.662109\" xlink:href=\"#DejaVuSans-114\"/>\r\n       <use x=\"317.525391\" xlink:href=\"#DejaVuSans-111\"/>\r\n       <use x=\"378.707031\" xlink:href=\"#DejaVuSans-111\"/>\r\n       <use x=\"439.888672\" xlink:href=\"#DejaVuSans-109\"/>\r\n       <use x=\"537.300781\" xlink:href=\"#DejaVuSans-115\"/>\r\n      </g>\r\n     </g>\r\n    </g>\r\n    <g id=\"xtick_5\">\r\n     <g id=\"line2d_5\">\r\n      <g>\r\n       <use style=\"stroke:#000000;stroke-width:0.8;\" x=\"337.222813\" xlink:href=\"#m047033e161\" y=\"445.879219\"/>\r\n      </g>\r\n     </g>\r\n     <g id=\"text_5\">\r\n      <!-- total_bedrooms -->\r\n      <g transform=\"translate(339.843125 530.668281)rotate(-90)scale(0.1 -0.1)\">\r\n       <defs>\r\n        <path d=\"M 48.6875 27.296875 \r\nQ 48.6875 37.203125 44.609375 42.84375 \r\nQ 40.53125 48.484375 33.40625 48.484375 \r\nQ 26.265625 48.484375 22.1875 42.84375 \r\nQ 18.109375 37.203125 18.109375 27.296875 \r\nQ 18.109375 17.390625 22.1875 11.75 \r\nQ 26.265625 6.109375 33.40625 6.109375 \r\nQ 40.53125 6.109375 44.609375 11.75 \r\nQ 48.6875 17.390625 48.6875 27.296875 \r\nz\r\nM 18.109375 46.390625 \r\nQ 20.953125 51.265625 25.265625 53.625 \r\nQ 29.59375 56 35.59375 56 \r\nQ 45.5625 56 51.78125 48.09375 \r\nQ 58.015625 40.1875 58.015625 27.296875 \r\nQ 58.015625 14.40625 51.78125 6.484375 \r\nQ 45.5625 -1.421875 35.59375 -1.421875 \r\nQ 29.59375 -1.421875 25.265625 0.953125 \r\nQ 20.953125 3.328125 18.109375 8.203125 \r\nL 18.109375 0 \r\nL 9.078125 0 \r\nL 9.078125 75.984375 \r\nL 18.109375 75.984375 \r\nz\r\n\" id=\"DejaVuSans-98\"/>\r\n       </defs>\r\n       <use xlink:href=\"#DejaVuSans-116\"/>\r\n       <use x=\"39.208984\" xlink:href=\"#DejaVuSans-111\"/>\r\n       <use x=\"100.390625\" xlink:href=\"#DejaVuSans-116\"/>\r\n       <use x=\"139.599609\" xlink:href=\"#DejaVuSans-97\"/>\r\n       <use x=\"200.878906\" xlink:href=\"#DejaVuSans-108\"/>\r\n       <use x=\"228.662109\" xlink:href=\"#DejaVuSans-95\"/>\r\n       <use x=\"278.662109\" xlink:href=\"#DejaVuSans-98\"/>\r\n       <use x=\"342.138672\" xlink:href=\"#DejaVuSans-101\"/>\r\n       <use x=\"403.662109\" xlink:href=\"#DejaVuSans-100\"/>\r\n       <use x=\"467.138672\" xlink:href=\"#DejaVuSans-114\"/>\r\n       <use x=\"506.001953\" xlink:href=\"#DejaVuSans-111\"/>\r\n       <use x=\"567.183594\" xlink:href=\"#DejaVuSans-111\"/>\r\n       <use x=\"628.365234\" xlink:href=\"#DejaVuSans-109\"/>\r\n       <use x=\"725.777344\" xlink:href=\"#DejaVuSans-115\"/>\r\n      </g>\r\n     </g>\r\n    </g>\r\n    <g id=\"xtick_6\">\r\n     <g id=\"line2d_6\">\r\n      <g>\r\n       <use style=\"stroke:#000000;stroke-width:0.8;\" x=\"385.542813\" xlink:href=\"#m047033e161\" y=\"445.879219\"/>\r\n      </g>\r\n     </g>\r\n     <g id=\"text_6\">\r\n      <!-- population -->\r\n      <g transform=\"translate(388.302188 506.093281)rotate(-90)scale(0.1 -0.1)\">\r\n       <defs>\r\n        <path d=\"M 18.109375 8.203125 \r\nL 18.109375 -20.796875 \r\nL 9.078125 -20.796875 \r\nL 9.078125 54.6875 \r\nL 18.109375 54.6875 \r\nL 18.109375 46.390625 \r\nQ 20.953125 51.265625 25.265625 53.625 \r\nQ 29.59375 56 35.59375 56 \r\nQ 45.5625 56 51.78125 48.09375 \r\nQ 58.015625 40.1875 58.015625 27.296875 \r\nQ 58.015625 14.40625 51.78125 6.484375 \r\nQ 45.5625 -1.421875 35.59375 -1.421875 \r\nQ 29.59375 -1.421875 25.265625 0.953125 \r\nQ 20.953125 3.328125 18.109375 8.203125 \r\nz\r\nM 48.6875 27.296875 \r\nQ 48.6875 37.203125 44.609375 42.84375 \r\nQ 40.53125 48.484375 33.40625 48.484375 \r\nQ 26.265625 48.484375 22.1875 42.84375 \r\nQ 18.109375 37.203125 18.109375 27.296875 \r\nQ 18.109375 17.390625 22.1875 11.75 \r\nQ 26.265625 6.109375 33.40625 6.109375 \r\nQ 40.53125 6.109375 44.609375 11.75 \r\nQ 48.6875 17.390625 48.6875 27.296875 \r\nz\r\n\" id=\"DejaVuSans-112\"/>\r\n       </defs>\r\n       <use xlink:href=\"#DejaVuSans-112\"/>\r\n       <use x=\"63.476562\" xlink:href=\"#DejaVuSans-111\"/>\r\n       <use x=\"124.658203\" xlink:href=\"#DejaVuSans-112\"/>\r\n       <use x=\"188.134766\" xlink:href=\"#DejaVuSans-117\"/>\r\n       <use x=\"251.513672\" xlink:href=\"#DejaVuSans-108\"/>\r\n       <use x=\"279.296875\" xlink:href=\"#DejaVuSans-97\"/>\r\n       <use x=\"340.576172\" xlink:href=\"#DejaVuSans-116\"/>\r\n       <use x=\"379.785156\" xlink:href=\"#DejaVuSans-105\"/>\r\n       <use x=\"407.568359\" xlink:href=\"#DejaVuSans-111\"/>\r\n       <use x=\"468.75\" xlink:href=\"#DejaVuSans-110\"/>\r\n      </g>\r\n     </g>\r\n    </g>\r\n    <g id=\"xtick_7\">\r\n     <g id=\"line2d_7\">\r\n      <g>\r\n       <use style=\"stroke:#000000;stroke-width:0.8;\" x=\"433.862813\" xlink:href=\"#m047033e161\" y=\"445.879219\"/>\r\n      </g>\r\n     </g>\r\n     <g id=\"text_7\">\r\n      <!-- households -->\r\n      <g transform=\"translate(436.622187 509.827656)rotate(-90)scale(0.1 -0.1)\">\r\n       <use xlink:href=\"#DejaVuSans-104\"/>\r\n       <use x=\"63.378906\" xlink:href=\"#DejaVuSans-111\"/>\r\n       <use x=\"124.560547\" xlink:href=\"#DejaVuSans-117\"/>\r\n       <use x=\"187.939453\" xlink:href=\"#DejaVuSans-115\"/>\r\n       <use x=\"240.039062\" xlink:href=\"#DejaVuSans-101\"/>\r\n       <use x=\"301.5625\" xlink:href=\"#DejaVuSans-104\"/>\r\n       <use x=\"364.941406\" xlink:href=\"#DejaVuSans-111\"/>\r\n       <use x=\"426.123047\" xlink:href=\"#DejaVuSans-108\"/>\r\n       <use x=\"453.90625\" xlink:href=\"#DejaVuSans-100\"/>\r\n       <use x=\"517.382812\" xlink:href=\"#DejaVuSans-115\"/>\r\n      </g>\r\n     </g>\r\n    </g>\r\n    <g id=\"xtick_8\">\r\n     <g id=\"line2d_8\">\r\n      <g>\r\n       <use style=\"stroke:#000000;stroke-width:0.8;\" x=\"482.182813\" xlink:href=\"#m047033e161\" y=\"445.879219\"/>\r\n      </g>\r\n     </g>\r\n     <g id=\"text_8\">\r\n      <!-- median_income -->\r\n      <g transform=\"translate(484.803125 531.991719)rotate(-90)scale(0.1 -0.1)\">\r\n       <defs>\r\n        <path d=\"M 48.78125 52.59375 \r\nL 48.78125 44.1875 \r\nQ 44.96875 46.296875 41.140625 47.34375 \r\nQ 37.3125 48.390625 33.40625 48.390625 \r\nQ 24.65625 48.390625 19.8125 42.84375 \r\nQ 14.984375 37.3125 14.984375 27.296875 \r\nQ 14.984375 17.28125 19.8125 11.734375 \r\nQ 24.65625 6.203125 33.40625 6.203125 \r\nQ 37.3125 6.203125 41.140625 7.25 \r\nQ 44.96875 8.296875 48.78125 10.40625 \r\nL 48.78125 2.09375 \r\nQ 45.015625 0.34375 40.984375 -0.53125 \r\nQ 36.96875 -1.421875 32.421875 -1.421875 \r\nQ 20.0625 -1.421875 12.78125 6.34375 \r\nQ 5.515625 14.109375 5.515625 27.296875 \r\nQ 5.515625 40.671875 12.859375 48.328125 \r\nQ 20.21875 56 33.015625 56 \r\nQ 37.15625 56 41.109375 55.140625 \r\nQ 45.0625 54.296875 48.78125 52.59375 \r\nz\r\n\" id=\"DejaVuSans-99\"/>\r\n       </defs>\r\n       <use xlink:href=\"#DejaVuSans-109\"/>\r\n       <use x=\"97.412109\" xlink:href=\"#DejaVuSans-101\"/>\r\n       <use x=\"158.935547\" xlink:href=\"#DejaVuSans-100\"/>\r\n       <use x=\"222.412109\" xlink:href=\"#DejaVuSans-105\"/>\r\n       <use x=\"250.195312\" xlink:href=\"#DejaVuSans-97\"/>\r\n       <use x=\"311.474609\" xlink:href=\"#DejaVuSans-110\"/>\r\n       <use x=\"374.853516\" xlink:href=\"#DejaVuSans-95\"/>\r\n       <use x=\"424.853516\" xlink:href=\"#DejaVuSans-105\"/>\r\n       <use x=\"452.636719\" xlink:href=\"#DejaVuSans-110\"/>\r\n       <use x=\"516.015625\" xlink:href=\"#DejaVuSans-99\"/>\r\n       <use x=\"570.996094\" xlink:href=\"#DejaVuSans-111\"/>\r\n       <use x=\"632.177734\" xlink:href=\"#DejaVuSans-109\"/>\r\n       <use x=\"729.589844\" xlink:href=\"#DejaVuSans-101\"/>\r\n      </g>\r\n     </g>\r\n    </g>\r\n    <g id=\"xtick_9\">\r\n     <g id=\"line2d_9\">\r\n      <g>\r\n       <use style=\"stroke:#000000;stroke-width:0.8;\" x=\"530.502813\" xlink:href=\"#m047033e161\" y=\"445.879219\"/>\r\n      </g>\r\n     </g>\r\n     <g id=\"text_9\">\r\n      <!-- median_house_value -->\r\n      <g transform=\"translate(533.123125 557.837031)rotate(-90)scale(0.1 -0.1)\">\r\n       <defs>\r\n        <path d=\"M 2.984375 54.6875 \r\nL 12.5 54.6875 \r\nL 29.59375 8.796875 \r\nL 46.6875 54.6875 \r\nL 56.203125 54.6875 \r\nL 35.6875 0 \r\nL 23.484375 0 \r\nz\r\n\" id=\"DejaVuSans-118\"/>\r\n       </defs>\r\n       <use xlink:href=\"#DejaVuSans-109\"/>\r\n       <use x=\"97.412109\" xlink:href=\"#DejaVuSans-101\"/>\r\n       <use x=\"158.935547\" xlink:href=\"#DejaVuSans-100\"/>\r\n       <use x=\"222.412109\" xlink:href=\"#DejaVuSans-105\"/>\r\n       <use x=\"250.195312\" xlink:href=\"#DejaVuSans-97\"/>\r\n       <use x=\"311.474609\" xlink:href=\"#DejaVuSans-110\"/>\r\n       <use x=\"374.853516\" xlink:href=\"#DejaVuSans-95\"/>\r\n       <use x=\"424.853516\" xlink:href=\"#DejaVuSans-104\"/>\r\n       <use x=\"488.232422\" xlink:href=\"#DejaVuSans-111\"/>\r\n       <use x=\"549.414062\" xlink:href=\"#DejaVuSans-117\"/>\r\n       <use x=\"612.792969\" xlink:href=\"#DejaVuSans-115\"/>\r\n       <use x=\"664.892578\" xlink:href=\"#DejaVuSans-101\"/>\r\n       <use x=\"726.416016\" xlink:href=\"#DejaVuSans-95\"/>\r\n       <use x=\"776.416016\" xlink:href=\"#DejaVuSans-118\"/>\r\n       <use x=\"835.595703\" xlink:href=\"#DejaVuSans-97\"/>\r\n       <use x=\"896.875\" xlink:href=\"#DejaVuSans-108\"/>\r\n       <use x=\"924.658203\" xlink:href=\"#DejaVuSans-117\"/>\r\n       <use x=\"988.037109\" xlink:href=\"#DejaVuSans-101\"/>\r\n      </g>\r\n     </g>\r\n    </g>\r\n   </g>\r\n   <g id=\"matplotlib.axis_2\">\r\n    <g id=\"ytick_1\">\r\n     <g id=\"line2d_10\">\r\n      <defs>\r\n       <path d=\"M 0 0 \r\nL -3.5 0 \r\n\" id=\"m039456cc7b\" style=\"stroke:#000000;stroke-width:0.8;\"/>\r\n      </defs>\r\n      <g>\r\n       <use style=\"stroke:#000000;stroke-width:0.8;\" x=\"119.782813\" xlink:href=\"#m039456cc7b\" y=\"35.159219\"/>\r\n      </g>\r\n     </g>\r\n     <g id=\"text_10\">\r\n      <!-- longitude -->\r\n      <g transform=\"translate(65.6625 38.958437)scale(0.1 -0.1)\">\r\n       <use xlink:href=\"#DejaVuSans-108\"/>\r\n       <use x=\"27.783203\" xlink:href=\"#DejaVuSans-111\"/>\r\n       <use x=\"88.964844\" xlink:href=\"#DejaVuSans-110\"/>\r\n       <use x=\"152.34375\" xlink:href=\"#DejaVuSans-103\"/>\r\n       <use x=\"215.820312\" xlink:href=\"#DejaVuSans-105\"/>\r\n       <use x=\"243.603516\" xlink:href=\"#DejaVuSans-116\"/>\r\n       <use x=\"282.8125\" xlink:href=\"#DejaVuSans-117\"/>\r\n       <use x=\"346.191406\" xlink:href=\"#DejaVuSans-100\"/>\r\n       <use x=\"409.667969\" xlink:href=\"#DejaVuSans-101\"/>\r\n      </g>\r\n     </g>\r\n    </g>\r\n    <g id=\"ytick_2\">\r\n     <g id=\"line2d_11\">\r\n      <g>\r\n       <use style=\"stroke:#000000;stroke-width:0.8;\" x=\"119.782813\" xlink:href=\"#m039456cc7b\" y=\"83.479219\"/>\r\n      </g>\r\n     </g>\r\n     <g id=\"text_11\">\r\n      <!-- latitude -->\r\n      <g transform=\"translate(74.41875 87.278437)scale(0.1 -0.1)\">\r\n       <use xlink:href=\"#DejaVuSans-108\"/>\r\n       <use x=\"27.783203\" xlink:href=\"#DejaVuSans-97\"/>\r\n       <use x=\"89.0625\" xlink:href=\"#DejaVuSans-116\"/>\r\n       <use x=\"128.271484\" xlink:href=\"#DejaVuSans-105\"/>\r\n       <use x=\"156.054688\" xlink:href=\"#DejaVuSans-116\"/>\r\n       <use x=\"195.263672\" xlink:href=\"#DejaVuSans-117\"/>\r\n       <use x=\"258.642578\" xlink:href=\"#DejaVuSans-100\"/>\r\n       <use x=\"322.119141\" xlink:href=\"#DejaVuSans-101\"/>\r\n      </g>\r\n     </g>\r\n    </g>\r\n    <g id=\"ytick_3\">\r\n     <g id=\"line2d_12\">\r\n      <g>\r\n       <use style=\"stroke:#000000;stroke-width:0.8;\" x=\"119.782813\" xlink:href=\"#m039456cc7b\" y=\"131.799219\"/>\r\n      </g>\r\n     </g>\r\n     <g id=\"text_12\">\r\n      <!-- housing_median_age -->\r\n      <g transform=\"translate(7.2 135.598437)scale(0.1 -0.1)\">\r\n       <use xlink:href=\"#DejaVuSans-104\"/>\r\n       <use x=\"63.378906\" xlink:href=\"#DejaVuSans-111\"/>\r\n       <use x=\"124.560547\" xlink:href=\"#DejaVuSans-117\"/>\r\n       <use x=\"187.939453\" xlink:href=\"#DejaVuSans-115\"/>\r\n       <use x=\"240.039062\" xlink:href=\"#DejaVuSans-105\"/>\r\n       <use x=\"267.822266\" xlink:href=\"#DejaVuSans-110\"/>\r\n       <use x=\"331.201172\" xlink:href=\"#DejaVuSans-103\"/>\r\n       <use x=\"394.677734\" xlink:href=\"#DejaVuSans-95\"/>\r\n       <use x=\"444.677734\" xlink:href=\"#DejaVuSans-109\"/>\r\n       <use x=\"542.089844\" xlink:href=\"#DejaVuSans-101\"/>\r\n       <use x=\"603.613281\" xlink:href=\"#DejaVuSans-100\"/>\r\n       <use x=\"667.089844\" xlink:href=\"#DejaVuSans-105\"/>\r\n       <use x=\"694.873047\" xlink:href=\"#DejaVuSans-97\"/>\r\n       <use x=\"756.152344\" xlink:href=\"#DejaVuSans-110\"/>\r\n       <use x=\"819.53125\" xlink:href=\"#DejaVuSans-95\"/>\r\n       <use x=\"869.53125\" xlink:href=\"#DejaVuSans-97\"/>\r\n       <use x=\"930.810547\" xlink:href=\"#DejaVuSans-103\"/>\r\n       <use x=\"994.287109\" xlink:href=\"#DejaVuSans-101\"/>\r\n      </g>\r\n     </g>\r\n    </g>\r\n    <g id=\"ytick_4\">\r\n     <g id=\"line2d_13\">\r\n      <g>\r\n       <use style=\"stroke:#000000;stroke-width:0.8;\" x=\"119.782813\" xlink:href=\"#m039456cc7b\" y=\"180.119219\"/>\r\n      </g>\r\n     </g>\r\n     <g id=\"text_13\">\r\n      <!-- total_rooms -->\r\n      <g transform=\"translate(53.84375 183.918437)scale(0.1 -0.1)\">\r\n       <use xlink:href=\"#DejaVuSans-116\"/>\r\n       <use x=\"39.208984\" xlink:href=\"#DejaVuSans-111\"/>\r\n       <use x=\"100.390625\" xlink:href=\"#DejaVuSans-116\"/>\r\n       <use x=\"139.599609\" xlink:href=\"#DejaVuSans-97\"/>\r\n       <use x=\"200.878906\" xlink:href=\"#DejaVuSans-108\"/>\r\n       <use x=\"228.662109\" xlink:href=\"#DejaVuSans-95\"/>\r\n       <use x=\"278.662109\" xlink:href=\"#DejaVuSans-114\"/>\r\n       <use x=\"317.525391\" xlink:href=\"#DejaVuSans-111\"/>\r\n       <use x=\"378.707031\" xlink:href=\"#DejaVuSans-111\"/>\r\n       <use x=\"439.888672\" xlink:href=\"#DejaVuSans-109\"/>\r\n       <use x=\"537.300781\" xlink:href=\"#DejaVuSans-115\"/>\r\n      </g>\r\n     </g>\r\n    </g>\r\n    <g id=\"ytick_5\">\r\n     <g id=\"line2d_14\">\r\n      <g>\r\n       <use style=\"stroke:#000000;stroke-width:0.8;\" x=\"119.782813\" xlink:href=\"#m039456cc7b\" y=\"228.439219\"/>\r\n      </g>\r\n     </g>\r\n     <g id=\"text_14\">\r\n      <!-- total_bedrooms -->\r\n      <g transform=\"translate(34.99375 232.238437)scale(0.1 -0.1)\">\r\n       <use xlink:href=\"#DejaVuSans-116\"/>\r\n       <use x=\"39.208984\" xlink:href=\"#DejaVuSans-111\"/>\r\n       <use x=\"100.390625\" xlink:href=\"#DejaVuSans-116\"/>\r\n       <use x=\"139.599609\" xlink:href=\"#DejaVuSans-97\"/>\r\n       <use x=\"200.878906\" xlink:href=\"#DejaVuSans-108\"/>\r\n       <use x=\"228.662109\" xlink:href=\"#DejaVuSans-95\"/>\r\n       <use x=\"278.662109\" xlink:href=\"#DejaVuSans-98\"/>\r\n       <use x=\"342.138672\" xlink:href=\"#DejaVuSans-101\"/>\r\n       <use x=\"403.662109\" xlink:href=\"#DejaVuSans-100\"/>\r\n       <use x=\"467.138672\" xlink:href=\"#DejaVuSans-114\"/>\r\n       <use x=\"506.001953\" xlink:href=\"#DejaVuSans-111\"/>\r\n       <use x=\"567.183594\" xlink:href=\"#DejaVuSans-111\"/>\r\n       <use x=\"628.365234\" xlink:href=\"#DejaVuSans-109\"/>\r\n       <use x=\"725.777344\" xlink:href=\"#DejaVuSans-115\"/>\r\n      </g>\r\n     </g>\r\n    </g>\r\n    <g id=\"ytick_6\">\r\n     <g id=\"line2d_15\">\r\n      <g>\r\n       <use style=\"stroke:#000000;stroke-width:0.8;\" x=\"119.782813\" xlink:href=\"#m039456cc7b\" y=\"276.759219\"/>\r\n      </g>\r\n     </g>\r\n     <g id=\"text_15\">\r\n      <!-- population -->\r\n      <g transform=\"translate(59.56875 280.558437)scale(0.1 -0.1)\">\r\n       <use xlink:href=\"#DejaVuSans-112\"/>\r\n       <use x=\"63.476562\" xlink:href=\"#DejaVuSans-111\"/>\r\n       <use x=\"124.658203\" xlink:href=\"#DejaVuSans-112\"/>\r\n       <use x=\"188.134766\" xlink:href=\"#DejaVuSans-117\"/>\r\n       <use x=\"251.513672\" xlink:href=\"#DejaVuSans-108\"/>\r\n       <use x=\"279.296875\" xlink:href=\"#DejaVuSans-97\"/>\r\n       <use x=\"340.576172\" xlink:href=\"#DejaVuSans-116\"/>\r\n       <use x=\"379.785156\" xlink:href=\"#DejaVuSans-105\"/>\r\n       <use x=\"407.568359\" xlink:href=\"#DejaVuSans-111\"/>\r\n       <use x=\"468.75\" xlink:href=\"#DejaVuSans-110\"/>\r\n      </g>\r\n     </g>\r\n    </g>\r\n    <g id=\"ytick_7\">\r\n     <g id=\"line2d_16\">\r\n      <g>\r\n       <use style=\"stroke:#000000;stroke-width:0.8;\" x=\"119.782813\" xlink:href=\"#m039456cc7b\" y=\"325.079219\"/>\r\n      </g>\r\n     </g>\r\n     <g id=\"text_16\">\r\n      <!-- households -->\r\n      <g transform=\"translate(55.834375 328.878437)scale(0.1 -0.1)\">\r\n       <use xlink:href=\"#DejaVuSans-104\"/>\r\n       <use x=\"63.378906\" xlink:href=\"#DejaVuSans-111\"/>\r\n       <use x=\"124.560547\" xlink:href=\"#DejaVuSans-117\"/>\r\n       <use x=\"187.939453\" xlink:href=\"#DejaVuSans-115\"/>\r\n       <use x=\"240.039062\" xlink:href=\"#DejaVuSans-101\"/>\r\n       <use x=\"301.5625\" xlink:href=\"#DejaVuSans-104\"/>\r\n       <use x=\"364.941406\" xlink:href=\"#DejaVuSans-111\"/>\r\n       <use x=\"426.123047\" xlink:href=\"#DejaVuSans-108\"/>\r\n       <use x=\"453.90625\" xlink:href=\"#DejaVuSans-100\"/>\r\n       <use x=\"517.382812\" xlink:href=\"#DejaVuSans-115\"/>\r\n      </g>\r\n     </g>\r\n    </g>\r\n    <g id=\"ytick_8\">\r\n     <g id=\"line2d_17\">\r\n      <g>\r\n       <use style=\"stroke:#000000;stroke-width:0.8;\" x=\"119.782813\" xlink:href=\"#m039456cc7b\" y=\"373.399219\"/>\r\n      </g>\r\n     </g>\r\n     <g id=\"text_17\">\r\n      <!-- median_income -->\r\n      <g transform=\"translate(33.670312 377.198437)scale(0.1 -0.1)\">\r\n       <use xlink:href=\"#DejaVuSans-109\"/>\r\n       <use x=\"97.412109\" xlink:href=\"#DejaVuSans-101\"/>\r\n       <use x=\"158.935547\" xlink:href=\"#DejaVuSans-100\"/>\r\n       <use x=\"222.412109\" xlink:href=\"#DejaVuSans-105\"/>\r\n       <use x=\"250.195312\" xlink:href=\"#DejaVuSans-97\"/>\r\n       <use x=\"311.474609\" xlink:href=\"#DejaVuSans-110\"/>\r\n       <use x=\"374.853516\" xlink:href=\"#DejaVuSans-95\"/>\r\n       <use x=\"424.853516\" xlink:href=\"#DejaVuSans-105\"/>\r\n       <use x=\"452.636719\" xlink:href=\"#DejaVuSans-110\"/>\r\n       <use x=\"516.015625\" xlink:href=\"#DejaVuSans-99\"/>\r\n       <use x=\"570.996094\" xlink:href=\"#DejaVuSans-111\"/>\r\n       <use x=\"632.177734\" xlink:href=\"#DejaVuSans-109\"/>\r\n       <use x=\"729.589844\" xlink:href=\"#DejaVuSans-101\"/>\r\n      </g>\r\n     </g>\r\n    </g>\r\n    <g id=\"ytick_9\">\r\n     <g id=\"line2d_18\">\r\n      <g>\r\n       <use style=\"stroke:#000000;stroke-width:0.8;\" x=\"119.782813\" xlink:href=\"#m039456cc7b\" y=\"421.719219\"/>\r\n      </g>\r\n     </g>\r\n     <g id=\"text_18\">\r\n      <!-- median_house_value -->\r\n      <g transform=\"translate(7.825 425.518438)scale(0.1 -0.1)\">\r\n       <use xlink:href=\"#DejaVuSans-109\"/>\r\n       <use x=\"97.412109\" xlink:href=\"#DejaVuSans-101\"/>\r\n       <use x=\"158.935547\" xlink:href=\"#DejaVuSans-100\"/>\r\n       <use x=\"222.412109\" xlink:href=\"#DejaVuSans-105\"/>\r\n       <use x=\"250.195312\" xlink:href=\"#DejaVuSans-97\"/>\r\n       <use x=\"311.474609\" xlink:href=\"#DejaVuSans-110\"/>\r\n       <use x=\"374.853516\" xlink:href=\"#DejaVuSans-95\"/>\r\n       <use x=\"424.853516\" xlink:href=\"#DejaVuSans-104\"/>\r\n       <use x=\"488.232422\" xlink:href=\"#DejaVuSans-111\"/>\r\n       <use x=\"549.414062\" xlink:href=\"#DejaVuSans-117\"/>\r\n       <use x=\"612.792969\" xlink:href=\"#DejaVuSans-115\"/>\r\n       <use x=\"664.892578\" xlink:href=\"#DejaVuSans-101\"/>\r\n       <use x=\"726.416016\" xlink:href=\"#DejaVuSans-95\"/>\r\n       <use x=\"776.416016\" xlink:href=\"#DejaVuSans-118\"/>\r\n       <use x=\"835.595703\" xlink:href=\"#DejaVuSans-97\"/>\r\n       <use x=\"896.875\" xlink:href=\"#DejaVuSans-108\"/>\r\n       <use x=\"924.658203\" xlink:href=\"#DejaVuSans-117\"/>\r\n       <use x=\"988.037109\" xlink:href=\"#DejaVuSans-101\"/>\r\n      </g>\r\n     </g>\r\n    </g>\r\n   </g>\r\n  </g>\r\n  <g id=\"axes_2\">\r\n   <g id=\"patch_3\">\r\n    <path clip-path=\"url(#pf363612cf0)\" d=\"M 582.562813 445.879219 \r\nL 582.562813 444.180469 \r\nL 582.562813 12.697969 \r\nL 582.562813 10.999219 \r\nL 604.306813 10.999219 \r\nL 604.306813 12.697969 \r\nL 604.306813 444.180469 \r\nL 604.306813 445.879219 \r\nz\r\n\" style=\"fill:#ffffff;stroke:#ffffff;stroke-linejoin:miter;stroke-width:0.01;\"/>\r\n   </g>\r\n   <image height=\"435\" id=\"image9a373719f4\" transform=\"scale(1 -1)translate(0 -435)\" width=\"21\" x=\"583\" xlink:href=\"data:image/png;base64,\r\niVBORw0KGgoAAAANSUhEUgAAABUAAAGzCAYAAADAJVzRAAACFUlEQVR4nO2c0XHDMAxD5Zz36mgdovtGXQL4ePeAAXigQUKk7OT5+f27J4z3eZ50zPOJRzznvJ8C07cQE5R+h2mjpFB1mg9aEupQnmmlpEgdlQ/KcSlQ73OYNlwKlT6FKcmkC0FBQqmZksYejFD207QQlCMUp/hBJeV2KXmdbuzJAzSfgp7plrM0OC4lv+0BCfXBWB+npNwuNaHysG/R8pVn82kcIJeS9z6H6d5HxYNymIKE4jCVd9TO/Tj0V51qpvJFgsN091J5yF0K1FFul5LXKcelUCY9pmHYlzO3S23syWMvD/JBOUJxih+UvtulQEKBTLoSFJM+SCgQ00LQCRXHvpfCCFUYeknpr6TS2FVnPuiEygPU+58b/y+g857vNx60k/4ppK9nWlD/vaD0MUxvQShS+hSmd0KlwbE+zjN9L6ik1EKReh8jVOGZosYejFCVjppQaaCKv1JSFKFIx0nFpCdUGK2xByMUxvrcMz9IKFLvNy4QQeljmDZueknpY5hiJpTGzD+h8mitPBShrnqUBAm1mT+Oyiwltz5OSYGEcs/8JOvjMJ1JpzGTVgs1k44H5aRv7/3Ol10TKo19K0lh2riYAaUPYqo++FBjD0Yo9500R6jSbooRSm19oN4HfdnlFopjfe6ZX/7elMN0Z1Qe8uJHWZ9aqO2mceh3U4z1gX51tHM/DVDvg3ZT0HFi3k0rQf8B7Xgfzfv/WW8AAAAASUVORK5CYII=\" y=\"-10\"/>\r\n   <g id=\"matplotlib.axis_3\"/>\r\n   <g id=\"matplotlib.axis_4\">\r\n    <g id=\"ytick_10\">\r\n     <g id=\"line2d_19\">\r\n      <defs>\r\n       <path d=\"M 0 0 \r\nL 3.5 0 \r\n\" id=\"ma47efe198d\" style=\"stroke:#000000;stroke-width:0.8;\"/>\r\n      </defs>\r\n      <g>\r\n       <use style=\"stroke:#000000;stroke-width:0.8;\" x=\"604.306813\" xlink:href=\"#ma47efe198d\" y=\"406.413602\"/>\r\n      </g>\r\n     </g>\r\n     <g id=\"text_19\">\r\n      <!-- −0.75 -->\r\n      <g transform=\"translate(611.306813 410.212821)scale(0.1 -0.1)\">\r\n       <defs>\r\n        <path d=\"M 10.59375 35.5 \r\nL 73.1875 35.5 \r\nL 73.1875 27.203125 \r\nL 10.59375 27.203125 \r\nz\r\n\" id=\"DejaVuSans-8722\"/>\r\n        <path d=\"M 31.78125 66.40625 \r\nQ 24.171875 66.40625 20.328125 58.90625 \r\nQ 16.5 51.421875 16.5 36.375 \r\nQ 16.5 21.390625 20.328125 13.890625 \r\nQ 24.171875 6.390625 31.78125 6.390625 \r\nQ 39.453125 6.390625 43.28125 13.890625 \r\nQ 47.125 21.390625 47.125 36.375 \r\nQ 47.125 51.421875 43.28125 58.90625 \r\nQ 39.453125 66.40625 31.78125 66.40625 \r\nz\r\nM 31.78125 74.21875 \r\nQ 44.046875 74.21875 50.515625 64.515625 \r\nQ 56.984375 54.828125 56.984375 36.375 \r\nQ 56.984375 17.96875 50.515625 8.265625 \r\nQ 44.046875 -1.421875 31.78125 -1.421875 \r\nQ 19.53125 -1.421875 13.0625 8.265625 \r\nQ 6.59375 17.96875 6.59375 36.375 \r\nQ 6.59375 54.828125 13.0625 64.515625 \r\nQ 19.53125 74.21875 31.78125 74.21875 \r\nz\r\n\" id=\"DejaVuSans-48\"/>\r\n        <path d=\"M 10.6875 12.40625 \r\nL 21 12.40625 \r\nL 21 0 \r\nL 10.6875 0 \r\nz\r\n\" id=\"DejaVuSans-46\"/>\r\n        <path d=\"M 8.203125 72.90625 \r\nL 55.078125 72.90625 \r\nL 55.078125 68.703125 \r\nL 28.609375 0 \r\nL 18.3125 0 \r\nL 43.21875 64.59375 \r\nL 8.203125 64.59375 \r\nz\r\n\" id=\"DejaVuSans-55\"/>\r\n        <path d=\"M 10.796875 72.90625 \r\nL 49.515625 72.90625 \r\nL 49.515625 64.59375 \r\nL 19.828125 64.59375 \r\nL 19.828125 46.734375 \r\nQ 21.96875 47.46875 24.109375 47.828125 \r\nQ 26.265625 48.1875 28.421875 48.1875 \r\nQ 40.625 48.1875 47.75 41.5 \r\nQ 54.890625 34.8125 54.890625 23.390625 \r\nQ 54.890625 11.625 47.5625 5.09375 \r\nQ 40.234375 -1.421875 26.90625 -1.421875 \r\nQ 22.3125 -1.421875 17.546875 -0.640625 \r\nQ 12.796875 0.140625 7.71875 1.703125 \r\nL 7.71875 11.625 \r\nQ 12.109375 9.234375 16.796875 8.0625 \r\nQ 21.484375 6.890625 26.703125 6.890625 \r\nQ 35.15625 6.890625 40.078125 11.328125 \r\nQ 45.015625 15.765625 45.015625 23.390625 \r\nQ 45.015625 31 40.078125 35.4375 \r\nQ 35.15625 39.890625 26.703125 39.890625 \r\nQ 22.75 39.890625 18.8125 39.015625 \r\nQ 14.890625 38.140625 10.796875 36.28125 \r\nz\r\n\" id=\"DejaVuSans-53\"/>\r\n       </defs>\r\n       <use xlink:href=\"#DejaVuSans-8722\"/>\r\n       <use x=\"83.789062\" xlink:href=\"#DejaVuSans-48\"/>\r\n       <use x=\"147.412109\" xlink:href=\"#DejaVuSans-46\"/>\r\n       <use x=\"179.199219\" xlink:href=\"#DejaVuSans-55\"/>\r\n       <use x=\"242.822266\" xlink:href=\"#DejaVuSans-53\"/>\r\n      </g>\r\n     </g>\r\n    </g>\r\n    <g id=\"ytick_11\">\r\n     <g id=\"line2d_20\">\r\n      <g>\r\n       <use style=\"stroke:#000000;stroke-width:0.8;\" x=\"604.306813\" xlink:href=\"#ma47efe198d\" y=\"349.925833\"/>\r\n      </g>\r\n     </g>\r\n     <g id=\"text_20\">\r\n      <!-- −0.50 -->\r\n      <g transform=\"translate(611.306813 353.725052)scale(0.1 -0.1)\">\r\n       <use xlink:href=\"#DejaVuSans-8722\"/>\r\n       <use x=\"83.789062\" xlink:href=\"#DejaVuSans-48\"/>\r\n       <use x=\"147.412109\" xlink:href=\"#DejaVuSans-46\"/>\r\n       <use x=\"179.199219\" xlink:href=\"#DejaVuSans-53\"/>\r\n       <use x=\"242.822266\" xlink:href=\"#DejaVuSans-48\"/>\r\n      </g>\r\n     </g>\r\n    </g>\r\n    <g id=\"ytick_12\">\r\n     <g id=\"line2d_21\">\r\n      <g>\r\n       <use style=\"stroke:#000000;stroke-width:0.8;\" x=\"604.306813\" xlink:href=\"#ma47efe198d\" y=\"293.438064\"/>\r\n      </g>\r\n     </g>\r\n     <g id=\"text_21\">\r\n      <!-- −0.25 -->\r\n      <g transform=\"translate(611.306813 297.237283)scale(0.1 -0.1)\">\r\n       <defs>\r\n        <path d=\"M 19.1875 8.296875 \r\nL 53.609375 8.296875 \r\nL 53.609375 0 \r\nL 7.328125 0 \r\nL 7.328125 8.296875 \r\nQ 12.9375 14.109375 22.625 23.890625 \r\nQ 32.328125 33.6875 34.8125 36.53125 \r\nQ 39.546875 41.84375 41.421875 45.53125 \r\nQ 43.3125 49.21875 43.3125 52.78125 \r\nQ 43.3125 58.59375 39.234375 62.25 \r\nQ 35.15625 65.921875 28.609375 65.921875 \r\nQ 23.96875 65.921875 18.8125 64.3125 \r\nQ 13.671875 62.703125 7.8125 59.421875 \r\nL 7.8125 69.390625 \r\nQ 13.765625 71.78125 18.9375 73 \r\nQ 24.125 74.21875 28.421875 74.21875 \r\nQ 39.75 74.21875 46.484375 68.546875 \r\nQ 53.21875 62.890625 53.21875 53.421875 \r\nQ 53.21875 48.921875 51.53125 44.890625 \r\nQ 49.859375 40.875 45.40625 35.40625 \r\nQ 44.1875 33.984375 37.640625 27.21875 \r\nQ 31.109375 20.453125 19.1875 8.296875 \r\nz\r\n\" id=\"DejaVuSans-50\"/>\r\n       </defs>\r\n       <use xlink:href=\"#DejaVuSans-8722\"/>\r\n       <use x=\"83.789062\" xlink:href=\"#DejaVuSans-48\"/>\r\n       <use x=\"147.412109\" xlink:href=\"#DejaVuSans-46\"/>\r\n       <use x=\"179.199219\" xlink:href=\"#DejaVuSans-50\"/>\r\n       <use x=\"242.822266\" xlink:href=\"#DejaVuSans-53\"/>\r\n      </g>\r\n     </g>\r\n    </g>\r\n    <g id=\"ytick_13\">\r\n     <g id=\"line2d_22\">\r\n      <g>\r\n       <use style=\"stroke:#000000;stroke-width:0.8;\" x=\"604.306813\" xlink:href=\"#ma47efe198d\" y=\"236.950295\"/>\r\n      </g>\r\n     </g>\r\n     <g id=\"text_22\">\r\n      <!-- 0.00 -->\r\n      <g transform=\"translate(611.306813 240.749514)scale(0.1 -0.1)\">\r\n       <use xlink:href=\"#DejaVuSans-48\"/>\r\n       <use x=\"63.623047\" xlink:href=\"#DejaVuSans-46\"/>\r\n       <use x=\"95.410156\" xlink:href=\"#DejaVuSans-48\"/>\r\n       <use x=\"159.033203\" xlink:href=\"#DejaVuSans-48\"/>\r\n      </g>\r\n     </g>\r\n    </g>\r\n    <g id=\"ytick_14\">\r\n     <g id=\"line2d_23\">\r\n      <g>\r\n       <use style=\"stroke:#000000;stroke-width:0.8;\" x=\"604.306813\" xlink:href=\"#ma47efe198d\" y=\"180.462526\"/>\r\n      </g>\r\n     </g>\r\n     <g id=\"text_23\">\r\n      <!-- 0.25 -->\r\n      <g transform=\"translate(611.306813 184.261745)scale(0.1 -0.1)\">\r\n       <use xlink:href=\"#DejaVuSans-48\"/>\r\n       <use x=\"63.623047\" xlink:href=\"#DejaVuSans-46\"/>\r\n       <use x=\"95.410156\" xlink:href=\"#DejaVuSans-50\"/>\r\n       <use x=\"159.033203\" xlink:href=\"#DejaVuSans-53\"/>\r\n      </g>\r\n     </g>\r\n    </g>\r\n    <g id=\"ytick_15\">\r\n     <g id=\"line2d_24\">\r\n      <g>\r\n       <use style=\"stroke:#000000;stroke-width:0.8;\" x=\"604.306813\" xlink:href=\"#ma47efe198d\" y=\"123.974757\"/>\r\n      </g>\r\n     </g>\r\n     <g id=\"text_24\">\r\n      <!-- 0.50 -->\r\n      <g transform=\"translate(611.306813 127.773976)scale(0.1 -0.1)\">\r\n       <use xlink:href=\"#DejaVuSans-48\"/>\r\n       <use x=\"63.623047\" xlink:href=\"#DejaVuSans-46\"/>\r\n       <use x=\"95.410156\" xlink:href=\"#DejaVuSans-53\"/>\r\n       <use x=\"159.033203\" xlink:href=\"#DejaVuSans-48\"/>\r\n      </g>\r\n     </g>\r\n    </g>\r\n    <g id=\"ytick_16\">\r\n     <g id=\"line2d_25\">\r\n      <g>\r\n       <use style=\"stroke:#000000;stroke-width:0.8;\" x=\"604.306813\" xlink:href=\"#ma47efe198d\" y=\"67.486988\"/>\r\n      </g>\r\n     </g>\r\n     <g id=\"text_25\">\r\n      <!-- 0.75 -->\r\n      <g transform=\"translate(611.306813 71.286207)scale(0.1 -0.1)\">\r\n       <use xlink:href=\"#DejaVuSans-48\"/>\r\n       <use x=\"63.623047\" xlink:href=\"#DejaVuSans-46\"/>\r\n       <use x=\"95.410156\" xlink:href=\"#DejaVuSans-55\"/>\r\n       <use x=\"159.033203\" xlink:href=\"#DejaVuSans-53\"/>\r\n      </g>\r\n     </g>\r\n    </g>\r\n    <g id=\"ytick_17\">\r\n     <g id=\"line2d_26\">\r\n      <g>\r\n       <use style=\"stroke:#000000;stroke-width:0.8;\" x=\"604.306813\" xlink:href=\"#ma47efe198d\" y=\"10.999219\"/>\r\n      </g>\r\n     </g>\r\n     <g id=\"text_26\">\r\n      <!-- 1.00 -->\r\n      <g transform=\"translate(611.306813 14.798437)scale(0.1 -0.1)\">\r\n       <defs>\r\n        <path d=\"M 12.40625 8.296875 \r\nL 28.515625 8.296875 \r\nL 28.515625 63.921875 \r\nL 10.984375 60.40625 \r\nL 10.984375 69.390625 \r\nL 28.421875 72.90625 \r\nL 38.28125 72.90625 \r\nL 38.28125 8.296875 \r\nL 54.390625 8.296875 \r\nL 54.390625 0 \r\nL 12.40625 0 \r\nz\r\n\" id=\"DejaVuSans-49\"/>\r\n       </defs>\r\n       <use xlink:href=\"#DejaVuSans-49\"/>\r\n       <use x=\"63.623047\" xlink:href=\"#DejaVuSans-46\"/>\r\n       <use x=\"95.410156\" xlink:href=\"#DejaVuSans-48\"/>\r\n       <use x=\"159.033203\" xlink:href=\"#DejaVuSans-48\"/>\r\n      </g>\r\n     </g>\r\n    </g>\r\n   </g>\r\n   <g id=\"patch_4\">\r\n    <path d=\"M 582.562813 445.879219 \r\nL 582.562813 444.180469 \r\nL 582.562813 12.697969 \r\nL 582.562813 10.999219 \r\nL 604.306813 10.999219 \r\nL 604.306813 12.697969 \r\nL 604.306813 444.180469 \r\nL 604.306813 445.879219 \r\nz\r\n\" style=\"fill:none;\"/>\r\n   </g>\r\n  </g>\r\n </g>\r\n <defs>\r\n  <clipPath id=\"pa955bbeaf3\">\r\n   <rect height=\"434.88\" width=\"434.88\" x=\"119.782813\" y=\"10.999219\"/>\r\n  </clipPath>\r\n  <clipPath id=\"pf363612cf0\">\r\n   <rect height=\"434.88\" width=\"21.744\" x=\"582.562813\" y=\"10.999219\"/>\r\n  </clipPath>\r\n </defs>\r\n</svg>\r\n",
      "text/plain": [
       "<Figure size 720x576 with 2 Axes>"
      ]
     },
     "metadata": {
      "needs_background": "light"
     },
     "output_type": "display_data"
    }
   ],
   "source": [
    "f, ax = plt.subplots(figsize=(10, 8))\n",
    "sns.heatmap(corr, mask=np.zeros_like(corr, dtype=bool), cmap=sns.diverging_palette(220, 10, as_cmap=True),\n",
    "            square=True,ax=ax)"
   ]
  },
  {
   "cell_type": "markdown",
   "metadata": {},
   "source": [
    "Features with high correlation are more linearly dependent and hence have almost the same effect on the dependent variable. So, when two features have high correlation, we can drop one of the two features.\n",
    "\n",
    "In our case, we can drop ``total_rooms`` and"
   ]
  },
  {
   "cell_type": "markdown",
   "metadata": {},
   "source": [
    "### Numerical Input, Categorical Output\n",
    "This is a classification predictive modeling problem with numerical input variables.\n",
    "\n",
    "This might be the most common example of a classification problem,\n",
    "\n",
    "Again, the most common techniques are correlation based, although in this case, they must take the categorical target into account.\n",
    "\n",
    "- ANOVA correlation coefficient (linear).\n",
    "- Kendall’s rank coefficient (nonlinear).\n",
    "\n",
    "Kendall does assume that the categorical variable is ordinal."
   ]
  },
  {
   "cell_type": "code",
   "execution_count": 11,
   "metadata": {},
   "outputs": [],
   "source": [
    "# ANOVA feature selection for numeric input and categorical output\n",
    "from sklearn.feature_selection import SelectKBest\n",
    "from sklearn.feature_selection import f_classif"
   ]
  },
  {
   "cell_type": "code",
   "execution_count": 12,
   "metadata": {},
   "outputs": [
    {
     "data": {
      "text/plain": [
       "0        NEAR BAY\n",
       "1        NEAR BAY\n",
       "2        NEAR BAY\n",
       "3        NEAR BAY\n",
       "4        NEAR BAY\n",
       "           ...   \n",
       "20635      INLAND\n",
       "20636      INLAND\n",
       "20637      INLAND\n",
       "20638      INLAND\n",
       "20639      INLAND\n",
       "Name: ocean_proximity, Length: 20640, dtype: object"
      ]
     },
     "execution_count": 12,
     "metadata": {},
     "output_type": "execute_result"
    }
   ],
   "source": [
    "# First, we need to specify the dependant variable and the independant ones\n",
    "\n",
    "X = df_housing[cols]\n",
    "y = df_housing['ocean_proximity']\n",
    "y"
   ]
  },
  {
   "cell_type": "code",
   "execution_count": 13,
   "metadata": {},
   "outputs": [
    {
     "data": {
      "text/plain": [
       "longitude               0\n",
       "latitude                0\n",
       "housing_median_age      0\n",
       "total_rooms             0\n",
       "total_bedrooms        207\n",
       "population              0\n",
       "households              0\n",
       "median_income           0\n",
       "median_house_value      0\n",
       "dtype: int64"
      ]
     },
     "execution_count": 13,
     "metadata": {},
     "output_type": "execute_result"
    }
   ],
   "source": [
    "X.isnull().sum()"
   ]
  },
  {
   "cell_type": "code",
   "execution_count": 14,
   "metadata": {},
   "outputs": [],
   "source": [
    "# Let's replace the missing values by the mean of that column\n",
    "X = X.fillna(X.mean())"
   ]
  },
  {
   "cell_type": "markdown",
   "metadata": {},
   "source": [
    "Let's call our feature selector. The ``score_func=f_classif`` computes the ANOVA F-value."
   ]
  },
  {
   "cell_type": "code",
   "execution_count": 15,
   "metadata": {},
   "outputs": [],
   "source": [
    "feature_selector = SelectKBest(score_func=f_classif,k='all')"
   ]
  },
  {
   "cell_type": "markdown",
   "metadata": {},
   "source": [
    "Then, we have to fit the selector to the data so it can learn the relationship between them."
   ]
  },
  {
   "cell_type": "code",
   "execution_count": 16,
   "metadata": {},
   "outputs": [
    {
     "data": {
      "text/plain": [
       "SelectKBest(k='all')"
      ]
     },
     "execution_count": 16,
     "metadata": {},
     "output_type": "execute_result"
    }
   ],
   "source": [
    "feature_selector.fit(X,y)"
   ]
  },
  {
   "cell_type": "code",
   "execution_count": 17,
   "metadata": {},
   "outputs": [
    {
     "data": {
      "text/plain": [
       "array([1827.9884879 , 2572.84562964,  560.20235918,    5.44930669,\n",
       "          2.99745439,   38.00245503,   11.57609269,  317.2904522 ,\n",
       "       1612.14073588])"
      ]
     },
     "execution_count": 17,
     "metadata": {},
     "output_type": "execute_result"
    }
   ],
   "source": [
    "feature_selector.scores_"
   ]
  },
  {
   "cell_type": "code",
   "execution_count": 18,
   "metadata": {},
   "outputs": [
    {
     "name": "stdout",
     "output_type": "stream",
     "text": [
      "Feature 0: 1827.988488\n",
      "Feature 1: 2572.845630\n",
      "Feature 2: 560.202359\n",
      "Feature 3: 5.449307\n",
      "Feature 4: 2.997454\n",
      "Feature 5: 38.002455\n",
      "Feature 6: 11.576093\n",
      "Feature 7: 317.290452\n",
      "Feature 8: 1612.140736\n"
     ]
    }
   ],
   "source": [
    "for i in range(len(feature_selector.scores_)):\n",
    "\tprint('Feature %d: %f' % (i, feature_selector.scores_[i]))"
   ]
  },
  {
   "cell_type": "code",
   "execution_count": 19,
   "metadata": {},
   "outputs": [
    {
     "data": {
      "text/plain": [
       "<BarContainer object of 9 artists>"
      ]
     },
     "execution_count": 19,
     "metadata": {},
     "output_type": "execute_result"
    },
    {
     "data": {
      "image/png": "[encoded data removed]",
      "image/svg+xml": "<?xml version=\"1.0\" encoding=\"utf-8\" standalone=\"no\"?>\r\n<!DOCTYPE svg PUBLIC \"-//W3C//DTD SVG 1.1//EN\"\r\n  \"http://www.w3.org/Graphics/SVG/1.1/DTD/svg11.dtd\">\r\n<!-- Created with matplotlib (https://matplotlib.org/) -->\r\n<svg height=\"248.518125pt\" version=\"1.1\" viewBox=\"0 0 381.65 248.518125\" width=\"381.65pt\" xmlns=\"http://www.w3.org/2000/svg\" xmlns:xlink=\"http://www.w3.org/1999/xlink\">\r\n <metadata>\r\n  <rdf:RDF xmlns:cc=\"http://creativecommons.org/ns#\" xmlns:dc=\"http://purl.org/dc/elements/1.1/\" xmlns:rdf=\"http://www.w3.org/1999/02/22-rdf-syntax-ns#\">\r\n   <cc:Work>\r\n    <dc:type rdf:resource=\"http://purl.org/dc/dcmitype/StillImage\"/>\r\n    <dc:date>2022-03-12T19:06:26.447368</dc:date>\r\n    <dc:format>image/svg+xml</dc:format>\r\n    <dc:creator>\r\n     <cc:Agent>\r\n      <dc:title>Matplotlib v3.3.4, https://matplotlib.org/</dc:title>\r\n     </cc:Agent>\r\n    </dc:creator>\r\n   </cc:Work>\r\n  </rdf:RDF>\r\n </metadata>\r\n <defs>\r\n  <style type=\"text/css\">*{stroke-linecap:butt;stroke-linejoin:round;}</style>\r\n </defs>\r\n <g id=\"figure_1\">\r\n  <g id=\"patch_1\">\r\n   <path d=\"M -0 248.518125 \r\nL 381.65 248.518125 \r\nL 381.65 0 \r\nL -0 0 \r\nz\r\n\" style=\"fill:none;\"/>\r\n  </g>\r\n  <g id=\"axes_1\">\r\n   <g id=\"patch_2\">\r\n    <path d=\"M 39.65 224.64 \r\nL 374.45 224.64 \r\nL 374.45 7.2 \r\nL 39.65 7.2 \r\nz\r\n\" style=\"fill:#ffffff;\"/>\r\n   </g>\r\n   <g id=\"patch_3\">\r\n    <path clip-path=\"url(#p1887ab3d65)\" d=\"M 54.868182 224.64 \r\nL 82.537603 224.64 \r\nL 82.537603 77.507076 \r\nL 54.868182 77.507076 \r\nz\r\n\" style=\"fill:#1f77b4;\"/>\r\n   </g>\r\n   <g id=\"patch_4\">\r\n    <path clip-path=\"url(#p1887ab3d65)\" d=\"M 89.454959 224.64 \r\nL 117.12438 224.64 \r\nL 117.12438 17.554286 \r\nL 89.454959 17.554286 \r\nz\r\n\" style=\"fill:#1f77b4;\"/>\r\n   </g>\r\n   <g id=\"patch_5\">\r\n    <path clip-path=\"url(#p1887ab3d65)\" d=\"M 124.041736 224.64 \r\nL 151.711157 224.64 \r\nL 151.711157 179.549885 \r\nL 124.041736 179.549885 \r\nz\r\n\" style=\"fill:#1f77b4;\"/>\r\n   </g>\r\n   <g id=\"patch_6\">\r\n    <path clip-path=\"url(#p1887ab3d65)\" d=\"M 158.628512 224.64 \r\nL 186.297934 224.64 \r\nL 186.297934 224.201391 \r\nL 158.628512 224.201391 \r\nz\r\n\" style=\"fill:#1f77b4;\"/>\r\n   </g>\r\n   <g id=\"patch_7\">\r\n    <path clip-path=\"url(#p1887ab3d65)\" d=\"M 193.215289 224.64 \r\nL 220.884711 224.64 \r\nL 220.884711 224.398738 \r\nL 193.215289 224.398738 \r\nz\r\n\" style=\"fill:#1f77b4;\"/>\r\n   </g>\r\n   <g id=\"patch_8\">\r\n    <path clip-path=\"url(#p1887ab3d65)\" d=\"M 227.802066 224.64 \r\nL 255.471488 224.64 \r\nL 255.471488 221.581221 \r\nL 227.802066 221.581221 \r\nz\r\n\" style=\"fill:#1f77b4;\"/>\r\n   </g>\r\n   <g id=\"patch_9\">\r\n    <path clip-path=\"url(#p1887ab3d65)\" d=\"M 262.388843 224.64 \r\nL 290.058264 224.64 \r\nL 290.058264 223.708252 \r\nL 262.388843 223.708252 \r\nz\r\n\" style=\"fill:#1f77b4;\"/>\r\n   </g>\r\n   <g id=\"patch_10\">\r\n    <path clip-path=\"url(#p1887ab3d65)\" d=\"M 296.97562 224.64 \r\nL 324.645041 224.64 \r\nL 324.645041 199.101616 \r\nL 296.97562 199.101616 \r\nz\r\n\" style=\"fill:#1f77b4;\"/>\r\n   </g>\r\n   <g id=\"patch_11\">\r\n    <path clip-path=\"url(#p1887ab3d65)\" d=\"M 331.562397 224.64 \r\nL 359.231818 224.64 \r\nL 359.231818 94.88044 \r\nL 331.562397 94.88044 \r\nz\r\n\" style=\"fill:#1f77b4;\"/>\r\n   </g>\r\n   <g id=\"matplotlib.axis_1\">\r\n    <g id=\"xtick_1\">\r\n     <g id=\"line2d_1\">\r\n      <defs>\r\n       <path d=\"M 0 0 \r\nL 0 3.5 \r\n\" id=\"ma7f337af74\" style=\"stroke:#000000;stroke-width:0.8;\"/>\r\n      </defs>\r\n      <g>\r\n       <use style=\"stroke:#000000;stroke-width:0.8;\" x=\"68.702893\" xlink:href=\"#ma7f337af74\" y=\"224.64\"/>\r\n      </g>\r\n     </g>\r\n     <g id=\"text_1\">\r\n      <!-- 0 -->\r\n      <g transform=\"translate(65.521643 239.238437)scale(0.1 -0.1)\">\r\n       <defs>\r\n        <path d=\"M 31.78125 66.40625 \r\nQ 24.171875 66.40625 20.328125 58.90625 \r\nQ 16.5 51.421875 16.5 36.375 \r\nQ 16.5 21.390625 20.328125 13.890625 \r\nQ 24.171875 6.390625 31.78125 6.390625 \r\nQ 39.453125 6.390625 43.28125 13.890625 \r\nQ 47.125 21.390625 47.125 36.375 \r\nQ 47.125 51.421875 43.28125 58.90625 \r\nQ 39.453125 66.40625 31.78125 66.40625 \r\nz\r\nM 31.78125 74.21875 \r\nQ 44.046875 74.21875 50.515625 64.515625 \r\nQ 56.984375 54.828125 56.984375 36.375 \r\nQ 56.984375 17.96875 50.515625 8.265625 \r\nQ 44.046875 -1.421875 31.78125 -1.421875 \r\nQ 19.53125 -1.421875 13.0625 8.265625 \r\nQ 6.59375 17.96875 6.59375 36.375 \r\nQ 6.59375 54.828125 13.0625 64.515625 \r\nQ 19.53125 74.21875 31.78125 74.21875 \r\nz\r\n\" id=\"DejaVuSans-48\"/>\r\n       </defs>\r\n       <use xlink:href=\"#DejaVuSans-48\"/>\r\n      </g>\r\n     </g>\r\n    </g>\r\n    <g id=\"xtick_2\">\r\n     <g id=\"line2d_2\">\r\n      <g>\r\n       <use style=\"stroke:#000000;stroke-width:0.8;\" x=\"137.876446\" xlink:href=\"#ma7f337af74\" y=\"224.64\"/>\r\n      </g>\r\n     </g>\r\n     <g id=\"text_2\">\r\n      <!-- 2 -->\r\n      <g transform=\"translate(134.695196 239.238437)scale(0.1 -0.1)\">\r\n       <defs>\r\n        <path d=\"M 19.1875 8.296875 \r\nL 53.609375 8.296875 \r\nL 53.609375 0 \r\nL 7.328125 0 \r\nL 7.328125 8.296875 \r\nQ 12.9375 14.109375 22.625 23.890625 \r\nQ 32.328125 33.6875 34.8125 36.53125 \r\nQ 39.546875 41.84375 41.421875 45.53125 \r\nQ 43.3125 49.21875 43.3125 52.78125 \r\nQ 43.3125 58.59375 39.234375 62.25 \r\nQ 35.15625 65.921875 28.609375 65.921875 \r\nQ 23.96875 65.921875 18.8125 64.3125 \r\nQ 13.671875 62.703125 7.8125 59.421875 \r\nL 7.8125 69.390625 \r\nQ 13.765625 71.78125 18.9375 73 \r\nQ 24.125 74.21875 28.421875 74.21875 \r\nQ 39.75 74.21875 46.484375 68.546875 \r\nQ 53.21875 62.890625 53.21875 53.421875 \r\nQ 53.21875 48.921875 51.53125 44.890625 \r\nQ 49.859375 40.875 45.40625 35.40625 \r\nQ 44.1875 33.984375 37.640625 27.21875 \r\nQ 31.109375 20.453125 19.1875 8.296875 \r\nz\r\n\" id=\"DejaVuSans-50\"/>\r\n       </defs>\r\n       <use xlink:href=\"#DejaVuSans-50\"/>\r\n      </g>\r\n     </g>\r\n    </g>\r\n    <g id=\"xtick_3\">\r\n     <g id=\"line2d_3\">\r\n      <g>\r\n       <use style=\"stroke:#000000;stroke-width:0.8;\" x=\"207.05\" xlink:href=\"#ma7f337af74\" y=\"224.64\"/>\r\n      </g>\r\n     </g>\r\n     <g id=\"text_3\">\r\n      <!-- 4 -->\r\n      <g transform=\"translate(203.86875 239.238437)scale(0.1 -0.1)\">\r\n       <defs>\r\n        <path d=\"M 37.796875 64.3125 \r\nL 12.890625 25.390625 \r\nL 37.796875 25.390625 \r\nz\r\nM 35.203125 72.90625 \r\nL 47.609375 72.90625 \r\nL 47.609375 25.390625 \r\nL 58.015625 25.390625 \r\nL 58.015625 17.1875 \r\nL 47.609375 17.1875 \r\nL 47.609375 0 \r\nL 37.796875 0 \r\nL 37.796875 17.1875 \r\nL 4.890625 17.1875 \r\nL 4.890625 26.703125 \r\nz\r\n\" id=\"DejaVuSans-52\"/>\r\n       </defs>\r\n       <use xlink:href=\"#DejaVuSans-52\"/>\r\n      </g>\r\n     </g>\r\n    </g>\r\n    <g id=\"xtick_4\">\r\n     <g id=\"line2d_4\">\r\n      <g>\r\n       <use style=\"stroke:#000000;stroke-width:0.8;\" x=\"276.223554\" xlink:href=\"#ma7f337af74\" y=\"224.64\"/>\r\n      </g>\r\n     </g>\r\n     <g id=\"text_4\">\r\n      <!-- 6 -->\r\n      <g transform=\"translate(273.042304 239.238437)scale(0.1 -0.1)\">\r\n       <defs>\r\n        <path d=\"M 33.015625 40.375 \r\nQ 26.375 40.375 22.484375 35.828125 \r\nQ 18.609375 31.296875 18.609375 23.390625 \r\nQ 18.609375 15.53125 22.484375 10.953125 \r\nQ 26.375 6.390625 33.015625 6.390625 \r\nQ 39.65625 6.390625 43.53125 10.953125 \r\nQ 47.40625 15.53125 47.40625 23.390625 \r\nQ 47.40625 31.296875 43.53125 35.828125 \r\nQ 39.65625 40.375 33.015625 40.375 \r\nz\r\nM 52.59375 71.296875 \r\nL 52.59375 62.3125 \r\nQ 48.875 64.0625 45.09375 64.984375 \r\nQ 41.3125 65.921875 37.59375 65.921875 \r\nQ 27.828125 65.921875 22.671875 59.328125 \r\nQ 17.53125 52.734375 16.796875 39.40625 \r\nQ 19.671875 43.65625 24.015625 45.921875 \r\nQ 28.375 48.1875 33.59375 48.1875 \r\nQ 44.578125 48.1875 50.953125 41.515625 \r\nQ 57.328125 34.859375 57.328125 23.390625 \r\nQ 57.328125 12.15625 50.6875 5.359375 \r\nQ 44.046875 -1.421875 33.015625 -1.421875 \r\nQ 20.359375 -1.421875 13.671875 8.265625 \r\nQ 6.984375 17.96875 6.984375 36.375 \r\nQ 6.984375 53.65625 15.1875 63.9375 \r\nQ 23.390625 74.21875 37.203125 74.21875 \r\nQ 40.921875 74.21875 44.703125 73.484375 \r\nQ 48.484375 72.75 52.59375 71.296875 \r\nz\r\n\" id=\"DejaVuSans-54\"/>\r\n       </defs>\r\n       <use xlink:href=\"#DejaVuSans-54\"/>\r\n      </g>\r\n     </g>\r\n    </g>\r\n    <g id=\"xtick_5\">\r\n     <g id=\"line2d_5\">\r\n      <g>\r\n       <use style=\"stroke:#000000;stroke-width:0.8;\" x=\"345.397107\" xlink:href=\"#ma7f337af74\" y=\"224.64\"/>\r\n      </g>\r\n     </g>\r\n     <g id=\"text_5\">\r\n      <!-- 8 -->\r\n      <g transform=\"translate(342.215857 239.238437)scale(0.1 -0.1)\">\r\n       <defs>\r\n        <path d=\"M 31.78125 34.625 \r\nQ 24.75 34.625 20.71875 30.859375 \r\nQ 16.703125 27.09375 16.703125 20.515625 \r\nQ 16.703125 13.921875 20.71875 10.15625 \r\nQ 24.75 6.390625 31.78125 6.390625 \r\nQ 38.8125 6.390625 42.859375 10.171875 \r\nQ 46.921875 13.96875 46.921875 20.515625 \r\nQ 46.921875 27.09375 42.890625 30.859375 \r\nQ 38.875 34.625 31.78125 34.625 \r\nz\r\nM 21.921875 38.8125 \r\nQ 15.578125 40.375 12.03125 44.71875 \r\nQ 8.5 49.078125 8.5 55.328125 \r\nQ 8.5 64.0625 14.71875 69.140625 \r\nQ 20.953125 74.21875 31.78125 74.21875 \r\nQ 42.671875 74.21875 48.875 69.140625 \r\nQ 55.078125 64.0625 55.078125 55.328125 \r\nQ 55.078125 49.078125 51.53125 44.71875 \r\nQ 48 40.375 41.703125 38.8125 \r\nQ 48.828125 37.15625 52.796875 32.3125 \r\nQ 56.78125 27.484375 56.78125 20.515625 \r\nQ 56.78125 9.90625 50.3125 4.234375 \r\nQ 43.84375 -1.421875 31.78125 -1.421875 \r\nQ 19.734375 -1.421875 13.25 4.234375 \r\nQ 6.78125 9.90625 6.78125 20.515625 \r\nQ 6.78125 27.484375 10.78125 32.3125 \r\nQ 14.796875 37.15625 21.921875 38.8125 \r\nz\r\nM 18.3125 54.390625 \r\nQ 18.3125 48.734375 21.84375 45.5625 \r\nQ 25.390625 42.390625 31.78125 42.390625 \r\nQ 38.140625 42.390625 41.71875 45.5625 \r\nQ 45.3125 48.734375 45.3125 54.390625 \r\nQ 45.3125 60.0625 41.71875 63.234375 \r\nQ 38.140625 66.40625 31.78125 66.40625 \r\nQ 25.390625 66.40625 21.84375 63.234375 \r\nQ 18.3125 60.0625 18.3125 54.390625 \r\nz\r\n\" id=\"DejaVuSans-56\"/>\r\n       </defs>\r\n       <use xlink:href=\"#DejaVuSans-56\"/>\r\n      </g>\r\n     </g>\r\n    </g>\r\n   </g>\r\n   <g id=\"matplotlib.axis_2\">\r\n    <g id=\"ytick_1\">\r\n     <g id=\"line2d_6\">\r\n      <defs>\r\n       <path d=\"M 0 0 \r\nL -3.5 0 \r\n\" id=\"m37edb01a4a\" style=\"stroke:#000000;stroke-width:0.8;\"/>\r\n      </defs>\r\n      <g>\r\n       <use style=\"stroke:#000000;stroke-width:0.8;\" x=\"39.65\" xlink:href=\"#m37edb01a4a\" y=\"224.64\"/>\r\n      </g>\r\n     </g>\r\n     <g id=\"text_6\">\r\n      <!-- 0 -->\r\n      <g transform=\"translate(26.2875 228.439219)scale(0.1 -0.1)\">\r\n       <use xlink:href=\"#DejaVuSans-48\"/>\r\n      </g>\r\n     </g>\r\n    </g>\r\n    <g id=\"ytick_2\">\r\n     <g id=\"line2d_7\">\r\n      <g>\r\n       <use style=\"stroke:#000000;stroke-width:0.8;\" x=\"39.65\" xlink:href=\"#m37edb01a4a\" y=\"184.395511\"/>\r\n      </g>\r\n     </g>\r\n     <g id=\"text_7\">\r\n      <!-- 500 -->\r\n      <g transform=\"translate(13.5625 188.19473)scale(0.1 -0.1)\">\r\n       <defs>\r\n        <path d=\"M 10.796875 72.90625 \r\nL 49.515625 72.90625 \r\nL 49.515625 64.59375 \r\nL 19.828125 64.59375 \r\nL 19.828125 46.734375 \r\nQ 21.96875 47.46875 24.109375 47.828125 \r\nQ 26.265625 48.1875 28.421875 48.1875 \r\nQ 40.625 48.1875 47.75 41.5 \r\nQ 54.890625 34.8125 54.890625 23.390625 \r\nQ 54.890625 11.625 47.5625 5.09375 \r\nQ 40.234375 -1.421875 26.90625 -1.421875 \r\nQ 22.3125 -1.421875 17.546875 -0.640625 \r\nQ 12.796875 0.140625 7.71875 1.703125 \r\nL 7.71875 11.625 \r\nQ 12.109375 9.234375 16.796875 8.0625 \r\nQ 21.484375 6.890625 26.703125 6.890625 \r\nQ 35.15625 6.890625 40.078125 11.328125 \r\nQ 45.015625 15.765625 45.015625 23.390625 \r\nQ 45.015625 31 40.078125 35.4375 \r\nQ 35.15625 39.890625 26.703125 39.890625 \r\nQ 22.75 39.890625 18.8125 39.015625 \r\nQ 14.890625 38.140625 10.796875 36.28125 \r\nz\r\n\" id=\"DejaVuSans-53\"/>\r\n       </defs>\r\n       <use xlink:href=\"#DejaVuSans-53\"/>\r\n       <use x=\"63.623047\" xlink:href=\"#DejaVuSans-48\"/>\r\n       <use x=\"127.246094\" xlink:href=\"#DejaVuSans-48\"/>\r\n      </g>\r\n     </g>\r\n    </g>\r\n    <g id=\"ytick_3\">\r\n     <g id=\"line2d_8\">\r\n      <g>\r\n       <use style=\"stroke:#000000;stroke-width:0.8;\" x=\"39.65\" xlink:href=\"#m37edb01a4a\" y=\"144.151022\"/>\r\n      </g>\r\n     </g>\r\n     <g id=\"text_8\">\r\n      <!-- 1000 -->\r\n      <g transform=\"translate(7.2 147.950241)scale(0.1 -0.1)\">\r\n       <defs>\r\n        <path d=\"M 12.40625 8.296875 \r\nL 28.515625 8.296875 \r\nL 28.515625 63.921875 \r\nL 10.984375 60.40625 \r\nL 10.984375 69.390625 \r\nL 28.421875 72.90625 \r\nL 38.28125 72.90625 \r\nL 38.28125 8.296875 \r\nL 54.390625 8.296875 \r\nL 54.390625 0 \r\nL 12.40625 0 \r\nz\r\n\" id=\"DejaVuSans-49\"/>\r\n       </defs>\r\n       <use xlink:href=\"#DejaVuSans-49\"/>\r\n       <use x=\"63.623047\" xlink:href=\"#DejaVuSans-48\"/>\r\n       <use x=\"127.246094\" xlink:href=\"#DejaVuSans-48\"/>\r\n       <use x=\"190.869141\" xlink:href=\"#DejaVuSans-48\"/>\r\n      </g>\r\n     </g>\r\n    </g>\r\n    <g id=\"ytick_4\">\r\n     <g id=\"line2d_9\">\r\n      <g>\r\n       <use style=\"stroke:#000000;stroke-width:0.8;\" x=\"39.65\" xlink:href=\"#m37edb01a4a\" y=\"103.906534\"/>\r\n      </g>\r\n     </g>\r\n     <g id=\"text_9\">\r\n      <!-- 1500 -->\r\n      <g transform=\"translate(7.2 107.705752)scale(0.1 -0.1)\">\r\n       <use xlink:href=\"#DejaVuSans-49\"/>\r\n       <use x=\"63.623047\" xlink:href=\"#DejaVuSans-53\"/>\r\n       <use x=\"127.246094\" xlink:href=\"#DejaVuSans-48\"/>\r\n       <use x=\"190.869141\" xlink:href=\"#DejaVuSans-48\"/>\r\n      </g>\r\n     </g>\r\n    </g>\r\n    <g id=\"ytick_5\">\r\n     <g id=\"line2d_10\">\r\n      <g>\r\n       <use style=\"stroke:#000000;stroke-width:0.8;\" x=\"39.65\" xlink:href=\"#m37edb01a4a\" y=\"63.662045\"/>\r\n      </g>\r\n     </g>\r\n     <g id=\"text_10\">\r\n      <!-- 2000 -->\r\n      <g transform=\"translate(7.2 67.461264)scale(0.1 -0.1)\">\r\n       <use xlink:href=\"#DejaVuSans-50\"/>\r\n       <use x=\"63.623047\" xlink:href=\"#DejaVuSans-48\"/>\r\n       <use x=\"127.246094\" xlink:href=\"#DejaVuSans-48\"/>\r\n       <use x=\"190.869141\" xlink:href=\"#DejaVuSans-48\"/>\r\n      </g>\r\n     </g>\r\n    </g>\r\n    <g id=\"ytick_6\">\r\n     <g id=\"line2d_11\">\r\n      <g>\r\n       <use style=\"stroke:#000000;stroke-width:0.8;\" x=\"39.65\" xlink:href=\"#m37edb01a4a\" y=\"23.417556\"/>\r\n      </g>\r\n     </g>\r\n     <g id=\"text_11\">\r\n      <!-- 2500 -->\r\n      <g transform=\"translate(7.2 27.216775)scale(0.1 -0.1)\">\r\n       <use xlink:href=\"#DejaVuSans-50\"/>\r\n       <use x=\"63.623047\" xlink:href=\"#DejaVuSans-53\"/>\r\n       <use x=\"127.246094\" xlink:href=\"#DejaVuSans-48\"/>\r\n       <use x=\"190.869141\" xlink:href=\"#DejaVuSans-48\"/>\r\n      </g>\r\n     </g>\r\n    </g>\r\n   </g>\r\n   <g id=\"patch_12\">\r\n    <path d=\"M 39.65 224.64 \r\nL 39.65 7.2 \r\n\" style=\"fill:none;stroke:#000000;stroke-linecap:square;stroke-linejoin:miter;stroke-width:0.8;\"/>\r\n   </g>\r\n   <g id=\"patch_13\">\r\n    <path d=\"M 374.45 224.64 \r\nL 374.45 7.2 \r\n\" style=\"fill:none;stroke:#000000;stroke-linecap:square;stroke-linejoin:miter;stroke-width:0.8;\"/>\r\n   </g>\r\n   <g id=\"patch_14\">\r\n    <path d=\"M 39.65 224.64 \r\nL 374.45 224.64 \r\n\" style=\"fill:none;stroke:#000000;stroke-linecap:square;stroke-linejoin:miter;stroke-width:0.8;\"/>\r\n   </g>\r\n   <g id=\"patch_15\">\r\n    <path d=\"M 39.65 7.2 \r\nL 374.45 7.2 \r\n\" style=\"fill:none;stroke:#000000;stroke-linecap:square;stroke-linejoin:miter;stroke-width:0.8;\"/>\r\n   </g>\r\n  </g>\r\n </g>\r\n <defs>\r\n  <clipPath id=\"p1887ab3d65\">\r\n   <rect height=\"217.44\" width=\"334.8\" x=\"39.65\" y=\"7.2\"/>\r\n  </clipPath>\r\n </defs>\r\n</svg>\r\n",
      "text/plain": [
       "<Figure size 432x288 with 1 Axes>"
      ]
     },
     "metadata": {
      "needs_background": "light"
     },
     "output_type": "display_data"
    }
   ],
   "source": [
    "plt.bar([i for i in range(len(feature_selector.scores_))],feature_selector.scores_)"
   ]
  },
  {
   "cell_type": "markdown",
   "metadata": {},
   "source": [
    "Feature 0, 1 and 8 have more impact on our target variable."
   ]
  },
  {
   "cell_type": "markdown",
   "metadata": {},
   "source": [
    "### Categorical Input, Categorical Output\n",
    "This is a classification predictive modeling problem with categorical input variables.\n",
    "\n",
    "The most common correlation measure for categorical data is the chi-squared test. You can also use mutual information (information gain) from the field of information theory.\n",
    "\n",
    "- Chi-Squared test (contingency tables).\n",
    "- Mutual Information.\n",
    "In fact, mutual information is a powerful method that may prove useful for both categorical and numerical data, e.g. it is agnostic to the data types."
   ]
  },
  {
   "cell_type": "markdown",
   "metadata": {},
   "source": [
    "For this case, we'll be using the titanic dataset."
   ]
  },
  {
   "cell_type": "code",
   "execution_count": 20,
   "metadata": {},
   "outputs": [],
   "source": [
    "df_titanic = pd.read_csv('data/titanic.csv')"
   ]
  },
  {
   "cell_type": "code",
   "execution_count": 21,
   "metadata": {},
   "outputs": [
    {
     "data": {
      "text/html": [
       "<div>\n",
       "<style scoped>\n",
       "    .dataframe tbody tr th:only-of-type {\n",
       "        vertical-align: middle;\n",
       "    }\n",
       "\n",
       "    .dataframe tbody tr th {\n",
       "        vertical-align: top;\n",
       "    }\n",
       "\n",
       "    .dataframe thead th {\n",
       "        text-align: right;\n",
       "    }\n",
       "</style>\n",
       "<table border=\"1\" class=\"dataframe\">\n",
       "  <thead>\n",
       "    <tr style=\"text-align: right;\">\n",
       "      <th></th>\n",
       "      <th>PassengerId</th>\n",
       "      <th>Survived</th>\n",
       "      <th>Pclass</th>\n",
       "      <th>Name</th>\n",
       "      <th>Sex</th>\n",
       "      <th>Age</th>\n",
       "      <th>SibSp</th>\n",
       "      <th>Parch</th>\n",
       "      <th>Ticket</th>\n",
       "      <th>Fare</th>\n",
       "      <th>Cabin</th>\n",
       "      <th>Embarked</th>\n",
       "    </tr>\n",
       "  </thead>\n",
       "  <tbody>\n",
       "    <tr>\n",
       "      <th>0</th>\n",
       "      <td>1</td>\n",
       "      <td>0</td>\n",
       "      <td>3</td>\n",
       "      <td>Braund, Mr. Owen Harris</td>\n",
       "      <td>male</td>\n",
       "      <td>22.0</td>\n",
       "      <td>1</td>\n",
       "      <td>0</td>\n",
       "      <td>A/5 21171</td>\n",
       "      <td>7.2500</td>\n",
       "      <td>NaN</td>\n",
       "      <td>S</td>\n",
       "    </tr>\n",
       "    <tr>\n",
       "      <th>1</th>\n",
       "      <td>2</td>\n",
       "      <td>1</td>\n",
       "      <td>1</td>\n",
       "      <td>Cumings, Mrs. John Bradley (Florence Briggs Th...</td>\n",
       "      <td>female</td>\n",
       "      <td>38.0</td>\n",
       "      <td>1</td>\n",
       "      <td>0</td>\n",
       "      <td>PC 17599</td>\n",
       "      <td>71.2833</td>\n",
       "      <td>C85</td>\n",
       "      <td>C</td>\n",
       "    </tr>\n",
       "    <tr>\n",
       "      <th>2</th>\n",
       "      <td>3</td>\n",
       "      <td>1</td>\n",
       "      <td>3</td>\n",
       "      <td>Heikkinen, Miss. Laina</td>\n",
       "      <td>female</td>\n",
       "      <td>26.0</td>\n",
       "      <td>0</td>\n",
       "      <td>0</td>\n",
       "      <td>STON/O2. 3101282</td>\n",
       "      <td>7.9250</td>\n",
       "      <td>NaN</td>\n",
       "      <td>S</td>\n",
       "    </tr>\n",
       "    <tr>\n",
       "      <th>3</th>\n",
       "      <td>4</td>\n",
       "      <td>1</td>\n",
       "      <td>1</td>\n",
       "      <td>Futrelle, Mrs. Jacques Heath (Lily May Peel)</td>\n",
       "      <td>female</td>\n",
       "      <td>35.0</td>\n",
       "      <td>1</td>\n",
       "      <td>0</td>\n",
       "      <td>113803</td>\n",
       "      <td>53.1000</td>\n",
       "      <td>C123</td>\n",
       "      <td>S</td>\n",
       "    </tr>\n",
       "    <tr>\n",
       "      <th>4</th>\n",
       "      <td>5</td>\n",
       "      <td>0</td>\n",
       "      <td>3</td>\n",
       "      <td>Allen, Mr. William Henry</td>\n",
       "      <td>male</td>\n",
       "      <td>35.0</td>\n",
       "      <td>0</td>\n",
       "      <td>0</td>\n",
       "      <td>373450</td>\n",
       "      <td>8.0500</td>\n",
       "      <td>NaN</td>\n",
       "      <td>S</td>\n",
       "    </tr>\n",
       "  </tbody>\n",
       "</table>\n",
       "</div>"
      ],
      "text/plain": [
       "   PassengerId  Survived  Pclass  \\\n",
       "0            1         0       3   \n",
       "1            2         1       1   \n",
       "2            3         1       3   \n",
       "3            4         1       1   \n",
       "4            5         0       3   \n",
       "\n",
       "                                                Name     Sex   Age  SibSp  \\\n",
       "0                            Braund, Mr. Owen Harris    male  22.0      1   \n",
       "1  Cumings, Mrs. John Bradley (Florence Briggs Th...  female  38.0      1   \n",
       "2                             Heikkinen, Miss. Laina  female  26.0      0   \n",
       "3       Futrelle, Mrs. Jacques Heath (Lily May Peel)  female  35.0      1   \n",
       "4                           Allen, Mr. William Henry    male  35.0      0   \n",
       "\n",
       "   Parch            Ticket     Fare Cabin Embarked  \n",
       "0      0         A/5 21171   7.2500   NaN        S  \n",
       "1      0          PC 17599  71.2833   C85        C  \n",
       "2      0  STON/O2. 3101282   7.9250   NaN        S  \n",
       "3      0            113803  53.1000  C123        S  \n",
       "4      0            373450   8.0500   NaN        S  "
      ]
     },
     "execution_count": 21,
     "metadata": {},
     "output_type": "execute_result"
    }
   ],
   "source": [
    "df_titanic.head()"
   ]
  },
  {
   "cell_type": "code",
   "execution_count": 22,
   "metadata": {},
   "outputs": [],
   "source": [
    "# Target variable is \"Survived\". We gonna remove the \"Name\" variable since it's irrelevant.\n",
    "cols = list(df_titanic.columns)\n",
    "cols.remove('Survived')\n",
    "cols.remove('Name')\n",
    "cols.remove('Embarked')\n",
    "cols.remove('Cabin')\n",
    "cols.remove('Ticket')"
   ]
  },
  {
   "cell_type": "code",
   "execution_count": 23,
   "metadata": {},
   "outputs": [],
   "source": [
    "X = df_titanic[cols]\n",
    "y = df_titanic['Survived']"
   ]
  },
  {
   "cell_type": "code",
   "execution_count": 24,
   "metadata": {},
   "outputs": [
    {
     "data": {
      "text/html": [
       "<div>\n",
       "<style scoped>\n",
       "    .dataframe tbody tr th:only-of-type {\n",
       "        vertical-align: middle;\n",
       "    }\n",
       "\n",
       "    .dataframe tbody tr th {\n",
       "        vertical-align: top;\n",
       "    }\n",
       "\n",
       "    .dataframe thead th {\n",
       "        text-align: right;\n",
       "    }\n",
       "</style>\n",
       "<table border=\"1\" class=\"dataframe\">\n",
       "  <thead>\n",
       "    <tr style=\"text-align: right;\">\n",
       "      <th></th>\n",
       "      <th>PassengerId</th>\n",
       "      <th>Pclass</th>\n",
       "      <th>Sex</th>\n",
       "      <th>Age</th>\n",
       "      <th>SibSp</th>\n",
       "      <th>Parch</th>\n",
       "      <th>Fare</th>\n",
       "    </tr>\n",
       "  </thead>\n",
       "  <tbody>\n",
       "    <tr>\n",
       "      <th>0</th>\n",
       "      <td>1</td>\n",
       "      <td>3</td>\n",
       "      <td>male</td>\n",
       "      <td>22.0</td>\n",
       "      <td>1</td>\n",
       "      <td>0</td>\n",
       "      <td>7.2500</td>\n",
       "    </tr>\n",
       "    <tr>\n",
       "      <th>1</th>\n",
       "      <td>2</td>\n",
       "      <td>1</td>\n",
       "      <td>female</td>\n",
       "      <td>38.0</td>\n",
       "      <td>1</td>\n",
       "      <td>0</td>\n",
       "      <td>71.2833</td>\n",
       "    </tr>\n",
       "    <tr>\n",
       "      <th>2</th>\n",
       "      <td>3</td>\n",
       "      <td>3</td>\n",
       "      <td>female</td>\n",
       "      <td>26.0</td>\n",
       "      <td>0</td>\n",
       "      <td>0</td>\n",
       "      <td>7.9250</td>\n",
       "    </tr>\n",
       "    <tr>\n",
       "      <th>3</th>\n",
       "      <td>4</td>\n",
       "      <td>1</td>\n",
       "      <td>female</td>\n",
       "      <td>35.0</td>\n",
       "      <td>1</td>\n",
       "      <td>0</td>\n",
       "      <td>53.1000</td>\n",
       "    </tr>\n",
       "    <tr>\n",
       "      <th>4</th>\n",
       "      <td>5</td>\n",
       "      <td>3</td>\n",
       "      <td>male</td>\n",
       "      <td>35.0</td>\n",
       "      <td>0</td>\n",
       "      <td>0</td>\n",
       "      <td>8.0500</td>\n",
       "    </tr>\n",
       "    <tr>\n",
       "      <th>...</th>\n",
       "      <td>...</td>\n",
       "      <td>...</td>\n",
       "      <td>...</td>\n",
       "      <td>...</td>\n",
       "      <td>...</td>\n",
       "      <td>...</td>\n",
       "      <td>...</td>\n",
       "    </tr>\n",
       "    <tr>\n",
       "      <th>886</th>\n",
       "      <td>887</td>\n",
       "      <td>2</td>\n",
       "      <td>male</td>\n",
       "      <td>27.0</td>\n",
       "      <td>0</td>\n",
       "      <td>0</td>\n",
       "      <td>13.0000</td>\n",
       "    </tr>\n",
       "    <tr>\n",
       "      <th>887</th>\n",
       "      <td>888</td>\n",
       "      <td>1</td>\n",
       "      <td>female</td>\n",
       "      <td>19.0</td>\n",
       "      <td>0</td>\n",
       "      <td>0</td>\n",
       "      <td>30.0000</td>\n",
       "    </tr>\n",
       "    <tr>\n",
       "      <th>888</th>\n",
       "      <td>889</td>\n",
       "      <td>3</td>\n",
       "      <td>female</td>\n",
       "      <td>NaN</td>\n",
       "      <td>1</td>\n",
       "      <td>2</td>\n",
       "      <td>23.4500</td>\n",
       "    </tr>\n",
       "    <tr>\n",
       "      <th>889</th>\n",
       "      <td>890</td>\n",
       "      <td>1</td>\n",
       "      <td>male</td>\n",
       "      <td>26.0</td>\n",
       "      <td>0</td>\n",
       "      <td>0</td>\n",
       "      <td>30.0000</td>\n",
       "    </tr>\n",
       "    <tr>\n",
       "      <th>890</th>\n",
       "      <td>891</td>\n",
       "      <td>3</td>\n",
       "      <td>male</td>\n",
       "      <td>32.0</td>\n",
       "      <td>0</td>\n",
       "      <td>0</td>\n",
       "      <td>7.7500</td>\n",
       "    </tr>\n",
       "  </tbody>\n",
       "</table>\n",
       "<p>891 rows × 7 columns</p>\n",
       "</div>"
      ],
      "text/plain": [
       "     PassengerId  Pclass     Sex   Age  SibSp  Parch     Fare\n",
       "0              1       3    male  22.0      1      0   7.2500\n",
       "1              2       1  female  38.0      1      0  71.2833\n",
       "2              3       3  female  26.0      0      0   7.9250\n",
       "3              4       1  female  35.0      1      0  53.1000\n",
       "4              5       3    male  35.0      0      0   8.0500\n",
       "..           ...     ...     ...   ...    ...    ...      ...\n",
       "886          887       2    male  27.0      0      0  13.0000\n",
       "887          888       1  female  19.0      0      0  30.0000\n",
       "888          889       3  female   NaN      1      2  23.4500\n",
       "889          890       1    male  26.0      0      0  30.0000\n",
       "890          891       3    male  32.0      0      0   7.7500\n",
       "\n",
       "[891 rows x 7 columns]"
      ]
     },
     "execution_count": 24,
     "metadata": {},
     "output_type": "execute_result"
    }
   ],
   "source": [
    "X"
   ]
  },
  {
   "cell_type": "markdown",
   "metadata": {},
   "source": [
    "Let's use Hot Code Encoding for ``Sex`` column."
   ]
  },
  {
   "cell_type": "code",
   "execution_count": 25,
   "metadata": {},
   "outputs": [],
   "source": [
    "X = pd.get_dummies(X,columns=['Sex'])"
   ]
  },
  {
   "cell_type": "code",
   "execution_count": 26,
   "metadata": {},
   "outputs": [
    {
     "data": {
      "text/html": [
       "<div>\n",
       "<style scoped>\n",
       "    .dataframe tbody tr th:only-of-type {\n",
       "        vertical-align: middle;\n",
       "    }\n",
       "\n",
       "    .dataframe tbody tr th {\n",
       "        vertical-align: top;\n",
       "    }\n",
       "\n",
       "    .dataframe thead th {\n",
       "        text-align: right;\n",
       "    }\n",
       "</style>\n",
       "<table border=\"1\" class=\"dataframe\">\n",
       "  <thead>\n",
       "    <tr style=\"text-align: right;\">\n",
       "      <th></th>\n",
       "      <th>PassengerId</th>\n",
       "      <th>Pclass</th>\n",
       "      <th>Age</th>\n",
       "      <th>SibSp</th>\n",
       "      <th>Parch</th>\n",
       "      <th>Fare</th>\n",
       "      <th>Sex_female</th>\n",
       "      <th>Sex_male</th>\n",
       "    </tr>\n",
       "  </thead>\n",
       "  <tbody>\n",
       "    <tr>\n",
       "      <th>0</th>\n",
       "      <td>1</td>\n",
       "      <td>3</td>\n",
       "      <td>22.0</td>\n",
       "      <td>1</td>\n",
       "      <td>0</td>\n",
       "      <td>7.2500</td>\n",
       "      <td>0</td>\n",
       "      <td>1</td>\n",
       "    </tr>\n",
       "    <tr>\n",
       "      <th>1</th>\n",
       "      <td>2</td>\n",
       "      <td>1</td>\n",
       "      <td>38.0</td>\n",
       "      <td>1</td>\n",
       "      <td>0</td>\n",
       "      <td>71.2833</td>\n",
       "      <td>1</td>\n",
       "      <td>0</td>\n",
       "    </tr>\n",
       "    <tr>\n",
       "      <th>2</th>\n",
       "      <td>3</td>\n",
       "      <td>3</td>\n",
       "      <td>26.0</td>\n",
       "      <td>0</td>\n",
       "      <td>0</td>\n",
       "      <td>7.9250</td>\n",
       "      <td>1</td>\n",
       "      <td>0</td>\n",
       "    </tr>\n",
       "    <tr>\n",
       "      <th>3</th>\n",
       "      <td>4</td>\n",
       "      <td>1</td>\n",
       "      <td>35.0</td>\n",
       "      <td>1</td>\n",
       "      <td>0</td>\n",
       "      <td>53.1000</td>\n",
       "      <td>1</td>\n",
       "      <td>0</td>\n",
       "    </tr>\n",
       "    <tr>\n",
       "      <th>4</th>\n",
       "      <td>5</td>\n",
       "      <td>3</td>\n",
       "      <td>35.0</td>\n",
       "      <td>0</td>\n",
       "      <td>0</td>\n",
       "      <td>8.0500</td>\n",
       "      <td>0</td>\n",
       "      <td>1</td>\n",
       "    </tr>\n",
       "  </tbody>\n",
       "</table>\n",
       "</div>"
      ],
      "text/plain": [
       "   PassengerId  Pclass   Age  SibSp  Parch     Fare  Sex_female  Sex_male\n",
       "0            1       3  22.0      1      0   7.2500           0         1\n",
       "1            2       1  38.0      1      0  71.2833           1         0\n",
       "2            3       3  26.0      0      0   7.9250           1         0\n",
       "3            4       1  35.0      1      0  53.1000           1         0\n",
       "4            5       3  35.0      0      0   8.0500           0         1"
      ]
     },
     "execution_count": 26,
     "metadata": {},
     "output_type": "execute_result"
    }
   ],
   "source": [
    "X.head()"
   ]
  },
  {
   "cell_type": "markdown",
   "metadata": {},
   "source": [
    "The ``Sex`` column got replaced by two different column. We can drop one and keep the other."
   ]
  },
  {
   "cell_type": "code",
   "execution_count": 27,
   "metadata": {},
   "outputs": [],
   "source": [
    "X.drop(\"Sex_male\",axis=1,inplace=True)"
   ]
  },
  {
   "cell_type": "code",
   "execution_count": 28,
   "metadata": {},
   "outputs": [
    {
     "data": {
      "text/html": [
       "<div>\n",
       "<style scoped>\n",
       "    .dataframe tbody tr th:only-of-type {\n",
       "        vertical-align: middle;\n",
       "    }\n",
       "\n",
       "    .dataframe tbody tr th {\n",
       "        vertical-align: top;\n",
       "    }\n",
       "\n",
       "    .dataframe thead th {\n",
       "        text-align: right;\n",
       "    }\n",
       "</style>\n",
       "<table border=\"1\" class=\"dataframe\">\n",
       "  <thead>\n",
       "    <tr style=\"text-align: right;\">\n",
       "      <th></th>\n",
       "      <th>PassengerId</th>\n",
       "      <th>Pclass</th>\n",
       "      <th>Age</th>\n",
       "      <th>SibSp</th>\n",
       "      <th>Parch</th>\n",
       "      <th>Fare</th>\n",
       "      <th>Sex_female</th>\n",
       "    </tr>\n",
       "  </thead>\n",
       "  <tbody>\n",
       "    <tr>\n",
       "      <th>0</th>\n",
       "      <td>1</td>\n",
       "      <td>3</td>\n",
       "      <td>22.0</td>\n",
       "      <td>1</td>\n",
       "      <td>0</td>\n",
       "      <td>7.2500</td>\n",
       "      <td>0</td>\n",
       "    </tr>\n",
       "    <tr>\n",
       "      <th>1</th>\n",
       "      <td>2</td>\n",
       "      <td>1</td>\n",
       "      <td>38.0</td>\n",
       "      <td>1</td>\n",
       "      <td>0</td>\n",
       "      <td>71.2833</td>\n",
       "      <td>1</td>\n",
       "    </tr>\n",
       "    <tr>\n",
       "      <th>2</th>\n",
       "      <td>3</td>\n",
       "      <td>3</td>\n",
       "      <td>26.0</td>\n",
       "      <td>0</td>\n",
       "      <td>0</td>\n",
       "      <td>7.9250</td>\n",
       "      <td>1</td>\n",
       "    </tr>\n",
       "    <tr>\n",
       "      <th>3</th>\n",
       "      <td>4</td>\n",
       "      <td>1</td>\n",
       "      <td>35.0</td>\n",
       "      <td>1</td>\n",
       "      <td>0</td>\n",
       "      <td>53.1000</td>\n",
       "      <td>1</td>\n",
       "    </tr>\n",
       "    <tr>\n",
       "      <th>4</th>\n",
       "      <td>5</td>\n",
       "      <td>3</td>\n",
       "      <td>35.0</td>\n",
       "      <td>0</td>\n",
       "      <td>0</td>\n",
       "      <td>8.0500</td>\n",
       "      <td>0</td>\n",
       "    </tr>\n",
       "    <tr>\n",
       "      <th>...</th>\n",
       "      <td>...</td>\n",
       "      <td>...</td>\n",
       "      <td>...</td>\n",
       "      <td>...</td>\n",
       "      <td>...</td>\n",
       "      <td>...</td>\n",
       "      <td>...</td>\n",
       "    </tr>\n",
       "    <tr>\n",
       "      <th>886</th>\n",
       "      <td>887</td>\n",
       "      <td>2</td>\n",
       "      <td>27.0</td>\n",
       "      <td>0</td>\n",
       "      <td>0</td>\n",
       "      <td>13.0000</td>\n",
       "      <td>0</td>\n",
       "    </tr>\n",
       "    <tr>\n",
       "      <th>887</th>\n",
       "      <td>888</td>\n",
       "      <td>1</td>\n",
       "      <td>19.0</td>\n",
       "      <td>0</td>\n",
       "      <td>0</td>\n",
       "      <td>30.0000</td>\n",
       "      <td>1</td>\n",
       "    </tr>\n",
       "    <tr>\n",
       "      <th>888</th>\n",
       "      <td>889</td>\n",
       "      <td>3</td>\n",
       "      <td>NaN</td>\n",
       "      <td>1</td>\n",
       "      <td>2</td>\n",
       "      <td>23.4500</td>\n",
       "      <td>1</td>\n",
       "    </tr>\n",
       "    <tr>\n",
       "      <th>889</th>\n",
       "      <td>890</td>\n",
       "      <td>1</td>\n",
       "      <td>26.0</td>\n",
       "      <td>0</td>\n",
       "      <td>0</td>\n",
       "      <td>30.0000</td>\n",
       "      <td>0</td>\n",
       "    </tr>\n",
       "    <tr>\n",
       "      <th>890</th>\n",
       "      <td>891</td>\n",
       "      <td>3</td>\n",
       "      <td>32.0</td>\n",
       "      <td>0</td>\n",
       "      <td>0</td>\n",
       "      <td>7.7500</td>\n",
       "      <td>0</td>\n",
       "    </tr>\n",
       "  </tbody>\n",
       "</table>\n",
       "<p>891 rows × 7 columns</p>\n",
       "</div>"
      ],
      "text/plain": [
       "     PassengerId  Pclass   Age  SibSp  Parch     Fare  Sex_female\n",
       "0              1       3  22.0      1      0   7.2500           0\n",
       "1              2       1  38.0      1      0  71.2833           1\n",
       "2              3       3  26.0      0      0   7.9250           1\n",
       "3              4       1  35.0      1      0  53.1000           1\n",
       "4              5       3  35.0      0      0   8.0500           0\n",
       "..           ...     ...   ...    ...    ...      ...         ...\n",
       "886          887       2  27.0      0      0  13.0000           0\n",
       "887          888       1  19.0      0      0  30.0000           1\n",
       "888          889       3   NaN      1      2  23.4500           1\n",
       "889          890       1  26.0      0      0  30.0000           0\n",
       "890          891       3  32.0      0      0   7.7500           0\n",
       "\n",
       "[891 rows x 7 columns]"
      ]
     },
     "execution_count": 28,
     "metadata": {},
     "output_type": "execute_result"
    }
   ],
   "source": [
    "X"
   ]
  },
  {
   "cell_type": "code",
   "execution_count": 29,
   "metadata": {},
   "outputs": [],
   "source": [
    "X.rename(columns={'Sex_female' :'Sex'},inplace=True)"
   ]
  },
  {
   "cell_type": "code",
   "execution_count": 30,
   "metadata": {},
   "outputs": [
    {
     "data": {
      "text/html": [
       "<div>\n",
       "<style scoped>\n",
       "    .dataframe tbody tr th:only-of-type {\n",
       "        vertical-align: middle;\n",
       "    }\n",
       "\n",
       "    .dataframe tbody tr th {\n",
       "        vertical-align: top;\n",
       "    }\n",
       "\n",
       "    .dataframe thead th {\n",
       "        text-align: right;\n",
       "    }\n",
       "</style>\n",
       "<table border=\"1\" class=\"dataframe\">\n",
       "  <thead>\n",
       "    <tr style=\"text-align: right;\">\n",
       "      <th></th>\n",
       "      <th>PassengerId</th>\n",
       "      <th>Pclass</th>\n",
       "      <th>Age</th>\n",
       "      <th>SibSp</th>\n",
       "      <th>Parch</th>\n",
       "      <th>Fare</th>\n",
       "      <th>Sex</th>\n",
       "    </tr>\n",
       "  </thead>\n",
       "  <tbody>\n",
       "    <tr>\n",
       "      <th>0</th>\n",
       "      <td>1</td>\n",
       "      <td>3</td>\n",
       "      <td>22.0</td>\n",
       "      <td>1</td>\n",
       "      <td>0</td>\n",
       "      <td>7.2500</td>\n",
       "      <td>0</td>\n",
       "    </tr>\n",
       "    <tr>\n",
       "      <th>1</th>\n",
       "      <td>2</td>\n",
       "      <td>1</td>\n",
       "      <td>38.0</td>\n",
       "      <td>1</td>\n",
       "      <td>0</td>\n",
       "      <td>71.2833</td>\n",
       "      <td>1</td>\n",
       "    </tr>\n",
       "    <tr>\n",
       "      <th>2</th>\n",
       "      <td>3</td>\n",
       "      <td>3</td>\n",
       "      <td>26.0</td>\n",
       "      <td>0</td>\n",
       "      <td>0</td>\n",
       "      <td>7.9250</td>\n",
       "      <td>1</td>\n",
       "    </tr>\n",
       "    <tr>\n",
       "      <th>3</th>\n",
       "      <td>4</td>\n",
       "      <td>1</td>\n",
       "      <td>35.0</td>\n",
       "      <td>1</td>\n",
       "      <td>0</td>\n",
       "      <td>53.1000</td>\n",
       "      <td>1</td>\n",
       "    </tr>\n",
       "    <tr>\n",
       "      <th>4</th>\n",
       "      <td>5</td>\n",
       "      <td>3</td>\n",
       "      <td>35.0</td>\n",
       "      <td>0</td>\n",
       "      <td>0</td>\n",
       "      <td>8.0500</td>\n",
       "      <td>0</td>\n",
       "    </tr>\n",
       "    <tr>\n",
       "      <th>...</th>\n",
       "      <td>...</td>\n",
       "      <td>...</td>\n",
       "      <td>...</td>\n",
       "      <td>...</td>\n",
       "      <td>...</td>\n",
       "      <td>...</td>\n",
       "      <td>...</td>\n",
       "    </tr>\n",
       "    <tr>\n",
       "      <th>886</th>\n",
       "      <td>887</td>\n",
       "      <td>2</td>\n",
       "      <td>27.0</td>\n",
       "      <td>0</td>\n",
       "      <td>0</td>\n",
       "      <td>13.0000</td>\n",
       "      <td>0</td>\n",
       "    </tr>\n",
       "    <tr>\n",
       "      <th>887</th>\n",
       "      <td>888</td>\n",
       "      <td>1</td>\n",
       "      <td>19.0</td>\n",
       "      <td>0</td>\n",
       "      <td>0</td>\n",
       "      <td>30.0000</td>\n",
       "      <td>1</td>\n",
       "    </tr>\n",
       "    <tr>\n",
       "      <th>888</th>\n",
       "      <td>889</td>\n",
       "      <td>3</td>\n",
       "      <td>NaN</td>\n",
       "      <td>1</td>\n",
       "      <td>2</td>\n",
       "      <td>23.4500</td>\n",
       "      <td>1</td>\n",
       "    </tr>\n",
       "    <tr>\n",
       "      <th>889</th>\n",
       "      <td>890</td>\n",
       "      <td>1</td>\n",
       "      <td>26.0</td>\n",
       "      <td>0</td>\n",
       "      <td>0</td>\n",
       "      <td>30.0000</td>\n",
       "      <td>0</td>\n",
       "    </tr>\n",
       "    <tr>\n",
       "      <th>890</th>\n",
       "      <td>891</td>\n",
       "      <td>3</td>\n",
       "      <td>32.0</td>\n",
       "      <td>0</td>\n",
       "      <td>0</td>\n",
       "      <td>7.7500</td>\n",
       "      <td>0</td>\n",
       "    </tr>\n",
       "  </tbody>\n",
       "</table>\n",
       "<p>891 rows × 7 columns</p>\n",
       "</div>"
      ],
      "text/plain": [
       "     PassengerId  Pclass   Age  SibSp  Parch     Fare  Sex\n",
       "0              1       3  22.0      1      0   7.2500    0\n",
       "1              2       1  38.0      1      0  71.2833    1\n",
       "2              3       3  26.0      0      0   7.9250    1\n",
       "3              4       1  35.0      1      0  53.1000    1\n",
       "4              5       3  35.0      0      0   8.0500    0\n",
       "..           ...     ...   ...    ...    ...      ...  ...\n",
       "886          887       2  27.0      0      0  13.0000    0\n",
       "887          888       1  19.0      0      0  30.0000    1\n",
       "888          889       3   NaN      1      2  23.4500    1\n",
       "889          890       1  26.0      0      0  30.0000    0\n",
       "890          891       3  32.0      0      0   7.7500    0\n",
       "\n",
       "[891 rows x 7 columns]"
      ]
     },
     "execution_count": 30,
     "metadata": {},
     "output_type": "execute_result"
    }
   ],
   "source": [
    "X\n",
    "# Sex : 0 -> Man\n",
    "#Sex : 1 -> Woman"
   ]
  },
  {
   "cell_type": "markdown",
   "metadata": {},
   "source": [
    "Let's make sure not to have NaN values in our features."
   ]
  },
  {
   "cell_type": "code",
   "execution_count": 31,
   "metadata": {},
   "outputs": [
    {
     "data": {
      "text/plain": [
       "PassengerId      0\n",
       "Pclass           0\n",
       "Age            177\n",
       "SibSp            0\n",
       "Parch            0\n",
       "Fare             0\n",
       "Sex              0\n",
       "dtype: int64"
      ]
     },
     "execution_count": 31,
     "metadata": {},
     "output_type": "execute_result"
    }
   ],
   "source": [
    "X.isna().sum()"
   ]
  },
  {
   "cell_type": "code",
   "execution_count": 32,
   "metadata": {},
   "outputs": [],
   "source": [
    "X = X.fillna(X.mean())"
   ]
  },
  {
   "cell_type": "code",
   "execution_count": 33,
   "metadata": {},
   "outputs": [],
   "source": [
    "from sklearn.feature_selection import chi2\n",
    "\n",
    "test = chi2(X,y)"
   ]
  },
  {
   "cell_type": "code",
   "execution_count": 34,
   "metadata": {},
   "outputs": [
    {
     "data": {
      "text/plain": [
       "(array([3.31293407e+00, 3.08736994e+01, 2.46879258e+01, 2.58186538e+00,\n",
       "        1.00974991e+01, 4.51831909e+03, 1.70348127e+02]),\n",
       " array([6.87366651e-02, 2.75378563e-08, 6.74051416e-07, 1.08094210e-01,\n",
       "        1.48470676e-03, 0.00000000e+00, 6.21058490e-39]))"
      ]
     },
     "execution_count": 34,
     "metadata": {},
     "output_type": "execute_result"
    }
   ],
   "source": [
    "test"
   ]
  },
  {
   "cell_type": "code",
   "execution_count": 35,
   "metadata": {},
   "outputs": [],
   "source": [
    "def describe_chi2(results,alpha=0.5):\n",
    "  for e in range(len(results)):\n",
    "    if results[e] <= alpha and results[e] > 0:\n",
    "      print('We cannot conclude that the feature {} is statistically associated with the target.'.format(e))\n",
    "    else:\n",
    "      print('The feature {} is statistically associated with the target.'.format(e))"
   ]
  },
  {
   "cell_type": "code",
   "execution_count": 36,
   "metadata": {},
   "outputs": [
    {
     "name": "stdout",
     "output_type": "stream",
     "text": [
      "The feature 0 is statistically associated with the target.\n",
      "The feature 1 is statistically associated with the target.\n",
      "The feature 2 is statistically associated with the target.\n",
      "The feature 3 is statistically associated with the target.\n",
      "The feature 4 is statistically associated with the target.\n",
      "The feature 5 is statistically associated with the target.\n",
      "The feature 6 is statistically associated with the target.\n"
     ]
    }
   ],
   "source": [
    "describe_chi2(test[0])"
   ]
  },
  {
   "cell_type": "markdown",
   "metadata": {},
   "source": [
    "## 2. Wrapper method\n",
    "\n",
    "Another way to consider the mechanism used to select features which may be divided into wrapper and filter methods. These methods are almost always supervised and are evaluated based on the performance of a resulting model on a hold out dataset.\n",
    "\n",
    "Wrapper feature selection methods create many models with different subsets of input features and select those features that result in the best performing model according to a performance metric. These methods are unconcerned with the variable types, although they can be computationally expensive. RFE is a good example of a wrapper feature selection method."
   ]
  },
  {
   "cell_type": "markdown",
   "metadata": {},
   "source": [
    "# Feature Extraction Practice\n",
    "\n",
    "What is the type of the input and output variables?\n",
    "\n",
    "What is the most suited method for feature selection for these types of variables?"
   ]
  },
  {
   "cell_type": "code",
   "execution_count": null,
   "metadata": {},
   "outputs": [],
   "source": [
    "df_diabetes = pd.read_csv('data/diabetes.csv')"
   ]
  },
  {
   "cell_type": "code",
   "execution_count": null,
   "metadata": {},
   "outputs": [],
   "source": []
  },
  {
   "cell_type": "markdown",
   "metadata": {},
   "source": [
    "The input and output variables are both numerical.\n",
    "\n",
    "The best suited method for feature selection is Pearson's correlation matrix."
   ]
  },
  {
   "cell_type": "code",
   "execution_count": null,
   "metadata": {},
   "outputs": [],
   "source": [
    "f, ax = plt.subplots(figsize=(8,6))\n",
    "sns.heatmap(corr, mask=np.zeros_like(corr, dtype=bool), cmap=sns.diverging_palette(220, 10, as_cmap=True),\n",
    "            square=True,ax=ax)"
   ]
  },
  {
   "cell_type": "markdown",
   "metadata": {},
   "source": [
    "Next, we compare the correlation between features and remove one of two features that have a correlation higher than 0.9"
   ]
  },
  {
   "cell_type": "code",
   "execution_count": null,
   "metadata": {},
   "outputs": [],
   "source": [
    "columns = np.full((corr.shape[0],), True, dtype=bool)\n",
    "for i in range(corr.shape[0]):\n",
    "    for j in range(i+1, corr.shape[0]):\n",
    "        if corr.iloc[i,j] >= 0.6:\n",
    "            if columns[j]:\n",
    "                columns[j] = False"
   ]
  },
  {
   "cell_type": "code",
   "execution_count": null,
   "metadata": {},
   "outputs": [],
   "source": [
    "columns"
   ]
  },
  {
   "cell_type": "code",
   "execution_count": null,
   "metadata": {},
   "outputs": [],
   "source": []
  }
 ],
 "metadata": {
  "interpreter": {
   "hash": "226a917b052786ebbdce53c6b75708fd2a65671e8b8b62b5e4a6aa0276facf29"
  },
  "kernelspec": {
   "display_name": "Python 3.8.8 ('base')",
   "language": "python",
   "name": "python3"
  },
  "language_info": {
   "codemirror_mode": {
    "name": "ipython",
    "version": 3
   },
   "file_extension": ".py",
   "mimetype": "text/x-python",
   "name": "python",
   "nbconvert_exporter": "python",
   "pygments_lexer": "ipython3",
   "version": "3.8.8"
  },
  "orig_nbformat": 4
 },
 "nbformat": 4,
 "nbformat_minor": 2
}
