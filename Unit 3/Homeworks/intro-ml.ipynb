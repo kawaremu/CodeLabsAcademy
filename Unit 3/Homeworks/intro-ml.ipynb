{
 "cells": [
  {
   "cell_type": "markdown",
   "metadata": {},
   "source": [
    "# Logistic Regression"
   ]
  },
  {
   "cell_type": "code",
   "execution_count": 1,
   "metadata": {},
   "outputs": [],
   "source": [
    "import pandas as pd"
   ]
  },
  {
   "cell_type": "code",
   "execution_count": 2,
   "metadata": {},
   "outputs": [],
   "source": [
    "df = pd.read_csv('data/food-allergy-analysis-Zenodo.csv')"
   ]
  },
  {
   "cell_type": "code",
   "execution_count": 3,
   "metadata": {},
   "outputs": [
    {
     "data": {
      "text/html": [
       "<div>\n",
       "<style scoped>\n",
       "    .dataframe tbody tr th:only-of-type {\n",
       "        vertical-align: middle;\n",
       "    }\n",
       "\n",
       "    .dataframe tbody tr th {\n",
       "        vertical-align: top;\n",
       "    }\n",
       "\n",
       "    .dataframe thead th {\n",
       "        text-align: right;\n",
       "    }\n",
       "</style>\n",
       "<table border=\"1\" class=\"dataframe\">\n",
       "  <thead>\n",
       "    <tr style=\"text-align: right;\">\n",
       "      <th></th>\n",
       "      <th>SUBJECT_ID</th>\n",
       "      <th>BIRTH_YEAR</th>\n",
       "      <th>GENDER_FACTOR</th>\n",
       "      <th>RACE_FACTOR</th>\n",
       "      <th>ETHNICITY_FACTOR</th>\n",
       "      <th>PAYER_FACTOR</th>\n",
       "      <th>ATOPIC_MARCH_COHORT</th>\n",
       "      <th>AGE_START_YEARS</th>\n",
       "      <th>AGE_END_YEARS</th>\n",
       "      <th>SHELLFISH_ALG_START</th>\n",
       "      <th>...</th>\n",
       "      <th>CASHEW_ALG_END</th>\n",
       "      <th>ATOPIC_DERM_START</th>\n",
       "      <th>ATOPIC_DERM_END</th>\n",
       "      <th>ALLERGIC_RHINITIS_START</th>\n",
       "      <th>ALLERGIC_RHINITIS_END</th>\n",
       "      <th>ASTHMA_START</th>\n",
       "      <th>ASTHMA_END</th>\n",
       "      <th>FIRST_ASTHMARX</th>\n",
       "      <th>LAST_ASTHMARX</th>\n",
       "      <th>NUM_ASTHMARX</th>\n",
       "    </tr>\n",
       "  </thead>\n",
       "  <tbody>\n",
       "    <tr>\n",
       "      <th>0</th>\n",
       "      <td>1</td>\n",
       "      <td>2006</td>\n",
       "      <td>S1 - Female</td>\n",
       "      <td>R1 - Black</td>\n",
       "      <td>E0 - Non-Hispanic</td>\n",
       "      <td>P1 - Medicaid</td>\n",
       "      <td>False</td>\n",
       "      <td>0.093087</td>\n",
       "      <td>3.164956</td>\n",
       "      <td>NaN</td>\n",
       "      <td>...</td>\n",
       "      <td>NaN</td>\n",
       "      <td>NaN</td>\n",
       "      <td>NaN</td>\n",
       "      <td>NaN</td>\n",
       "      <td>NaN</td>\n",
       "      <td>NaN</td>\n",
       "      <td>NaN</td>\n",
       "      <td>NaN</td>\n",
       "      <td>NaN</td>\n",
       "      <td>NaN</td>\n",
       "    </tr>\n",
       "    <tr>\n",
       "      <th>1</th>\n",
       "      <td>2</td>\n",
       "      <td>1994</td>\n",
       "      <td>S1 - Female</td>\n",
       "      <td>R0 - White</td>\n",
       "      <td>E0 - Non-Hispanic</td>\n",
       "      <td>P0 - Non-Medicaid</td>\n",
       "      <td>False</td>\n",
       "      <td>12.232717</td>\n",
       "      <td>18.880219</td>\n",
       "      <td>NaN</td>\n",
       "      <td>...</td>\n",
       "      <td>NaN</td>\n",
       "      <td>NaN</td>\n",
       "      <td>NaN</td>\n",
       "      <td>NaN</td>\n",
       "      <td>NaN</td>\n",
       "      <td>NaN</td>\n",
       "      <td>NaN</td>\n",
       "      <td>12.262834</td>\n",
       "      <td>18.880219</td>\n",
       "      <td>2.0</td>\n",
       "    </tr>\n",
       "    <tr>\n",
       "      <th>2</th>\n",
       "      <td>3</td>\n",
       "      <td>2006</td>\n",
       "      <td>S0 - Male</td>\n",
       "      <td>R0 - White</td>\n",
       "      <td>E1 - Hispanic</td>\n",
       "      <td>P0 - Non-Medicaid</td>\n",
       "      <td>True</td>\n",
       "      <td>0.010951</td>\n",
       "      <td>6.726899</td>\n",
       "      <td>NaN</td>\n",
       "      <td>...</td>\n",
       "      <td>NaN</td>\n",
       "      <td>4.884326</td>\n",
       "      <td>NaN</td>\n",
       "      <td>3.917864</td>\n",
       "      <td>6.157426</td>\n",
       "      <td>5.127995</td>\n",
       "      <td>NaN</td>\n",
       "      <td>1.404517</td>\n",
       "      <td>6.157426</td>\n",
       "      <td>4.0</td>\n",
       "    </tr>\n",
       "    <tr>\n",
       "      <th>3</th>\n",
       "      <td>4</td>\n",
       "      <td>2004</td>\n",
       "      <td>S0 - Male</td>\n",
       "      <td>R4 - Unknown</td>\n",
       "      <td>E1 - Hispanic</td>\n",
       "      <td>P0 - Non-Medicaid</td>\n",
       "      <td>False</td>\n",
       "      <td>2.398357</td>\n",
       "      <td>9.111567</td>\n",
       "      <td>NaN</td>\n",
       "      <td>...</td>\n",
       "      <td>NaN</td>\n",
       "      <td>NaN</td>\n",
       "      <td>NaN</td>\n",
       "      <td>NaN</td>\n",
       "      <td>NaN</td>\n",
       "      <td>NaN</td>\n",
       "      <td>NaN</td>\n",
       "      <td>NaN</td>\n",
       "      <td>NaN</td>\n",
       "      <td>NaN</td>\n",
       "    </tr>\n",
       "    <tr>\n",
       "      <th>4</th>\n",
       "      <td>5</td>\n",
       "      <td>2006</td>\n",
       "      <td>S1 - Female</td>\n",
       "      <td>R1 - Black</td>\n",
       "      <td>E0 - Non-Hispanic</td>\n",
       "      <td>P0 - Non-Medicaid</td>\n",
       "      <td>False</td>\n",
       "      <td>0.013689</td>\n",
       "      <td>6.193018</td>\n",
       "      <td>NaN</td>\n",
       "      <td>...</td>\n",
       "      <td>NaN</td>\n",
       "      <td>NaN</td>\n",
       "      <td>NaN</td>\n",
       "      <td>NaN</td>\n",
       "      <td>NaN</td>\n",
       "      <td>NaN</td>\n",
       "      <td>NaN</td>\n",
       "      <td>NaN</td>\n",
       "      <td>NaN</td>\n",
       "      <td>NaN</td>\n",
       "    </tr>\n",
       "  </tbody>\n",
       "</table>\n",
       "<p>5 rows × 50 columns</p>\n",
       "</div>"
      ],
      "text/plain": [
       "   SUBJECT_ID  BIRTH_YEAR GENDER_FACTOR   RACE_FACTOR   ETHNICITY_FACTOR  \\\n",
       "0           1        2006   S1 - Female    R1 - Black  E0 - Non-Hispanic   \n",
       "1           2        1994   S1 - Female    R0 - White  E0 - Non-Hispanic   \n",
       "2           3        2006     S0 - Male    R0 - White      E1 - Hispanic   \n",
       "3           4        2004     S0 - Male  R4 - Unknown      E1 - Hispanic   \n",
       "4           5        2006   S1 - Female    R1 - Black  E0 - Non-Hispanic   \n",
       "\n",
       "        PAYER_FACTOR  ATOPIC_MARCH_COHORT  AGE_START_YEARS  AGE_END_YEARS  \\\n",
       "0      P1 - Medicaid                False         0.093087       3.164956   \n",
       "1  P0 - Non-Medicaid                False        12.232717      18.880219   \n",
       "2  P0 - Non-Medicaid                 True         0.010951       6.726899   \n",
       "3  P0 - Non-Medicaid                False         2.398357       9.111567   \n",
       "4  P0 - Non-Medicaid                False         0.013689       6.193018   \n",
       "\n",
       "   SHELLFISH_ALG_START  ...  CASHEW_ALG_END  ATOPIC_DERM_START  \\\n",
       "0                  NaN  ...             NaN                NaN   \n",
       "1                  NaN  ...             NaN                NaN   \n",
       "2                  NaN  ...             NaN           4.884326   \n",
       "3                  NaN  ...             NaN                NaN   \n",
       "4                  NaN  ...             NaN                NaN   \n",
       "\n",
       "   ATOPIC_DERM_END  ALLERGIC_RHINITIS_START  ALLERGIC_RHINITIS_END  \\\n",
       "0              NaN                      NaN                    NaN   \n",
       "1              NaN                      NaN                    NaN   \n",
       "2              NaN                 3.917864               6.157426   \n",
       "3              NaN                      NaN                    NaN   \n",
       "4              NaN                      NaN                    NaN   \n",
       "\n",
       "   ASTHMA_START  ASTHMA_END  FIRST_ASTHMARX  LAST_ASTHMARX  NUM_ASTHMARX  \n",
       "0           NaN         NaN             NaN            NaN           NaN  \n",
       "1           NaN         NaN       12.262834      18.880219           2.0  \n",
       "2      5.127995         NaN        1.404517       6.157426           4.0  \n",
       "3           NaN         NaN             NaN            NaN           NaN  \n",
       "4           NaN         NaN             NaN            NaN           NaN  \n",
       "\n",
       "[5 rows x 50 columns]"
      ]
     },
     "execution_count": 3,
     "metadata": {},
     "output_type": "execute_result"
    }
   ],
   "source": [
    "df.head()"
   ]
  },
  {
   "cell_type": "code",
   "execution_count": 4,
   "metadata": {},
   "outputs": [
    {
     "name": "stdout",
     "output_type": "stream",
     "text": [
      "<class 'pandas.core.frame.DataFrame'>\n",
      "RangeIndex: 333200 entries, 0 to 333199\n",
      "Data columns (total 50 columns):\n",
      " #   Column                   Non-Null Count   Dtype  \n",
      "---  ------                   --------------   -----  \n",
      " 0   SUBJECT_ID               333200 non-null  int64  \n",
      " 1   BIRTH_YEAR               333200 non-null  int64  \n",
      " 2   GENDER_FACTOR            333200 non-null  object \n",
      " 3   RACE_FACTOR              333200 non-null  object \n",
      " 4   ETHNICITY_FACTOR         333200 non-null  object \n",
      " 5   PAYER_FACTOR             333200 non-null  object \n",
      " 6   ATOPIC_MARCH_COHORT      333200 non-null  bool   \n",
      " 7   AGE_START_YEARS          333200 non-null  float64\n",
      " 8   AGE_END_YEARS            333200 non-null  float64\n",
      " 9   SHELLFISH_ALG_START      5246 non-null    float64\n",
      " 10  SHELLFISH_ALG_END        1051 non-null    float64\n",
      " 11  FISH_ALG_START           1796 non-null    float64\n",
      " 12  FISH_ALG_END             527 non-null     float64\n",
      " 13  MILK_ALG_START           7289 non-null    float64\n",
      " 14  MILK_ALG_END             4580 non-null    float64\n",
      " 15  SOY_ALG_START            2419 non-null    float64\n",
      " 16  SOY_ALG_END              1431 non-null    float64\n",
      " 17  EGG_ALG_START            6065 non-null    float64\n",
      " 18  EGG_ALG_END              3293 non-null    float64\n",
      " 19  WHEAT_ALG_START          1146 non-null    float64\n",
      " 20  WHEAT_ALG_END            688 non-null     float64\n",
      " 21  PEANUT_ALG_START         8653 non-null    float64\n",
      " 22  PEANUT_ALG_END           2092 non-null    float64\n",
      " 23  SESAME_ALG_START         766 non-null     float64\n",
      " 24  SESAME_ALG_END           178 non-null     float64\n",
      " 25  TREENUT_ALG_START        1 non-null       float64\n",
      " 26  TREENUT_ALG_END          0 non-null       float64\n",
      " 27  WALNUT_ALG_START         704 non-null     float64\n",
      " 28  WALNUT_ALG_END           166 non-null     float64\n",
      " 29  PECAN_ALG_START          285 non-null     float64\n",
      " 30  PECAN_ALG_END            59 non-null      float64\n",
      " 31  PISTACH_ALG_START        369 non-null     float64\n",
      " 32  PISTACH_ALG_END          82 non-null      float64\n",
      " 33  ALMOND_ALG_START         386 non-null     float64\n",
      " 34  ALMOND_ALG_END           117 non-null     float64\n",
      " 35  BRAZIL_ALG_START         68 non-null      float64\n",
      " 36  BRAZIL_ALG_END           19 non-null      float64\n",
      " 37  HAZELNUT_ALG_START       253 non-null     float64\n",
      " 38  HAZELNUT_ALG_END         52 non-null      float64\n",
      " 39  CASHEW_ALG_START         561 non-null     float64\n",
      " 40  CASHEW_ALG_END           121 non-null     float64\n",
      " 41  ATOPIC_DERM_START        49515 non-null   float64\n",
      " 42  ATOPIC_DERM_END          41732 non-null   float64\n",
      " 43  ALLERGIC_RHINITIS_START  55567 non-null   float64\n",
      " 44  ALLERGIC_RHINITIS_END    25326 non-null   float64\n",
      " 45  ASTHMA_START             63874 non-null   float64\n",
      " 46  ASTHMA_END               25465 non-null   float64\n",
      " 47  FIRST_ASTHMARX           117550 non-null  float64\n",
      " 48  LAST_ASTHMARX            117550 non-null  float64\n",
      " 49  NUM_ASTHMARX             117550 non-null  float64\n",
      "dtypes: bool(1), float64(43), int64(2), object(4)\n",
      "memory usage: 124.9+ MB\n"
     ]
    }
   ],
   "source": [
    "df.info()"
   ]
  },
  {
   "cell_type": "markdown",
   "metadata": {},
   "source": [
    "# Data Encoding "
   ]
  },
  {
   "cell_type": "code",
   "execution_count": 5,
   "metadata": {},
   "outputs": [
    {
     "data": {
      "text/plain": [
       "array(['S1 - Female', 'S0 - Male'], dtype=object)"
      ]
     },
     "execution_count": 5,
     "metadata": {},
     "output_type": "execute_result"
    }
   ],
   "source": [
    "df.GENDER_FACTOR.unique()"
   ]
  },
  {
   "cell_type": "code",
   "execution_count": 6,
   "metadata": {},
   "outputs": [
    {
     "data": {
      "text/plain": [
       "array(['R1 - Black', 'R0 - White', 'R4 - Unknown',\n",
       "       'R2 - Asian or Pacific Islander', 'R3 - Other'], dtype=object)"
      ]
     },
     "execution_count": 6,
     "metadata": {},
     "output_type": "execute_result"
    }
   ],
   "source": [
    "df.RACE_FACTOR.unique()"
   ]
  },
  {
   "cell_type": "code",
   "execution_count": 7,
   "metadata": {},
   "outputs": [
    {
     "data": {
      "text/plain": [
       "array(['E0 - Non-Hispanic', 'E1 - Hispanic'], dtype=object)"
      ]
     },
     "execution_count": 7,
     "metadata": {},
     "output_type": "execute_result"
    }
   ],
   "source": [
    "df.ETHNICITY_FACTOR.unique()"
   ]
  },
  {
   "cell_type": "code",
   "execution_count": 8,
   "metadata": {},
   "outputs": [
    {
     "data": {
      "text/plain": [
       "array(['P1 - Medicaid', 'P0 - Non-Medicaid'], dtype=object)"
      ]
     },
     "execution_count": 8,
     "metadata": {},
     "output_type": "execute_result"
    }
   ],
   "source": [
    "df.PAYER_FACTOR.unique()"
   ]
  },
  {
   "cell_type": "code",
   "execution_count": null,
   "metadata": {},
   "outputs": [],
   "source": []
  }
 ],
 "metadata": {
  "interpreter": {
   "hash": "c9d3fa381d95475d40c28039b791b5da7416cbdb01ba79e7c769ff56af08c488"
  },
  "kernelspec": {
   "display_name": "Python 3.9.6 64-bit",
   "language": "python",
   "name": "python3"
  },
  "language_info": {
   "codemirror_mode": {
    "name": "ipython",
    "version": 3
   },
   "file_extension": ".py",
   "mimetype": "text/x-python",
   "name": "python",
   "nbconvert_exporter": "python",
   "pygments_lexer": "ipython3",
   "version": "3.9.6"
  },
  "orig_nbformat": 4
 },
 "nbformat": 4,
 "nbformat_minor": 2
}
