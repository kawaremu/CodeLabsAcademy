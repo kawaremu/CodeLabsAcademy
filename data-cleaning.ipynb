{
 "cells": [
  {
   "cell_type": "markdown",
   "metadata": {},
   "source": [
    "#  Data Cleaning and Preparation\n",
    "* We trying to answer to these questions :\n",
    "\n",
    "1. Find out how many missing values you have within your dataset? Which columns ? What assumptions can you make about these missing values ( why do we have them missing ? )\n",
    "\n",
    "2. Get the mean , median , quartiles of each numerical variable within this dataset.\n",
    "\n",
    "3. Spot the possible outliers in your dataset and get rid of them.\n",
    "\n",
    "4. How many unique categories do you have ?\n",
    "\n",
    "5. Is there any column that we need to adjust its type ?\n",
    "\n",
    "\n",
    "6. Get how many tags you have and which are the most common tags ?"
   ]
  },
  {
   "cell_type": "code",
   "execution_count": null,
   "metadata": {},
   "outputs": [],
   "source": [
    "import pandas as pd"
   ]
  },
  {
   "cell_type": "markdown",
   "metadata": {},
   "source": [
    "The dataset used is different, let's open it :"
   ]
  },
  {
   "cell_type": "code",
   "execution_count": null,
   "metadata": {},
   "outputs": [],
   "source": [
    "df = pd.read_csv('videosUS.csv')"
   ]
  },
  {
   "cell_type": "code",
   "execution_count": null,
   "metadata": {},
   "outputs": [
    {
     "name": "stdout",
     "output_type": "stream",
     "text": [
      "<class 'pandas.core.frame.DataFrame'>\n",
      "RangeIndex: 41415 entries, 0 to 41414\n",
      "Data columns (total 16 columns):\n",
      " #   Column                  Non-Null Count  Dtype  \n",
      "---  ------                  --------------  -----  \n",
      " 0   video_id                41415 non-null  object \n",
      " 1   trending_date           40949 non-null  object \n",
      " 2   title                   40949 non-null  object \n",
      " 3   channel_title           40949 non-null  object \n",
      " 4   category_id             40949 non-null  float64\n",
      " 5   publish_time            40949 non-null  object \n",
      " 6   tags                    40949 non-null  object \n",
      " 7   views                   40949 non-null  float64\n",
      " 8   likes                   40949 non-null  float64\n",
      " 9   dislikes                40949 non-null  float64\n",
      " 10  comment_count           40949 non-null  float64\n",
      " 11  thumbnail_link          40949 non-null  object \n",
      " 12  comments_disabled       40949 non-null  object \n",
      " 13  ratings_disabled        40949 non-null  object \n",
      " 14  video_error_or_removed  40949 non-null  object \n",
      " 15  description             40379 non-null  object \n",
      "dtypes: float64(5), object(11)\n",
      "memory usage: 5.1+ MB\n"
     ]
    }
   ],
   "source": [
    "df.info()"
   ]
  },
  {
   "cell_type": "code",
   "execution_count": null,
   "metadata": {},
   "outputs": [
    {
     "data": {
      "text/html": [
       "<div>\n",
       "<style scoped>\n",
       "    .dataframe tbody tr th:only-of-type {\n",
       "        vertical-align: middle;\n",
       "    }\n",
       "\n",
       "    .dataframe tbody tr th {\n",
       "        vertical-align: top;\n",
       "    }\n",
       "\n",
       "    .dataframe thead th {\n",
       "        text-align: right;\n",
       "    }\n",
       "</style>\n",
       "<table border=\"1\" class=\"dataframe\">\n",
       "  <thead>\n",
       "    <tr style=\"text-align: right;\">\n",
       "      <th></th>\n",
       "      <th>video_id</th>\n",
       "      <th>trending_date</th>\n",
       "      <th>title</th>\n",
       "      <th>channel_title</th>\n",
       "      <th>category_id</th>\n",
       "      <th>publish_time</th>\n",
       "      <th>tags</th>\n",
       "      <th>views</th>\n",
       "      <th>likes</th>\n",
       "      <th>dislikes</th>\n",
       "      <th>comment_count</th>\n",
       "      <th>thumbnail_link</th>\n",
       "      <th>comments_disabled</th>\n",
       "      <th>ratings_disabled</th>\n",
       "      <th>video_error_or_removed</th>\n",
       "      <th>description</th>\n",
       "    </tr>\n",
       "  </thead>\n",
       "  <tbody>\n",
       "    <tr>\n",
       "      <th>0</th>\n",
       "      <td>2kyS6SvSYSE</td>\n",
       "      <td>17.14.11</td>\n",
       "      <td>WE WANT TO TALK ABOUT OUR MARRIAGE</td>\n",
       "      <td>CaseyNeistat</td>\n",
       "      <td>22.0</td>\n",
       "      <td>2017-11-13T17:13:01.000Z</td>\n",
       "      <td>SHANtell martin</td>\n",
       "      <td>748374.0</td>\n",
       "      <td>57527.0</td>\n",
       "      <td>2966.0</td>\n",
       "      <td>15954.0</td>\n",
       "      <td>https://i.ytimg.com/vi/2kyS6SvSYSE/default.jpg</td>\n",
       "      <td>False</td>\n",
       "      <td>False</td>\n",
       "      <td>False</td>\n",
       "      <td>SHANTELL'S CHANNEL - https://www.youtube.com/s...</td>\n",
       "    </tr>\n",
       "    <tr>\n",
       "      <th>1</th>\n",
       "      <td>1ZAPwfrtAFY</td>\n",
       "      <td>17.14.11</td>\n",
       "      <td>The Trump Presidency: Last Week Tonight with J...</td>\n",
       "      <td>LastWeekTonight</td>\n",
       "      <td>24.0</td>\n",
       "      <td>2017-11-13T07:30:00.000Z</td>\n",
       "      <td>last week tonight trump presidency|\"last week ...</td>\n",
       "      <td>2418783.0</td>\n",
       "      <td>97185.0</td>\n",
       "      <td>6146.0</td>\n",
       "      <td>12703.0</td>\n",
       "      <td>https://i.ytimg.com/vi/1ZAPwfrtAFY/default.jpg</td>\n",
       "      <td>False</td>\n",
       "      <td>False</td>\n",
       "      <td>False</td>\n",
       "      <td>One year after the presidential election, John...</td>\n",
       "    </tr>\n",
       "    <tr>\n",
       "      <th>2</th>\n",
       "      <td>5qpjK5DgCt4</td>\n",
       "      <td>17.14.11</td>\n",
       "      <td>Racist Superman | Rudy Mancuso, King Bach &amp; Le...</td>\n",
       "      <td>Rudy Mancuso</td>\n",
       "      <td>23.0</td>\n",
       "      <td>2017-11-12T19:05:24.000Z</td>\n",
       "      <td>racist superman|\"rudy\"|\"mancuso\"|\"king\"|\"bach\"...</td>\n",
       "      <td>3191434.0</td>\n",
       "      <td>146033.0</td>\n",
       "      <td>5339.0</td>\n",
       "      <td>8181.0</td>\n",
       "      <td>https://i.ytimg.com/vi/5qpjK5DgCt4/default.jpg</td>\n",
       "      <td>False</td>\n",
       "      <td>False</td>\n",
       "      <td>False</td>\n",
       "      <td>WATCH MY PREVIOUS VIDEO ▶ \\n\\nSUBSCRIBE ► http...</td>\n",
       "    </tr>\n",
       "    <tr>\n",
       "      <th>3</th>\n",
       "      <td>puqaWrEC7tY</td>\n",
       "      <td>17.14.11</td>\n",
       "      <td>Nickelback Lyrics: Real or Fake?</td>\n",
       "      <td>Good Mythical Morning</td>\n",
       "      <td>24.0</td>\n",
       "      <td>2017-11-13T11:00:04.000Z</td>\n",
       "      <td>rhett and link|\"gmm\"|\"good mythical morning\"|\"...</td>\n",
       "      <td>343168.0</td>\n",
       "      <td>10172.0</td>\n",
       "      <td>666.0</td>\n",
       "      <td>2146.0</td>\n",
       "      <td>https://i.ytimg.com/vi/puqaWrEC7tY/default.jpg</td>\n",
       "      <td>False</td>\n",
       "      <td>False</td>\n",
       "      <td>False</td>\n",
       "      <td>Today we find out if Link is a Nickelback amat...</td>\n",
       "    </tr>\n",
       "    <tr>\n",
       "      <th>4</th>\n",
       "      <td>d380meD0W0M</td>\n",
       "      <td>17.14.11</td>\n",
       "      <td>I Dare You: GOING BALD!?</td>\n",
       "      <td>nigahiga</td>\n",
       "      <td>24.0</td>\n",
       "      <td>2017-11-12T18:01:41.000Z</td>\n",
       "      <td>ryan|\"higa\"|\"higatv\"|\"nigahiga\"|\"i dare you\"|\"...</td>\n",
       "      <td>2095731.0</td>\n",
       "      <td>132235.0</td>\n",
       "      <td>1989.0</td>\n",
       "      <td>17518.0</td>\n",
       "      <td>https://i.ytimg.com/vi/d380meD0W0M/default.jpg</td>\n",
       "      <td>False</td>\n",
       "      <td>False</td>\n",
       "      <td>False</td>\n",
       "      <td>I know it's been a while since we did this sho...</td>\n",
       "    </tr>\n",
       "  </tbody>\n",
       "</table>\n",
       "</div>"
      ],
      "text/plain": [
       "      video_id trending_date  \\\n",
       "0  2kyS6SvSYSE      17.14.11   \n",
       "1  1ZAPwfrtAFY      17.14.11   \n",
       "2  5qpjK5DgCt4      17.14.11   \n",
       "3  puqaWrEC7tY      17.14.11   \n",
       "4  d380meD0W0M      17.14.11   \n",
       "\n",
       "                                               title          channel_title  \\\n",
       "0                 WE WANT TO TALK ABOUT OUR MARRIAGE           CaseyNeistat   \n",
       "1  The Trump Presidency: Last Week Tonight with J...        LastWeekTonight   \n",
       "2  Racist Superman | Rudy Mancuso, King Bach & Le...           Rudy Mancuso   \n",
       "3                   Nickelback Lyrics: Real or Fake?  Good Mythical Morning   \n",
       "4                           I Dare You: GOING BALD!?               nigahiga   \n",
       "\n",
       "   category_id              publish_time  \\\n",
       "0         22.0  2017-11-13T17:13:01.000Z   \n",
       "1         24.0  2017-11-13T07:30:00.000Z   \n",
       "2         23.0  2017-11-12T19:05:24.000Z   \n",
       "3         24.0  2017-11-13T11:00:04.000Z   \n",
       "4         24.0  2017-11-12T18:01:41.000Z   \n",
       "\n",
       "                                                tags      views     likes  \\\n",
       "0                                    SHANtell martin   748374.0   57527.0   \n",
       "1  last week tonight trump presidency|\"last week ...  2418783.0   97185.0   \n",
       "2  racist superman|\"rudy\"|\"mancuso\"|\"king\"|\"bach\"...  3191434.0  146033.0   \n",
       "3  rhett and link|\"gmm\"|\"good mythical morning\"|\"...   343168.0   10172.0   \n",
       "4  ryan|\"higa\"|\"higatv\"|\"nigahiga\"|\"i dare you\"|\"...  2095731.0  132235.0   \n",
       "\n",
       "   dislikes  comment_count                                  thumbnail_link  \\\n",
       "0    2966.0        15954.0  https://i.ytimg.com/vi/2kyS6SvSYSE/default.jpg   \n",
       "1    6146.0        12703.0  https://i.ytimg.com/vi/1ZAPwfrtAFY/default.jpg   \n",
       "2    5339.0         8181.0  https://i.ytimg.com/vi/5qpjK5DgCt4/default.jpg   \n",
       "3     666.0         2146.0  https://i.ytimg.com/vi/puqaWrEC7tY/default.jpg   \n",
       "4    1989.0        17518.0  https://i.ytimg.com/vi/d380meD0W0M/default.jpg   \n",
       "\n",
       "  comments_disabled ratings_disabled video_error_or_removed  \\\n",
       "0             False            False                  False   \n",
       "1             False            False                  False   \n",
       "2             False            False                  False   \n",
       "3             False            False                  False   \n",
       "4             False            False                  False   \n",
       "\n",
       "                                         description  \n",
       "0  SHANTELL'S CHANNEL - https://www.youtube.com/s...  \n",
       "1  One year after the presidential election, John...  \n",
       "2  WATCH MY PREVIOUS VIDEO ▶ \\n\\nSUBSCRIBE ► http...  \n",
       "3  Today we find out if Link is a Nickelback amat...  \n",
       "4  I know it's been a while since we did this sho...  "
      ]
     },
     "metadata": {},
     "output_type": "display_data"
    }
   ],
   "source": [
    "df.head()"
   ]
  },
  {
   "cell_type": "markdown",
   "metadata": {},
   "source": [
    "## Finding missing values\n",
    "\n",
    "In Pandas missing data is represented by two value:\n",
    "\n",
    "None: ``None`` is a Python singleton object that is often used for missing data in Python code.\n",
    "\n",
    "NaN : ``NaN`` (an acronym for Not a Number), is a special floating-point value recognized by all systems that use the standard IEEE floating-point representation\n",
    "\n",
    "\n",
    "In order to check missing values in Pandas DataFrame, we use a function ``isnull()`` and ``notnull()``. Both function help in checking whether a value is NaN or not. These function can also be used in Pandas Series in order to find null values in a series.\n",
    "\n",
    "In order to check null values in Pandas DataFrame, we use ``isnull()`` function this function return dataframe of Boolean values which are True for NaN values."
   ]
  },
  {
   "cell_type": "markdown",
   "metadata": {},
   "source": [
    "Check missing values for a column in particular."
   ]
  },
  {
   "cell_type": "code",
   "execution_count": null,
   "metadata": {},
   "outputs": [
    {
     "data": {
      "text/html": [
       "<div>\n",
       "<style scoped>\n",
       "    .dataframe tbody tr th:only-of-type {\n",
       "        vertical-align: middle;\n",
       "    }\n",
       "\n",
       "    .dataframe tbody tr th {\n",
       "        vertical-align: top;\n",
       "    }\n",
       "\n",
       "    .dataframe thead th {\n",
       "        text-align: right;\n",
       "    }\n",
       "</style>\n",
       "<table border=\"1\" class=\"dataframe\">\n",
       "  <thead>\n",
       "    <tr style=\"text-align: right;\">\n",
       "      <th></th>\n",
       "      <th>video_id</th>\n",
       "      <th>trending_date</th>\n",
       "      <th>title</th>\n",
       "      <th>channel_title</th>\n",
       "      <th>category_id</th>\n",
       "      <th>publish_time</th>\n",
       "      <th>tags</th>\n",
       "      <th>views</th>\n",
       "      <th>likes</th>\n",
       "      <th>dislikes</th>\n",
       "      <th>comment_count</th>\n",
       "      <th>thumbnail_link</th>\n",
       "      <th>comments_disabled</th>\n",
       "      <th>ratings_disabled</th>\n",
       "      <th>video_error_or_removed</th>\n",
       "      <th>description</th>\n",
       "    </tr>\n",
       "  </thead>\n",
       "  <tbody>\n",
       "    <tr>\n",
       "      <th>53</th>\n",
       "      <td>\\nSubscribe to WWE on YouTube: http://bit.ly/1...</td>\n",
       "      <td>NaN</td>\n",
       "      <td>NaN</td>\n",
       "      <td>NaN</td>\n",
       "      <td>NaN</td>\n",
       "      <td>NaN</td>\n",
       "      <td>NaN</td>\n",
       "      <td>NaN</td>\n",
       "      <td>NaN</td>\n",
       "      <td>NaN</td>\n",
       "      <td>NaN</td>\n",
       "      <td>NaN</td>\n",
       "      <td>NaN</td>\n",
       "      <td>NaN</td>\n",
       "      <td>NaN</td>\n",
       "      <td>NaN</td>\n",
       "    </tr>\n",
       "    <tr>\n",
       "      <th>54</th>\n",
       "      <td>\\nVisit WWE.com: http://goo.gl/akf0J4</td>\n",
       "      <td>NaN</td>\n",
       "      <td>NaN</td>\n",
       "      <td>NaN</td>\n",
       "      <td>NaN</td>\n",
       "      <td>NaN</td>\n",
       "      <td>NaN</td>\n",
       "      <td>NaN</td>\n",
       "      <td>NaN</td>\n",
       "      <td>NaN</td>\n",
       "      <td>NaN</td>\n",
       "      <td>NaN</td>\n",
       "      <td>NaN</td>\n",
       "      <td>NaN</td>\n",
       "      <td>NaN</td>\n",
       "      <td>NaN</td>\n",
       "    </tr>\n",
       "    <tr>\n",
       "      <th>55</th>\n",
       "      <td>\\nMust-See WWE videos on YouTube: https://goo....</td>\n",
       "      <td>NaN</td>\n",
       "      <td>NaN</td>\n",
       "      <td>NaN</td>\n",
       "      <td>NaN</td>\n",
       "      <td>NaN</td>\n",
       "      <td>NaN</td>\n",
       "      <td>NaN</td>\n",
       "      <td>NaN</td>\n",
       "      <td>NaN</td>\n",
       "      <td>NaN</td>\n",
       "      <td>NaN</td>\n",
       "      <td>NaN</td>\n",
       "      <td>NaN</td>\n",
       "      <td>NaN</td>\n",
       "      <td>NaN</td>\n",
       "    </tr>\n",
       "    <tr>\n",
       "      <th>319</th>\n",
       "      <td>\\nSubscribe to WWE on YouTube: http://bit.ly/1...</td>\n",
       "      <td>NaN</td>\n",
       "      <td>NaN</td>\n",
       "      <td>NaN</td>\n",
       "      <td>NaN</td>\n",
       "      <td>NaN</td>\n",
       "      <td>NaN</td>\n",
       "      <td>NaN</td>\n",
       "      <td>NaN</td>\n",
       "      <td>NaN</td>\n",
       "      <td>NaN</td>\n",
       "      <td>NaN</td>\n",
       "      <td>NaN</td>\n",
       "      <td>NaN</td>\n",
       "      <td>NaN</td>\n",
       "      <td>NaN</td>\n",
       "    </tr>\n",
       "    <tr>\n",
       "      <th>320</th>\n",
       "      <td>\\nVisit WWE.com: http://goo.gl/akf0J4</td>\n",
       "      <td>NaN</td>\n",
       "      <td>NaN</td>\n",
       "      <td>NaN</td>\n",
       "      <td>NaN</td>\n",
       "      <td>NaN</td>\n",
       "      <td>NaN</td>\n",
       "      <td>NaN</td>\n",
       "      <td>NaN</td>\n",
       "      <td>NaN</td>\n",
       "      <td>NaN</td>\n",
       "      <td>NaN</td>\n",
       "      <td>NaN</td>\n",
       "      <td>NaN</td>\n",
       "      <td>NaN</td>\n",
       "      <td>NaN</td>\n",
       "    </tr>\n",
       "    <tr>\n",
       "      <th>...</th>\n",
       "      <td>...</td>\n",
       "      <td>...</td>\n",
       "      <td>...</td>\n",
       "      <td>...</td>\n",
       "      <td>...</td>\n",
       "      <td>...</td>\n",
       "      <td>...</td>\n",
       "      <td>...</td>\n",
       "      <td>...</td>\n",
       "      <td>...</td>\n",
       "      <td>...</td>\n",
       "      <td>...</td>\n",
       "      <td>...</td>\n",
       "      <td>...</td>\n",
       "      <td>...</td>\n",
       "      <td>...</td>\n",
       "    </tr>\n",
       "    <tr>\n",
       "      <th>36570</th>\n",
       "      <td>Follow me on Twitter ► https://twitter.com/mar...</td>\n",
       "      <td>NaN</td>\n",
       "      <td>NaN</td>\n",
       "      <td>NaN</td>\n",
       "      <td>NaN</td>\n",
       "      <td>NaN</td>\n",
       "      <td>NaN</td>\n",
       "      <td>NaN</td>\n",
       "      <td>NaN</td>\n",
       "      <td>NaN</td>\n",
       "      <td>NaN</td>\n",
       "      <td>NaN</td>\n",
       "      <td>NaN</td>\n",
       "      <td>NaN</td>\n",
       "      <td>NaN</td>\n",
       "      <td>NaN</td>\n",
       "    </tr>\n",
       "    <tr>\n",
       "      <th>36571</th>\n",
       "      <td>Like me on Facebook ► https://www.facebook.com...</td>\n",
       "      <td>NaN</td>\n",
       "      <td>NaN</td>\n",
       "      <td>NaN</td>\n",
       "      <td>NaN</td>\n",
       "      <td>NaN</td>\n",
       "      <td>NaN</td>\n",
       "      <td>NaN</td>\n",
       "      <td>NaN</td>\n",
       "      <td>NaN</td>\n",
       "      <td>NaN</td>\n",
       "      <td>NaN</td>\n",
       "      <td>NaN</td>\n",
       "      <td>NaN</td>\n",
       "      <td>NaN</td>\n",
       "      <td>NaN</td>\n",
       "    </tr>\n",
       "    <tr>\n",
       "      <th>36572</th>\n",
       "      <td>Join us on Reddit! ► https://www.reddit.com/r/...</td>\n",
       "      <td>NaN</td>\n",
       "      <td>NaN</td>\n",
       "      <td>NaN</td>\n",
       "      <td>NaN</td>\n",
       "      <td>NaN</td>\n",
       "      <td>NaN</td>\n",
       "      <td>NaN</td>\n",
       "      <td>NaN</td>\n",
       "      <td>NaN</td>\n",
       "      <td>NaN</td>\n",
       "      <td>NaN</td>\n",
       "      <td>NaN</td>\n",
       "      <td>NaN</td>\n",
       "      <td>NaN</td>\n",
       "      <td>NaN</td>\n",
       "    </tr>\n",
       "    <tr>\n",
       "      <th>36573</th>\n",
       "      <td>Horror Outro ► https://soundcloud.com/shurkoff...</td>\n",
       "      <td>NaN</td>\n",
       "      <td>NaN</td>\n",
       "      <td>NaN</td>\n",
       "      <td>NaN</td>\n",
       "      <td>NaN</td>\n",
       "      <td>NaN</td>\n",
       "      <td>NaN</td>\n",
       "      <td>NaN</td>\n",
       "      <td>NaN</td>\n",
       "      <td>NaN</td>\n",
       "      <td>NaN</td>\n",
       "      <td>NaN</td>\n",
       "      <td>NaN</td>\n",
       "      <td>NaN</td>\n",
       "      <td>NaN</td>\n",
       "    </tr>\n",
       "    <tr>\n",
       "      <th>36574</th>\n",
       "      <td>Happy Outro ► https://soundcloud.com/hielia/mi...</td>\n",
       "      <td>NaN</td>\n",
       "      <td>NaN</td>\n",
       "      <td>NaN</td>\n",
       "      <td>NaN</td>\n",
       "      <td>NaN</td>\n",
       "      <td>NaN</td>\n",
       "      <td>NaN</td>\n",
       "      <td>NaN</td>\n",
       "      <td>NaN</td>\n",
       "      <td>NaN</td>\n",
       "      <td>NaN</td>\n",
       "      <td>NaN</td>\n",
       "      <td>NaN</td>\n",
       "      <td>NaN</td>\n",
       "      <td>NaN</td>\n",
       "    </tr>\n",
       "  </tbody>\n",
       "</table>\n",
       "<p>466 rows × 16 columns</p>\n",
       "</div>"
      ],
      "text/plain": [
       "                                                video_id trending_date title  \\\n",
       "53     \\nSubscribe to WWE on YouTube: http://bit.ly/1...           NaN   NaN   \n",
       "54                 \\nVisit WWE.com: http://goo.gl/akf0J4           NaN   NaN   \n",
       "55     \\nMust-See WWE videos on YouTube: https://goo....           NaN   NaN   \n",
       "319    \\nSubscribe to WWE on YouTube: http://bit.ly/1...           NaN   NaN   \n",
       "320                \\nVisit WWE.com: http://goo.gl/akf0J4           NaN   NaN   \n",
       "...                                                  ...           ...   ...   \n",
       "36570  Follow me on Twitter ► https://twitter.com/mar...           NaN   NaN   \n",
       "36571  Like me on Facebook ► https://www.facebook.com...           NaN   NaN   \n",
       "36572  Join us on Reddit! ► https://www.reddit.com/r/...           NaN   NaN   \n",
       "36573  Horror Outro ► https://soundcloud.com/shurkoff...           NaN   NaN   \n",
       "36574  Happy Outro ► https://soundcloud.com/hielia/mi...           NaN   NaN   \n",
       "\n",
       "      channel_title  category_id publish_time tags  views  likes  dislikes  \\\n",
       "53              NaN          NaN          NaN  NaN    NaN    NaN       NaN   \n",
       "54              NaN          NaN          NaN  NaN    NaN    NaN       NaN   \n",
       "55              NaN          NaN          NaN  NaN    NaN    NaN       NaN   \n",
       "319             NaN          NaN          NaN  NaN    NaN    NaN       NaN   \n",
       "320             NaN          NaN          NaN  NaN    NaN    NaN       NaN   \n",
       "...             ...          ...          ...  ...    ...    ...       ...   \n",
       "36570           NaN          NaN          NaN  NaN    NaN    NaN       NaN   \n",
       "36571           NaN          NaN          NaN  NaN    NaN    NaN       NaN   \n",
       "36572           NaN          NaN          NaN  NaN    NaN    NaN       NaN   \n",
       "36573           NaN          NaN          NaN  NaN    NaN    NaN       NaN   \n",
       "36574           NaN          NaN          NaN  NaN    NaN    NaN       NaN   \n",
       "\n",
       "       comment_count thumbnail_link comments_disabled ratings_disabled  \\\n",
       "53               NaN            NaN               NaN              NaN   \n",
       "54               NaN            NaN               NaN              NaN   \n",
       "55               NaN            NaN               NaN              NaN   \n",
       "319              NaN            NaN               NaN              NaN   \n",
       "320              NaN            NaN               NaN              NaN   \n",
       "...              ...            ...               ...              ...   \n",
       "36570            NaN            NaN               NaN              NaN   \n",
       "36571            NaN            NaN               NaN              NaN   \n",
       "36572            NaN            NaN               NaN              NaN   \n",
       "36573            NaN            NaN               NaN              NaN   \n",
       "36574            NaN            NaN               NaN              NaN   \n",
       "\n",
       "      video_error_or_removed description  \n",
       "53                       NaN         NaN  \n",
       "54                       NaN         NaN  \n",
       "55                       NaN         NaN  \n",
       "319                      NaN         NaN  \n",
       "320                      NaN         NaN  \n",
       "...                      ...         ...  \n",
       "36570                    NaN         NaN  \n",
       "36571                    NaN         NaN  \n",
       "36572                    NaN         NaN  \n",
       "36573                    NaN         NaN  \n",
       "36574                    NaN         NaN  \n",
       "\n",
       "[466 rows x 16 columns]"
      ]
     },
     "metadata": {},
     "output_type": "display_data"
    }
   ],
   "source": [
    "# creating bool series True for NaN values \n",
    "bool_series = pd.isnull(df['title']) \n",
    "    \n",
    "# filtering data \n",
    "# displaying data only with title = NaN \n",
    "df[bool_series] "
   ]
  },
  {
   "cell_type": "markdown",
   "metadata": {},
   "source": [
    "Output : As shown in the output image, only the rows having Year = NULL are displayed."
   ]
  },
  {
   "cell_type": "code",
   "execution_count": null,
   "metadata": {},
   "outputs": [
    {
     "data": {
      "text/plain": [
       "video_id                     0\n",
       "trending_date              466\n",
       "title                      466\n",
       "channel_title              466\n",
       "category_id                466\n",
       "publish_time               466\n",
       "tags                       466\n",
       "views                      466\n",
       "likes                      466\n",
       "dislikes                   466\n",
       "comment_count              466\n",
       "thumbnail_link             466\n",
       "comments_disabled          466\n",
       "ratings_disabled           466\n",
       "video_error_or_removed     466\n",
       "description               1036\n",
       "dtype: int64"
      ]
     },
     "metadata": {},
     "output_type": "display_data"
    }
   ],
   "source": [
    "# Missing values in the dataset\n",
    "df.isnull().sum()"
   ]
  },
  {
   "cell_type": "markdown",
   "metadata": {},
   "source": [
    "The values are missing in almost every column !"
   ]
  },
  {
   "cell_type": "code",
   "execution_count": null,
   "metadata": {},
   "outputs": [
    {
     "data": {
      "text/html": [
       "<div>\n",
       "<style scoped>\n",
       "    .dataframe tbody tr th:only-of-type {\n",
       "        vertical-align: middle;\n",
       "    }\n",
       "\n",
       "    .dataframe tbody tr th {\n",
       "        vertical-align: top;\n",
       "    }\n",
       "\n",
       "    .dataframe thead th {\n",
       "        text-align: right;\n",
       "    }\n",
       "</style>\n",
       "<table border=\"1\" class=\"dataframe\">\n",
       "  <thead>\n",
       "    <tr style=\"text-align: right;\">\n",
       "      <th></th>\n",
       "      <th>video_id</th>\n",
       "      <th>tags</th>\n",
       "      <th>likes</th>\n",
       "    </tr>\n",
       "  </thead>\n",
       "  <tbody>\n",
       "    <tr>\n",
       "      <th>42</th>\n",
       "      <td>NZFhMSgbKKM</td>\n",
       "      <td>[none]</td>\n",
       "      <td>7.0</td>\n",
       "    </tr>\n",
       "    <tr>\n",
       "      <th>47</th>\n",
       "      <td>sbcbvuitiTc</td>\n",
       "      <td>NBA|\"Basketball\"|\"Sports\"</td>\n",
       "      <td>2017.0</td>\n",
       "    </tr>\n",
       "    <tr>\n",
       "      <th>53</th>\n",
       "      <td>\\nSubscribe to WWE on YouTube: http://bit.ly/1...</td>\n",
       "      <td>NaN</td>\n",
       "      <td>NaN</td>\n",
       "    </tr>\n",
       "    <tr>\n",
       "      <th>54</th>\n",
       "      <td>\\nVisit WWE.com: http://goo.gl/akf0J4</td>\n",
       "      <td>NaN</td>\n",
       "      <td>NaN</td>\n",
       "    </tr>\n",
       "    <tr>\n",
       "      <th>55</th>\n",
       "      <td>\\nMust-See WWE videos on YouTube: https://goo....</td>\n",
       "      <td>NaN</td>\n",
       "      <td>NaN</td>\n",
       "    </tr>\n",
       "    <tr>\n",
       "      <th>...</th>\n",
       "      <td>...</td>\n",
       "      <td>...</td>\n",
       "      <td>...</td>\n",
       "    </tr>\n",
       "    <tr>\n",
       "      <th>40591</th>\n",
       "      <td>1h7KV2sjUWY</td>\n",
       "      <td>[none]</td>\n",
       "      <td>58806.0</td>\n",
       "    </tr>\n",
       "    <tr>\n",
       "      <th>40791</th>\n",
       "      <td>1h7KV2sjUWY</td>\n",
       "      <td>[none]</td>\n",
       "      <td>58862.0</td>\n",
       "    </tr>\n",
       "    <tr>\n",
       "      <th>41004</th>\n",
       "      <td>1h7KV2sjUWY</td>\n",
       "      <td>[none]</td>\n",
       "      <td>58980.0</td>\n",
       "    </tr>\n",
       "    <tr>\n",
       "      <th>41205</th>\n",
       "      <td>1h7KV2sjUWY</td>\n",
       "      <td>[none]</td>\n",
       "      <td>59090.0</td>\n",
       "    </tr>\n",
       "    <tr>\n",
       "      <th>41411</th>\n",
       "      <td>1h7KV2sjUWY</td>\n",
       "      <td>[none]</td>\n",
       "      <td>60008.0</td>\n",
       "    </tr>\n",
       "  </tbody>\n",
       "</table>\n",
       "<p>1036 rows × 3 columns</p>\n",
       "</div>"
      ],
      "text/plain": [
       "                                                video_id  \\\n",
       "42                                           NZFhMSgbKKM   \n",
       "47                                           sbcbvuitiTc   \n",
       "53     \\nSubscribe to WWE on YouTube: http://bit.ly/1...   \n",
       "54                 \\nVisit WWE.com: http://goo.gl/akf0J4   \n",
       "55     \\nMust-See WWE videos on YouTube: https://goo....   \n",
       "...                                                  ...   \n",
       "40591                                        1h7KV2sjUWY   \n",
       "40791                                        1h7KV2sjUWY   \n",
       "41004                                        1h7KV2sjUWY   \n",
       "41205                                        1h7KV2sjUWY   \n",
       "41411                                        1h7KV2sjUWY   \n",
       "\n",
       "                            tags    likes  \n",
       "42                        [none]      7.0  \n",
       "47     NBA|\"Basketball\"|\"Sports\"   2017.0  \n",
       "53                           NaN      NaN  \n",
       "54                           NaN      NaN  \n",
       "55                           NaN      NaN  \n",
       "...                          ...      ...  \n",
       "40591                     [none]  58806.0  \n",
       "40791                     [none]  58862.0  \n",
       "41004                     [none]  58980.0  \n",
       "41205                     [none]  59090.0  \n",
       "41411                     [none]  60008.0  \n",
       "\n",
       "[1036 rows x 3 columns]"
      ]
     },
     "metadata": {},
     "output_type": "display_data"
    }
   ],
   "source": [
    "# creating bool series True for NaN values \n",
    "bool_series = pd.isnull(df['description']) \n",
    "    \n",
    "# filtering data \n",
    "# displaying data only with Year = NaN \n",
    "df[bool_series][['video_id','tags','likes']]"
   ]
  },
  {
   "cell_type": "code",
   "execution_count": null,
   "metadata": {},
   "outputs": [
    {
     "data": {
      "text/html": [
       "<div>\n",
       "<style scoped>\n",
       "    .dataframe tbody tr th:only-of-type {\n",
       "        vertical-align: middle;\n",
       "    }\n",
       "\n",
       "    .dataframe tbody tr th {\n",
       "        vertical-align: top;\n",
       "    }\n",
       "\n",
       "    .dataframe thead th {\n",
       "        text-align: right;\n",
       "    }\n",
       "</style>\n",
       "<table border=\"1\" class=\"dataframe\">\n",
       "  <thead>\n",
       "    <tr style=\"text-align: right;\">\n",
       "      <th></th>\n",
       "      <th>video_id</th>\n",
       "      <th>trending_date</th>\n",
       "      <th>title</th>\n",
       "      <th>channel_title</th>\n",
       "      <th>category_id</th>\n",
       "      <th>publish_time</th>\n",
       "      <th>tags</th>\n",
       "      <th>views</th>\n",
       "      <th>likes</th>\n",
       "      <th>dislikes</th>\n",
       "      <th>comment_count</th>\n",
       "      <th>thumbnail_link</th>\n",
       "      <th>comments_disabled</th>\n",
       "      <th>ratings_disabled</th>\n",
       "      <th>video_error_or_removed</th>\n",
       "      <th>description</th>\n",
       "    </tr>\n",
       "  </thead>\n",
       "  <tbody>\n",
       "  </tbody>\n",
       "</table>\n",
       "</div>"
      ],
      "text/plain": [
       "Empty DataFrame\n",
       "Columns: [video_id, trending_date, title, channel_title, category_id, publish_time, tags, views, likes, dislikes, comment_count, thumbnail_link, comments_disabled, ratings_disabled, video_error_or_removed, description]\n",
       "Index: []"
      ]
     },
     "metadata": {},
     "output_type": "display_data"
    }
   ],
   "source": [
    "# creating bool series True for NaN values \n",
    "bool_series = pd.isnull(df['video_id']) \n",
    "    \n",
    "# filtering data \n",
    "# displaying data only with Year = NaN \n",
    "df[bool_series]"
   ]
  },
  {
   "cell_type": "markdown",
   "metadata": {},
   "source": [
    "Reasons why there are missing values: \n",
    "\n",
    "**MNAR** : These games were not made from well known companies (third parties) (For the Publisher values) \n",
    "\n",
    "**MCAR** : For the Year value, it may be a transfer of data problem \n"
   ]
  },
  {
   "cell_type": "markdown",
   "metadata": {},
   "source": [
    "## Statistical analysis of dataset\n",
    "\n",
    "Let's get the mean , median , quartiles of each numerical variable within this dataset."
   ]
  },
  {
   "cell_type": "code",
   "execution_count": null,
   "metadata": {},
   "outputs": [
    {
     "name": "stdout",
     "output_type": "stream",
     "text": [
      "<class 'pandas.core.frame.DataFrame'>\n",
      "RangeIndex: 41415 entries, 0 to 41414\n",
      "Data columns (total 16 columns):\n",
      " #   Column                  Non-Null Count  Dtype  \n",
      "---  ------                  --------------  -----  \n",
      " 0   video_id                41415 non-null  object \n",
      " 1   trending_date           40949 non-null  object \n",
      " 2   title                   40949 non-null  object \n",
      " 3   channel_title           40949 non-null  object \n",
      " 4   category_id             40949 non-null  float64\n",
      " 5   publish_time            40949 non-null  object \n",
      " 6   tags                    40949 non-null  object \n",
      " 7   views                   40949 non-null  float64\n",
      " 8   likes                   40949 non-null  float64\n",
      " 9   dislikes                40949 non-null  float64\n",
      " 10  comment_count           40949 non-null  float64\n",
      " 11  thumbnail_link          40949 non-null  object \n",
      " 12  comments_disabled       40949 non-null  object \n",
      " 13  ratings_disabled        40949 non-null  object \n",
      " 14  video_error_or_removed  40949 non-null  object \n",
      " 15  description             40379 non-null  object \n",
      "dtypes: float64(5), object(11)\n",
      "memory usage: 5.1+ MB\n"
     ]
    }
   ],
   "source": [
    "df.info()"
   ]
  },
  {
   "cell_type": "code",
   "execution_count": null,
   "metadata": {},
   "outputs": [
    {
     "data": {
      "text/plain": [
       "category_id               1.997243e+01\n",
       "views                     2.360785e+06\n",
       "likes                     7.426670e+04\n",
       "dislikes                  3.711401e+03\n",
       "comment_count             8.446804e+03\n",
       "comments_disabled         1.545825e-02\n",
       "ratings_disabled          4.127085e-03\n",
       "video_error_or_removed    5.616743e-04\n",
       "dtype: float64"
      ]
     },
     "metadata": {},
     "output_type": "display_data"
    }
   ],
   "source": [
    "#Mean \n",
    "df.mean()"
   ]
  },
  {
   "cell_type": "code",
   "execution_count": null,
   "metadata": {},
   "outputs": [
    {
     "data": {
      "text/plain": [
       "category_id                   24.0\n",
       "views                     681861.0\n",
       "likes                      18091.0\n",
       "dislikes                     631.0\n",
       "comment_count               1856.0\n",
       "comments_disabled              0.0\n",
       "ratings_disabled               0.0\n",
       "video_error_or_removed         0.0\n",
       "dtype: float64"
      ]
     },
     "metadata": {},
     "output_type": "display_data"
    }
   ],
   "source": [
    "#Median\n",
    "df.median()"
   ]
  },
  {
   "cell_type": "code",
   "execution_count": null,
   "metadata": {},
   "outputs": [
    {
     "data": {
      "text/plain": [
       "category_id          17.0\n",
       "views            242329.0\n",
       "likes              5424.0\n",
       "dislikes            202.0\n",
       "comment_count       614.0\n",
       "Name: 0.25, dtype: float64"
      ]
     },
     "metadata": {},
     "output_type": "display_data"
    }
   ],
   "source": [
    "# Quartiles\n",
    "df.quantile(q = 0.25)"
   ]
  },
  {
   "cell_type": "code",
   "execution_count": null,
   "metadata": {},
   "outputs": [
    {
     "data": {
      "text/plain": [
       "category_id           25.0\n",
       "views            1823157.0\n",
       "likes              55417.0\n",
       "dislikes            1938.0\n",
       "comment_count       5755.0\n",
       "Name: 0.75, dtype: float64"
      ]
     },
     "metadata": {},
     "output_type": "display_data"
    }
   ],
   "source": [
    "df.quantile(q = 0.75)"
   ]
  },
  {
   "cell_type": "markdown",
   "metadata": {},
   "source": [
    "## Spotting outliers\n",
    "\n",
    "An outlier is an observation that lies an abnormal distance from other values in a random sample from a population.\n",
    "\n",
    "Here, we are trying to spot the possible outliers in your dataset and get rid of them.\n",
    "\n",
    "https://statisticsbyjim.com/basics/outliers/#:~:text=Boxplots%2C%20histograms%2C%20and%20scatterplots%20can,below%20displays%20our%20example%20dataset."
   ]
  },
  {
   "cell_type": "markdown",
   "metadata": {},
   "source": [
    "### By box-plot"
   ]
  },
  {
   "cell_type": "code",
   "execution_count": null,
   "metadata": {},
   "outputs": [
    {
     "data": {
      "text/plain": [
       "<AxesSubplot:>"
      ]
     },
     "metadata": {},
     "output_type": "display_data"
    },
    {
     "data": {
      "image/png": "[encoded data removed]",
      "text/plain": [
       "<Figure size 1440x1800 with 1 Axes>"
      ]
     },
     "metadata": {},
     "output_type": "display_data"
    }
   ],
   "source": [
    "df.boxplot(figsize=(20,25))"
   ]
  },
  {
   "cell_type": "code",
   "execution_count": null,
   "metadata": {},
   "outputs": [
    {
     "data": {
      "text/plain": [
       "<AxesSubplot:>"
      ]
     },
     "metadata": {},
     "output_type": "display_data"
    },
    {
     "data": {
      "image/png": "[encoded data removed]",
      "text/plain": [
       "<Figure size 720x1080 with 1 Axes>"
      ]
     },
     "metadata": {},
     "output_type": "display_data"
    }
   ],
   "source": [
    "df.boxplot(column='comment_count',figsize=(10,15))"
   ]
  },
  {
   "cell_type": "code",
   "execution_count": null,
   "metadata": {},
   "outputs": [
    {
     "data": {
      "text/plain": [
       "<AxesSubplot:>"
      ]
     },
     "metadata": {},
     "output_type": "display_data"
    },
    {
     "data": {
      "image/png": "[encoded data removed]",
      "text/plain": [
       "<Figure size 720x1080 with 1 Axes>"
      ]
     },
     "metadata": {},
     "output_type": "display_data"
    }
   ],
   "source": [
    "df.boxplot(column='views',figsize=(10,15))"
   ]
  },
  {
   "cell_type": "code",
   "execution_count": null,
   "metadata": {},
   "outputs": [
    {
     "data": {
      "text/plain": [
       "<AxesSubplot:>"
      ]
     },
     "metadata": {},
     "output_type": "display_data"
    },
    {
     "data": {
      "image/png": "[encoded data removed]",
      "text/plain": [
       "<Figure size 1440x1800 with 1 Axes>"
      ]
     },
     "metadata": {},
     "output_type": "display_data"
    }
   ],
   "source": [
    "df.boxplot(column='category_id',figsize=(20,25))"
   ]
  },
  {
   "cell_type": "markdown",
   "metadata": {},
   "source": [
    "### By histogram"
   ]
  },
  {
   "cell_type": "code",
   "execution_count": null,
   "metadata": {},
   "outputs": [
    {
     "data": {
      "text/plain": [
       "array([[<AxesSubplot:title={'center':'category_id'}>,\n",
       "        <AxesSubplot:title={'center':'views'}>],\n",
       "       [<AxesSubplot:title={'center':'likes'}>,\n",
       "        <AxesSubplot:title={'center':'dislikes'}>],\n",
       "       [<AxesSubplot:title={'center':'comment_count'}>, <AxesSubplot:>]],\n",
       "      dtype=object)"
      ]
     },
     "metadata": {},
     "output_type": "display_data"
    },
    {
     "data": {
      "image/png": "[encoded data removed]",
      "text/plain": [
       "<Figure size 1080x576 with 6 Axes>"
      ]
     },
     "metadata": {},
     "output_type": "display_data"
    }
   ],
   "source": [
    "df.hist(bins=3,figsize=(15,8), color='#86bf91', zorder=2, rwidth=0.9)"
   ]
  },
  {
   "cell_type": "markdown",
   "metadata": {},
   "source": [
    "It's diffult to see with the histograms in our case."
   ]
  },
  {
   "cell_type": "markdown",
   "metadata": {},
   "source": [
    "### By Z-score\n",
    "What Is a Z-Score? A Z-score is a numerical measurement that describes a value's relationship to the mean of a group of values. Z-score is measured in terms of standard deviations from the mean. If a Z-score is 0, it indicates that the data point's score is identical to the mean score.\n",
    "\n",
    "\n",
    "An outlier of a dataset is defined as a value that is more than 3 standard deviations from the mean. Removing outliers from a pandas.DataFrame removes any rows in the DataFrame which contain an outlier. Outlier calculations are performed separately for each column.\n",
    "\n"
   ]
  },
  {
   "cell_type": "code",
   "execution_count": null,
   "metadata": {},
   "outputs": [
    {
     "data": {
      "text/html": [
       "<div>\n",
       "<style scoped>\n",
       "    .dataframe tbody tr th:only-of-type {\n",
       "        vertical-align: middle;\n",
       "    }\n",
       "\n",
       "    .dataframe tbody tr th {\n",
       "        vertical-align: top;\n",
       "    }\n",
       "\n",
       "    .dataframe thead th {\n",
       "        text-align: right;\n",
       "    }\n",
       "</style>\n",
       "<table border=\"1\" class=\"dataframe\">\n",
       "  <thead>\n",
       "    <tr style=\"text-align: right;\">\n",
       "      <th></th>\n",
       "      <th>video_id</th>\n",
       "      <th>trending_date</th>\n",
       "      <th>title</th>\n",
       "      <th>channel_title</th>\n",
       "      <th>category_id</th>\n",
       "      <th>publish_time</th>\n",
       "      <th>tags</th>\n",
       "      <th>views</th>\n",
       "      <th>likes</th>\n",
       "      <th>dislikes</th>\n",
       "      <th>comment_count</th>\n",
       "      <th>thumbnail_link</th>\n",
       "      <th>comments_disabled</th>\n",
       "      <th>ratings_disabled</th>\n",
       "      <th>video_error_or_removed</th>\n",
       "      <th>description</th>\n",
       "    </tr>\n",
       "  </thead>\n",
       "  <tbody>\n",
       "    <tr>\n",
       "      <th>0</th>\n",
       "      <td>2kyS6SvSYSE</td>\n",
       "      <td>17.14.11</td>\n",
       "      <td>WE WANT TO TALK ABOUT OUR MARRIAGE</td>\n",
       "      <td>CaseyNeistat</td>\n",
       "      <td>22.0</td>\n",
       "      <td>2017-11-13T17:13:01.000Z</td>\n",
       "      <td>SHANtell martin</td>\n",
       "      <td>748374.0</td>\n",
       "      <td>57527.0</td>\n",
       "      <td>2966.0</td>\n",
       "      <td>15954.0</td>\n",
       "      <td>https://i.ytimg.com/vi/2kyS6SvSYSE/default.jpg</td>\n",
       "      <td>False</td>\n",
       "      <td>False</td>\n",
       "      <td>False</td>\n",
       "      <td>SHANTELL'S CHANNEL - https://www.youtube.com/s...</td>\n",
       "    </tr>\n",
       "    <tr>\n",
       "      <th>1</th>\n",
       "      <td>1ZAPwfrtAFY</td>\n",
       "      <td>17.14.11</td>\n",
       "      <td>The Trump Presidency: Last Week Tonight with J...</td>\n",
       "      <td>LastWeekTonight</td>\n",
       "      <td>24.0</td>\n",
       "      <td>2017-11-13T07:30:00.000Z</td>\n",
       "      <td>last week tonight trump presidency|\"last week ...</td>\n",
       "      <td>2418783.0</td>\n",
       "      <td>97185.0</td>\n",
       "      <td>6146.0</td>\n",
       "      <td>12703.0</td>\n",
       "      <td>https://i.ytimg.com/vi/1ZAPwfrtAFY/default.jpg</td>\n",
       "      <td>False</td>\n",
       "      <td>False</td>\n",
       "      <td>False</td>\n",
       "      <td>One year after the presidential election, John...</td>\n",
       "    </tr>\n",
       "    <tr>\n",
       "      <th>2</th>\n",
       "      <td>5qpjK5DgCt4</td>\n",
       "      <td>17.14.11</td>\n",
       "      <td>Racist Superman | Rudy Mancuso, King Bach &amp; Le...</td>\n",
       "      <td>Rudy Mancuso</td>\n",
       "      <td>23.0</td>\n",
       "      <td>2017-11-12T19:05:24.000Z</td>\n",
       "      <td>racist superman|\"rudy\"|\"mancuso\"|\"king\"|\"bach\"...</td>\n",
       "      <td>3191434.0</td>\n",
       "      <td>146033.0</td>\n",
       "      <td>5339.0</td>\n",
       "      <td>8181.0</td>\n",
       "      <td>https://i.ytimg.com/vi/5qpjK5DgCt4/default.jpg</td>\n",
       "      <td>False</td>\n",
       "      <td>False</td>\n",
       "      <td>False</td>\n",
       "      <td>WATCH MY PREVIOUS VIDEO ▶ \\n\\nSUBSCRIBE ► http...</td>\n",
       "    </tr>\n",
       "  </tbody>\n",
       "</table>\n",
       "</div>"
      ],
      "text/plain": [
       "      video_id trending_date  \\\n",
       "0  2kyS6SvSYSE      17.14.11   \n",
       "1  1ZAPwfrtAFY      17.14.11   \n",
       "2  5qpjK5DgCt4      17.14.11   \n",
       "\n",
       "                                               title    channel_title  \\\n",
       "0                 WE WANT TO TALK ABOUT OUR MARRIAGE     CaseyNeistat   \n",
       "1  The Trump Presidency: Last Week Tonight with J...  LastWeekTonight   \n",
       "2  Racist Superman | Rudy Mancuso, King Bach & Le...     Rudy Mancuso   \n",
       "\n",
       "   category_id              publish_time  \\\n",
       "0         22.0  2017-11-13T17:13:01.000Z   \n",
       "1         24.0  2017-11-13T07:30:00.000Z   \n",
       "2         23.0  2017-11-12T19:05:24.000Z   \n",
       "\n",
       "                                                tags      views     likes  \\\n",
       "0                                    SHANtell martin   748374.0   57527.0   \n",
       "1  last week tonight trump presidency|\"last week ...  2418783.0   97185.0   \n",
       "2  racist superman|\"rudy\"|\"mancuso\"|\"king\"|\"bach\"...  3191434.0  146033.0   \n",
       "\n",
       "   dislikes  comment_count                                  thumbnail_link  \\\n",
       "0    2966.0        15954.0  https://i.ytimg.com/vi/2kyS6SvSYSE/default.jpg   \n",
       "1    6146.0        12703.0  https://i.ytimg.com/vi/1ZAPwfrtAFY/default.jpg   \n",
       "2    5339.0         8181.0  https://i.ytimg.com/vi/5qpjK5DgCt4/default.jpg   \n",
       "\n",
       "  comments_disabled ratings_disabled video_error_or_removed  \\\n",
       "0             False            False                  False   \n",
       "1             False            False                  False   \n",
       "2             False            False                  False   \n",
       "\n",
       "                                         description  \n",
       "0  SHANTELL'S CHANNEL - https://www.youtube.com/s...  \n",
       "1  One year after the presidential election, John...  \n",
       "2  WATCH MY PREVIOUS VIDEO ▶ \\n\\nSUBSCRIBE ► http...  "
      ]
     },
     "metadata": {},
     "output_type": "display_data"
    }
   ],
   "source": [
    "df.head(3)"
   ]
  },
  {
   "cell_type": "code",
   "execution_count": null,
   "metadata": {},
   "outputs": [
    {
     "data": {
      "text/plain": [
       "7.568326828280351"
      ]
     },
     "metadata": {},
     "output_type": "display_data"
    }
   ],
   "source": [
    "df['category_id'].std()"
   ]
  },
  {
   "cell_type": "code",
   "execution_count": null,
   "metadata": {},
   "outputs": [],
   "source": [
    "from scipy import stats\n",
    "import numpy as np\n",
    "\n",
    "z_scores = stats.zscore(df['category_id'])"
   ]
  },
  {
   "cell_type": "markdown",
   "metadata": {},
   "source": [
    "## Unique categories"
   ]
  },
  {
   "cell_type": "markdown",
   "metadata": {},
   "source": [
    "There are **17 categories** in total."
   ]
  },
  {
   "cell_type": "code",
   "execution_count": null,
   "metadata": {},
   "outputs": [
    {
     "data": {
      "text/plain": [
       "17"
      ]
     },
     "metadata": {},
     "output_type": "display_data"
    }
   ],
   "source": [
    "len(df.category_id.unique())"
   ]
  },
  {
   "cell_type": "markdown",
   "metadata": {},
   "source": [
    "## Column type Adjustment\n",
    "\n",
    "Is there any column that we need to adjust its type ?\n",
    "\n",
    "The non-numerical variable will be converted to a numerical variable by mapping each unique label to a binary vector; the method is called one hot because for each vector only one value is non-null (hot) and the others are all zeros.\n",
    "\n",
    "**One hot encoding** can be defined as the essential process of converting the categorical data variables to be provided to machine and deep learning algorithms which in turn improve predictions as well as classification accuracy of a model."
   ]
  },
  {
   "cell_type": "code",
   "execution_count": null,
   "metadata": {},
   "outputs": [
    {
     "name": "stdout",
     "output_type": "stream",
     "text": [
      "<class 'pandas.core.frame.DataFrame'>\n",
      "RangeIndex: 41415 entries, 0 to 41414\n",
      "Data columns (total 16 columns):\n",
      " #   Column                  Non-Null Count  Dtype  \n",
      "---  ------                  --------------  -----  \n",
      " 0   video_id                41415 non-null  object \n",
      " 1   trending_date           40949 non-null  object \n",
      " 2   title                   40949 non-null  object \n",
      " 3   channel_title           40949 non-null  object \n",
      " 4   category_id             40949 non-null  float64\n",
      " 5   publish_time            40949 non-null  object \n",
      " 6   tags                    40949 non-null  object \n",
      " 7   views                   40949 non-null  float64\n",
      " 8   likes                   40949 non-null  float64\n",
      " 9   dislikes                40949 non-null  float64\n",
      " 10  comment_count           40949 non-null  float64\n",
      " 11  thumbnail_link          40949 non-null  object \n",
      " 12  comments_disabled       40949 non-null  object \n",
      " 13  ratings_disabled        40949 non-null  object \n",
      " 14  video_error_or_removed  40949 non-null  object \n",
      " 15  description             40379 non-null  object \n",
      "dtypes: float64(5), object(11)\n",
      "memory usage: 5.1+ MB\n"
     ]
    }
   ],
   "source": [
    "df.info()"
   ]
  },
  {
   "cell_type": "markdown",
   "metadata": {},
   "source": [
    "We notice that we have 11 \"object\" types, that are more likely to be strings.\n",
    "\n",
    "We cannot, however encode all of them! Some of them are titles, description or date.\n",
    "\n",
    "These are another matter of work... For example, when it comes to \"textual\" data, there are many ways to do so <a href=\"https://medium.com/analytics-vidhya/nlp-text-encoding-a-beginners-guide-fa332d715854\">(Text encoding for NLP)</a>, or even for encoding datetime <a href=\"https://ianlondon.github.io/blog/encoding-cyclical-features-24hour-time/\">(datetime cycling)</a>"
   ]
  },
  {
   "cell_type": "code",
   "execution_count": null,
   "metadata": {},
   "outputs": [
    {
     "data": {
      "text/html": [
       "<div>\n",
       "<style scoped>\n",
       "    .dataframe tbody tr th:only-of-type {\n",
       "        vertical-align: middle;\n",
       "    }\n",
       "\n",
       "    .dataframe tbody tr th {\n",
       "        vertical-align: top;\n",
       "    }\n",
       "\n",
       "    .dataframe thead th {\n",
       "        text-align: right;\n",
       "    }\n",
       "</style>\n",
       "<table border=\"1\" class=\"dataframe\">\n",
       "  <thead>\n",
       "    <tr style=\"text-align: right;\">\n",
       "      <th></th>\n",
       "      <th>video_id</th>\n",
       "      <th>trending_date</th>\n",
       "      <th>title</th>\n",
       "      <th>channel_title</th>\n",
       "      <th>category_id</th>\n",
       "      <th>publish_time</th>\n",
       "      <th>tags</th>\n",
       "      <th>views</th>\n",
       "      <th>likes</th>\n",
       "      <th>dislikes</th>\n",
       "      <th>comment_count</th>\n",
       "      <th>thumbnail_link</th>\n",
       "      <th>comments_disabled</th>\n",
       "      <th>ratings_disabled</th>\n",
       "      <th>video_error_or_removed</th>\n",
       "      <th>description</th>\n",
       "    </tr>\n",
       "  </thead>\n",
       "  <tbody>\n",
       "    <tr>\n",
       "      <th>0</th>\n",
       "      <td>2kyS6SvSYSE</td>\n",
       "      <td>17.14.11</td>\n",
       "      <td>WE WANT TO TALK ABOUT OUR MARRIAGE</td>\n",
       "      <td>CaseyNeistat</td>\n",
       "      <td>22.0</td>\n",
       "      <td>2017-11-13T17:13:01.000Z</td>\n",
       "      <td>SHANtell martin</td>\n",
       "      <td>748374.0</td>\n",
       "      <td>57527.0</td>\n",
       "      <td>2966.0</td>\n",
       "      <td>15954.0</td>\n",
       "      <td>https://i.ytimg.com/vi/2kyS6SvSYSE/default.jpg</td>\n",
       "      <td>False</td>\n",
       "      <td>False</td>\n",
       "      <td>False</td>\n",
       "      <td>SHANTELL'S CHANNEL - https://www.youtube.com/s...</td>\n",
       "    </tr>\n",
       "    <tr>\n",
       "      <th>1</th>\n",
       "      <td>1ZAPwfrtAFY</td>\n",
       "      <td>17.14.11</td>\n",
       "      <td>The Trump Presidency: Last Week Tonight with J...</td>\n",
       "      <td>LastWeekTonight</td>\n",
       "      <td>24.0</td>\n",
       "      <td>2017-11-13T07:30:00.000Z</td>\n",
       "      <td>last week tonight trump presidency|\"last week ...</td>\n",
       "      <td>2418783.0</td>\n",
       "      <td>97185.0</td>\n",
       "      <td>6146.0</td>\n",
       "      <td>12703.0</td>\n",
       "      <td>https://i.ytimg.com/vi/1ZAPwfrtAFY/default.jpg</td>\n",
       "      <td>False</td>\n",
       "      <td>False</td>\n",
       "      <td>False</td>\n",
       "      <td>One year after the presidential election, John...</td>\n",
       "    </tr>\n",
       "    <tr>\n",
       "      <th>2</th>\n",
       "      <td>5qpjK5DgCt4</td>\n",
       "      <td>17.14.11</td>\n",
       "      <td>Racist Superman | Rudy Mancuso, King Bach &amp; Le...</td>\n",
       "      <td>Rudy Mancuso</td>\n",
       "      <td>23.0</td>\n",
       "      <td>2017-11-12T19:05:24.000Z</td>\n",
       "      <td>racist superman|\"rudy\"|\"mancuso\"|\"king\"|\"bach\"...</td>\n",
       "      <td>3191434.0</td>\n",
       "      <td>146033.0</td>\n",
       "      <td>5339.0</td>\n",
       "      <td>8181.0</td>\n",
       "      <td>https://i.ytimg.com/vi/5qpjK5DgCt4/default.jpg</td>\n",
       "      <td>False</td>\n",
       "      <td>False</td>\n",
       "      <td>False</td>\n",
       "      <td>WATCH MY PREVIOUS VIDEO ▶ \\n\\nSUBSCRIBE ► http...</td>\n",
       "    </tr>\n",
       "    <tr>\n",
       "      <th>3</th>\n",
       "      <td>puqaWrEC7tY</td>\n",
       "      <td>17.14.11</td>\n",
       "      <td>Nickelback Lyrics: Real or Fake?</td>\n",
       "      <td>Good Mythical Morning</td>\n",
       "      <td>24.0</td>\n",
       "      <td>2017-11-13T11:00:04.000Z</td>\n",
       "      <td>rhett and link|\"gmm\"|\"good mythical morning\"|\"...</td>\n",
       "      <td>343168.0</td>\n",
       "      <td>10172.0</td>\n",
       "      <td>666.0</td>\n",
       "      <td>2146.0</td>\n",
       "      <td>https://i.ytimg.com/vi/puqaWrEC7tY/default.jpg</td>\n",
       "      <td>False</td>\n",
       "      <td>False</td>\n",
       "      <td>False</td>\n",
       "      <td>Today we find out if Link is a Nickelback amat...</td>\n",
       "    </tr>\n",
       "    <tr>\n",
       "      <th>4</th>\n",
       "      <td>d380meD0W0M</td>\n",
       "      <td>17.14.11</td>\n",
       "      <td>I Dare You: GOING BALD!?</td>\n",
       "      <td>nigahiga</td>\n",
       "      <td>24.0</td>\n",
       "      <td>2017-11-12T18:01:41.000Z</td>\n",
       "      <td>ryan|\"higa\"|\"higatv\"|\"nigahiga\"|\"i dare you\"|\"...</td>\n",
       "      <td>2095731.0</td>\n",
       "      <td>132235.0</td>\n",
       "      <td>1989.0</td>\n",
       "      <td>17518.0</td>\n",
       "      <td>https://i.ytimg.com/vi/d380meD0W0M/default.jpg</td>\n",
       "      <td>False</td>\n",
       "      <td>False</td>\n",
       "      <td>False</td>\n",
       "      <td>I know it's been a while since we did this sho...</td>\n",
       "    </tr>\n",
       "  </tbody>\n",
       "</table>\n",
       "</div>"
      ],
      "text/plain": [
       "      video_id trending_date  \\\n",
       "0  2kyS6SvSYSE      17.14.11   \n",
       "1  1ZAPwfrtAFY      17.14.11   \n",
       "2  5qpjK5DgCt4      17.14.11   \n",
       "3  puqaWrEC7tY      17.14.11   \n",
       "4  d380meD0W0M      17.14.11   \n",
       "\n",
       "                                               title          channel_title  \\\n",
       "0                 WE WANT TO TALK ABOUT OUR MARRIAGE           CaseyNeistat   \n",
       "1  The Trump Presidency: Last Week Tonight with J...        LastWeekTonight   \n",
       "2  Racist Superman | Rudy Mancuso, King Bach & Le...           Rudy Mancuso   \n",
       "3                   Nickelback Lyrics: Real or Fake?  Good Mythical Morning   \n",
       "4                           I Dare You: GOING BALD!?               nigahiga   \n",
       "\n",
       "   category_id              publish_time  \\\n",
       "0         22.0  2017-11-13T17:13:01.000Z   \n",
       "1         24.0  2017-11-13T07:30:00.000Z   \n",
       "2         23.0  2017-11-12T19:05:24.000Z   \n",
       "3         24.0  2017-11-13T11:00:04.000Z   \n",
       "4         24.0  2017-11-12T18:01:41.000Z   \n",
       "\n",
       "                                                tags      views     likes  \\\n",
       "0                                    SHANtell martin   748374.0   57527.0   \n",
       "1  last week tonight trump presidency|\"last week ...  2418783.0   97185.0   \n",
       "2  racist superman|\"rudy\"|\"mancuso\"|\"king\"|\"bach\"...  3191434.0  146033.0   \n",
       "3  rhett and link|\"gmm\"|\"good mythical morning\"|\"...   343168.0   10172.0   \n",
       "4  ryan|\"higa\"|\"higatv\"|\"nigahiga\"|\"i dare you\"|\"...  2095731.0  132235.0   \n",
       "\n",
       "   dislikes  comment_count                                  thumbnail_link  \\\n",
       "0    2966.0        15954.0  https://i.ytimg.com/vi/2kyS6SvSYSE/default.jpg   \n",
       "1    6146.0        12703.0  https://i.ytimg.com/vi/1ZAPwfrtAFY/default.jpg   \n",
       "2    5339.0         8181.0  https://i.ytimg.com/vi/5qpjK5DgCt4/default.jpg   \n",
       "3     666.0         2146.0  https://i.ytimg.com/vi/puqaWrEC7tY/default.jpg   \n",
       "4    1989.0        17518.0  https://i.ytimg.com/vi/d380meD0W0M/default.jpg   \n",
       "\n",
       "  comments_disabled ratings_disabled video_error_or_removed  \\\n",
       "0             False            False                  False   \n",
       "1             False            False                  False   \n",
       "2             False            False                  False   \n",
       "3             False            False                  False   \n",
       "4             False            False                  False   \n",
       "\n",
       "                                         description  \n",
       "0  SHANTELL'S CHANNEL - https://www.youtube.com/s...  \n",
       "1  One year after the presidential election, John...  \n",
       "2  WATCH MY PREVIOUS VIDEO ▶ \\n\\nSUBSCRIBE ► http...  \n",
       "3  Today we find out if Link is a Nickelback amat...  \n",
       "4  I know it's been a while since we did this sho...  "
      ]
     },
     "metadata": {},
     "output_type": "display_data"
    }
   ],
   "source": [
    "df.head()"
   ]
  },
  {
   "cell_type": "code",
   "execution_count": null,
   "metadata": {},
   "outputs": [
    {
     "data": {
      "text/plain": [
       "3"
      ]
     },
     "metadata": {},
     "output_type": "display_data"
    }
   ],
   "source": [
    "len(df.comments_disabled.unique())"
   ]
  },
  {
   "cell_type": "code",
   "execution_count": null,
   "metadata": {},
   "outputs": [],
   "source": [
    "comments_disabled = pd.get_dummies(df.comments_disabled, prefix='comments_disabled')"
   ]
  },
  {
   "cell_type": "code",
   "execution_count": null,
   "metadata": {},
   "outputs": [
    {
     "data": {
      "text/html": [
       "<div>\n",
       "<style scoped>\n",
       "    .dataframe tbody tr th:only-of-type {\n",
       "        vertical-align: middle;\n",
       "    }\n",
       "\n",
       "    .dataframe tbody tr th {\n",
       "        vertical-align: top;\n",
       "    }\n",
       "\n",
       "    .dataframe thead th {\n",
       "        text-align: right;\n",
       "    }\n",
       "</style>\n",
       "<table border=\"1\" class=\"dataframe\">\n",
       "  <thead>\n",
       "    <tr style=\"text-align: right;\">\n",
       "      <th></th>\n",
       "      <th>comments_disabled_False</th>\n",
       "      <th>comments_disabled_True</th>\n",
       "    </tr>\n",
       "  </thead>\n",
       "  <tbody>\n",
       "    <tr>\n",
       "      <th>0</th>\n",
       "      <td>1</td>\n",
       "      <td>0</td>\n",
       "    </tr>\n",
       "    <tr>\n",
       "      <th>1</th>\n",
       "      <td>1</td>\n",
       "      <td>0</td>\n",
       "    </tr>\n",
       "    <tr>\n",
       "      <th>2</th>\n",
       "      <td>1</td>\n",
       "      <td>0</td>\n",
       "    </tr>\n",
       "    <tr>\n",
       "      <th>3</th>\n",
       "      <td>1</td>\n",
       "      <td>0</td>\n",
       "    </tr>\n",
       "    <tr>\n",
       "      <th>4</th>\n",
       "      <td>1</td>\n",
       "      <td>0</td>\n",
       "    </tr>\n",
       "    <tr>\n",
       "      <th>...</th>\n",
       "      <td>...</td>\n",
       "      <td>...</td>\n",
       "    </tr>\n",
       "    <tr>\n",
       "      <th>41410</th>\n",
       "      <td>1</td>\n",
       "      <td>0</td>\n",
       "    </tr>\n",
       "    <tr>\n",
       "      <th>41411</th>\n",
       "      <td>1</td>\n",
       "      <td>0</td>\n",
       "    </tr>\n",
       "    <tr>\n",
       "      <th>41412</th>\n",
       "      <td>1</td>\n",
       "      <td>0</td>\n",
       "    </tr>\n",
       "    <tr>\n",
       "      <th>41413</th>\n",
       "      <td>1</td>\n",
       "      <td>0</td>\n",
       "    </tr>\n",
       "    <tr>\n",
       "      <th>41414</th>\n",
       "      <td>1</td>\n",
       "      <td>0</td>\n",
       "    </tr>\n",
       "  </tbody>\n",
       "</table>\n",
       "<p>41415 rows × 2 columns</p>\n",
       "</div>"
      ],
      "text/plain": [
       "       comments_disabled_False  comments_disabled_True\n",
       "0                            1                       0\n",
       "1                            1                       0\n",
       "2                            1                       0\n",
       "3                            1                       0\n",
       "4                            1                       0\n",
       "...                        ...                     ...\n",
       "41410                        1                       0\n",
       "41411                        1                       0\n",
       "41412                        1                       0\n",
       "41413                        1                       0\n",
       "41414                        1                       0\n",
       "\n",
       "[41415 rows x 2 columns]"
      ]
     },
     "metadata": {},
     "output_type": "display_data"
    }
   ],
   "source": [
    "comments_disabled"
   ]
  },
  {
   "cell_type": "markdown",
   "metadata": {},
   "source": [
    "We can encode many columns such as comments_disabled, channel_title,ratings_disabled\t and video_error_or_removed."
   ]
  },
  {
   "cell_type": "markdown",
   "metadata": {},
   "source": [
    "## Common tags\n",
    "\n",
    "Get how many tags you have and which are the most common tags ?"
   ]
  },
  {
   "cell_type": "code",
   "execution_count": null,
   "metadata": {},
   "outputs": [
    {
     "data": {
      "text/plain": [
       "6056"
      ]
     },
     "metadata": {},
     "output_type": "display_data"
    }
   ],
   "source": [
    "len(df['tags'].unique())"
   ]
  },
  {
   "cell_type": "code",
   "execution_count": null,
   "metadata": {},
   "outputs": [
    {
     "data": {
      "text/plain": [
       "[none]                                                                                                                                                                                                                                                                                                                                                                                                                                                                                                        1535\n",
       "ABC|\"americanidol\"|\"idol\"|\"american idol\"|\"ryan\"|\"seacrest\"|\"ryan seacrest\"|\"katy\"|\"perry\"|\"katy perry\"|\"luke\"|\"bryan\"|\"luke bryan\"|\"lionel\"|\"richie\"|\"lionel richie\"|\"season 16\"|\"american idol XVI\"|\"television\"|\"ad\"|\"spring\"|\"2018\"|\"music\"|\"reality\"|\"competition\"|\"song\"|\"sing\"|\"audition\"|\"auditions\"|\"performance\"|\"live\"|\"fox\"|\"AI\"|\"hollywood\"|\"contestant\"|\"official\"|\"american\"|\"official american idol\"|\"hollywood week\"|\"hometown audition\"                                                       87\n",
       "Jacksfilms|\"Jack Douglass\"|\"YGS\"|\"YGS 100\"|\"YGS 50\"|\"The Best of Your Grammar Sucks\"|\"Your Grammar Sucks\"|\"YIAY\"|\"Yesterday I Asked You\"|\"Fidget Spinners\"|\"Emoji Movie\"|\"Kermit Sings\"|\"JackAsk\"|\"Jack Ask\"|\"Dubstep Solves Everything\"|\"Frozen 2\"|\"iPhone Parody\"|\"Apple Parody\"                                                                                                                                                                                                                              80\n",
       "James Corden|\"The Late Late Show\"|\"Colbert\"|\"late night\"|\"late night show\"|\"Stephen Colbert\"|\"Comedy\"|\"monologue\"|\"comedian\"|\"impressions\"|\"celebrities\"|\"carpool\"|\"karaoke\"|\"CBS\"|\"Late Late Show\"|\"Corden\"|\"joke\"|\"jokes\"|\"funny\"|\"funny video\"|\"funny videos\"|\"humor\"|\"celebrity\"|\"celeb\"|\"hollywood\"|\"famous\"                                                                                                                                                                                               71\n",
       "The Late Show|\"Stephen Colbert\"|\"Colbert\"|\"Late Show\"|\"celebrities\"|\"late night\"|\"talk show\"|\"skits\"|\"bit\"|\"monologue\"|\"The Late Late Show\"|\"Late Late Show\"|\"letterman\"|\"david letterman\"|\"comedian\"|\"impressions\"|\"CBS\"|\"joke\"|\"jokes\"|\"funny\"|\"funny video\"|\"funny videos\"|\"humor\"|\"celebrity\"|\"celeb\"|\"hollywood\"|\"famous\"|\"James Corden\"|\"Corden\"|\"Comedy\"                                                                                                                                                 66\n",
       "                                                                                                                                                                                                                                                                                                                                                                                                                                                                                                              ... \n",
       "jimmy|\"kimmel\"|\"live\"|\"late\"|\"night\"|\"talk\"|\"show\"|\"funny\"|\"comedic\"|\"comedy\"|\"clip\"|\"comedian\"|\"melissa\"|\"benoist\"|\"supergirl\"|\"disneyland\"|\"sondheim\"|\"david\"|\"koresh\"|\"waco\"|\"dancer\"|\"actor\"|\"singer\"|\"david koresh\"|\"melissa benoist\"                                                                                                                                                                                                                                                                       1\n",
       "Tig Notaro|\"Louis CK\"|\"The View\"|\"hot topics\"|\"sexual misconduct\"|\"Amazon\"|\"One Mississippi\"|\"comedy\"|\"comedian\"|\"stand-up\"                                                                                                                                                                                                                                                                                                                                                                                      1\n",
       "latest News|\"Happening Now\"|\"CNN\"|\"neil degrasse tyson\"|\"ufo\"|\"department of defense\"|\"aliens\"|\"ufo video\"|\"new day\"|\"science & technology\"|\"science\"|\"us news\"                                                                                                                                                                                                                                                                                                                                                  1\n",
       "bbc|\"bbc news\"|\"news\"|\"Golden Globes\"|\"Golden Globes 2018\"                                                                                                                                                                                                                                                                                                                                                                                                                                                       1\n",
       "ellen|\"ellen degeneres\"|\"the ellen show\"|\"macaulay culkin\"|\"macaulay\"|\"culkin\"|\"macaulay culkin movies\"|\"macaulay culkin now\"|\"culkin macaulay\"|\"home alone actor\"|\"home alone face\"|\"kevin home alone\"|\"macaulay culkin brother\"|\"siblings\"|\"ballet\"|\"uncle buck\"|\"dancer\"|\"rory culkin\"|\"kieran culkin\"|\"season 15\"|\"season 15 episode 140\"|\"ellen degeneres show tickets\"|\"brenda song\"|\"michael jackson\"|\"macauly culkin and brenda song\"|\"girlfriend\"|\"podcast\"|\"bunny ears\"|\"child star\"|\"interview\"       1\n",
       "Name: tags, Length: 6055, dtype: int64"
      ]
     },
     "metadata": {},
     "output_type": "display_data"
    }
   ],
   "source": [
    "df['tags'].value_counts()"
   ]
  },
  {
   "cell_type": "code",
   "execution_count": null,
   "metadata": {},
   "outputs": [],
   "source": []
  }
 ],
 "metadata": {
  "language_info": {
   "name": "python"
  },
  "orig_nbformat": 4
 },
 "nbformat": 4,
 "nbformat_minor": 2
}
